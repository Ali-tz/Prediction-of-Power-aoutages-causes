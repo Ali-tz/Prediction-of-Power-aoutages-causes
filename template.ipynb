{
 "cells": [
  {
   "attachments": {},
   "cell_type": "markdown",
   "metadata": {},
   "source": [
    "# Prediction of causes of Major outages\n",
    "\n",
    "**Name(s)**: Touzi Ali\n",
    "\n",
    "**Website Link**: https://ali-tz.github.io/Prediction-of-Power-outages-causes/ "
   ]
  },
  {
   "attachments": {},
   "cell_type": "markdown",
   "metadata": {},
   "source": [
    "## Code"
   ]
  },
  {
   "attachments": {},
   "cell_type": "markdown",
   "metadata": {},
   "source": [
    "This first part comes from the frist part program at https://github.com/Ali-tz/Does-climate-region-in-the-us-influences-power-outages- ."
   ]
  },
  {
   "cell_type": "code",
   "execution_count": 2,
   "metadata": {
    "ExecuteTime": {
     "end_time": "2019-10-31T23:36:28.652554Z",
     "start_time": "2019-10-31T23:36:27.180520Z"
    }
   },
   "outputs": [],
   "source": [
    "import pandas as pd\n",
    "import numpy as np\n",
    "import os\n",
    "import matplotlib.pyplot as plt\n",
    "\n",
    "import plotly.express as px\n",
    "pd.options.plotting.backend = 'plotly'"
   ]
  },
  {
   "cell_type": "code",
   "execution_count": 3,
   "metadata": {
    "vscode": {
     "languageId": "shellscript"
    }
   },
   "outputs": [
    {
     "name": "stdout",
     "output_type": "stream",
     "text": [
      "Requirement already satisfied: openpyxl in /home/ali-tz/anaconda3/envs/dsc80/lib/python3.8/site-packages (3.1.2)\n",
      "Requirement already satisfied: et-xmlfile in /home/ali-tz/anaconda3/envs/dsc80/lib/python3.8/site-packages (from openpyxl) (1.1.0)\n",
      "Note: you may need to restart the kernel to use updated packages.\n"
     ]
    }
   ],
   "source": [
    "pip install openpyxl"
   ]
  },
  {
   "attachments": {},
   "cell_type": "markdown",
   "metadata": {},
   "source": [
    "### Framing the Problem"
   ]
  },
  {
   "attachments": {},
   "cell_type": "markdown",
   "metadata": {},
   "source": [
    "### Cleaning and EDA"
   ]
  },
  {
   "cell_type": "code",
   "execution_count": 4,
   "metadata": {
    "ExecuteTime": {
     "end_time": "2019-10-31T23:36:28.657068Z",
     "start_time": "2019-10-31T23:36:28.654650Z"
    }
   },
   "outputs": [
    {
     "data": {
      "text/html": [
       "<div>\n",
       "<style scoped>\n",
       "    .dataframe tbody tr th:only-of-type {\n",
       "        vertical-align: middle;\n",
       "    }\n",
       "\n",
       "    .dataframe tbody tr th {\n",
       "        vertical-align: top;\n",
       "    }\n",
       "\n",
       "    .dataframe thead th {\n",
       "        text-align: right;\n",
       "    }\n",
       "</style>\n",
       "<table border=\"1\" class=\"dataframe\">\n",
       "  <thead>\n",
       "    <tr style=\"text-align: right;\">\n",
       "      <th></th>\n",
       "      <th>Major power outage events in the continental U.S.</th>\n",
       "      <th>Unnamed: 1</th>\n",
       "      <th>Unnamed: 2</th>\n",
       "      <th>Unnamed: 3</th>\n",
       "      <th>Unnamed: 4</th>\n",
       "      <th>Unnamed: 5</th>\n",
       "      <th>Unnamed: 6</th>\n",
       "      <th>Unnamed: 7</th>\n",
       "      <th>Unnamed: 8</th>\n",
       "      <th>Unnamed: 9</th>\n",
       "      <th>...</th>\n",
       "      <th>Unnamed: 47</th>\n",
       "      <th>Unnamed: 48</th>\n",
       "      <th>Unnamed: 49</th>\n",
       "      <th>Unnamed: 50</th>\n",
       "      <th>Unnamed: 51</th>\n",
       "      <th>Unnamed: 52</th>\n",
       "      <th>Unnamed: 53</th>\n",
       "      <th>Unnamed: 54</th>\n",
       "      <th>Unnamed: 55</th>\n",
       "      <th>Unnamed: 56</th>\n",
       "    </tr>\n",
       "  </thead>\n",
       "  <tbody>\n",
       "    <tr>\n",
       "      <th>0</th>\n",
       "      <td>Time period: January 2000 - July 2016</td>\n",
       "      <td>NaN</td>\n",
       "      <td>NaN</td>\n",
       "      <td>NaN</td>\n",
       "      <td>NaN</td>\n",
       "      <td>NaN</td>\n",
       "      <td>NaN</td>\n",
       "      <td>NaN</td>\n",
       "      <td>NaN</td>\n",
       "      <td>NaN</td>\n",
       "      <td>...</td>\n",
       "      <td>NaN</td>\n",
       "      <td>NaN</td>\n",
       "      <td>NaN</td>\n",
       "      <td>NaN</td>\n",
       "      <td>NaN</td>\n",
       "      <td>NaN</td>\n",
       "      <td>NaN</td>\n",
       "      <td>NaN</td>\n",
       "      <td>NaN</td>\n",
       "      <td>NaN</td>\n",
       "    </tr>\n",
       "    <tr>\n",
       "      <th>1</th>\n",
       "      <td>Regions affected: Outages reported in this dat...</td>\n",
       "      <td>NaN</td>\n",
       "      <td>NaN</td>\n",
       "      <td>NaN</td>\n",
       "      <td>NaN</td>\n",
       "      <td>NaN</td>\n",
       "      <td>NaN</td>\n",
       "      <td>NaN</td>\n",
       "      <td>NaN</td>\n",
       "      <td>NaN</td>\n",
       "      <td>...</td>\n",
       "      <td>NaN</td>\n",
       "      <td>NaN</td>\n",
       "      <td>NaN</td>\n",
       "      <td>NaN</td>\n",
       "      <td>NaN</td>\n",
       "      <td>NaN</td>\n",
       "      <td>NaN</td>\n",
       "      <td>NaN</td>\n",
       "      <td>NaN</td>\n",
       "      <td>NaN</td>\n",
       "    </tr>\n",
       "    <tr>\n",
       "      <th>2</th>\n",
       "      <td>NaN</td>\n",
       "      <td>NaN</td>\n",
       "      <td>NaN</td>\n",
       "      <td>NaN</td>\n",
       "      <td>NaN</td>\n",
       "      <td>NaN</td>\n",
       "      <td>NaN</td>\n",
       "      <td>NaN</td>\n",
       "      <td>NaN</td>\n",
       "      <td>NaN</td>\n",
       "      <td>...</td>\n",
       "      <td>NaN</td>\n",
       "      <td>NaN</td>\n",
       "      <td>NaN</td>\n",
       "      <td>NaN</td>\n",
       "      <td>NaN</td>\n",
       "      <td>NaN</td>\n",
       "      <td>NaN</td>\n",
       "      <td>NaN</td>\n",
       "      <td>NaN</td>\n",
       "      <td>NaN</td>\n",
       "    </tr>\n",
       "    <tr>\n",
       "      <th>3</th>\n",
       "      <td>NaN</td>\n",
       "      <td>NaN</td>\n",
       "      <td>NaN</td>\n",
       "      <td>NaN</td>\n",
       "      <td>NaN</td>\n",
       "      <td>NaN</td>\n",
       "      <td>NaN</td>\n",
       "      <td>NaN</td>\n",
       "      <td>NaN</td>\n",
       "      <td>NaN</td>\n",
       "      <td>...</td>\n",
       "      <td>NaN</td>\n",
       "      <td>NaN</td>\n",
       "      <td>NaN</td>\n",
       "      <td>NaN</td>\n",
       "      <td>NaN</td>\n",
       "      <td>NaN</td>\n",
       "      <td>NaN</td>\n",
       "      <td>NaN</td>\n",
       "      <td>NaN</td>\n",
       "      <td>NaN</td>\n",
       "    </tr>\n",
       "    <tr>\n",
       "      <th>4</th>\n",
       "      <td>variables</td>\n",
       "      <td>OBS</td>\n",
       "      <td>YEAR</td>\n",
       "      <td>MONTH</td>\n",
       "      <td>U.S._STATE</td>\n",
       "      <td>POSTAL.CODE</td>\n",
       "      <td>NERC.REGION</td>\n",
       "      <td>CLIMATE.REGION</td>\n",
       "      <td>ANOMALY.LEVEL</td>\n",
       "      <td>CLIMATE.CATEGORY</td>\n",
       "      <td>...</td>\n",
       "      <td>POPPCT_URBAN</td>\n",
       "      <td>POPPCT_UC</td>\n",
       "      <td>POPDEN_URBAN</td>\n",
       "      <td>POPDEN_UC</td>\n",
       "      <td>POPDEN_RURAL</td>\n",
       "      <td>AREAPCT_URBAN</td>\n",
       "      <td>AREAPCT_UC</td>\n",
       "      <td>PCT_LAND</td>\n",
       "      <td>PCT_WATER_TOT</td>\n",
       "      <td>PCT_WATER_INLAND</td>\n",
       "    </tr>\n",
       "    <tr>\n",
       "      <th>5</th>\n",
       "      <td>Units</td>\n",
       "      <td>NaN</td>\n",
       "      <td>NaN</td>\n",
       "      <td>NaN</td>\n",
       "      <td>NaN</td>\n",
       "      <td>NaN</td>\n",
       "      <td>NaN</td>\n",
       "      <td>NaN</td>\n",
       "      <td>numeric</td>\n",
       "      <td>NaN</td>\n",
       "      <td>...</td>\n",
       "      <td>%</td>\n",
       "      <td>%</td>\n",
       "      <td>persons per square mile</td>\n",
       "      <td>persons per square mile</td>\n",
       "      <td>persons per square mile</td>\n",
       "      <td>%</td>\n",
       "      <td>%</td>\n",
       "      <td>%</td>\n",
       "      <td>%</td>\n",
       "      <td>%</td>\n",
       "    </tr>\n",
       "    <tr>\n",
       "      <th>6</th>\n",
       "      <td>NaN</td>\n",
       "      <td>1</td>\n",
       "      <td>2011</td>\n",
       "      <td>7</td>\n",
       "      <td>Minnesota</td>\n",
       "      <td>MN</td>\n",
       "      <td>MRO</td>\n",
       "      <td>East North Central</td>\n",
       "      <td>-0.3</td>\n",
       "      <td>normal</td>\n",
       "      <td>...</td>\n",
       "      <td>73.27</td>\n",
       "      <td>15.28</td>\n",
       "      <td>2279</td>\n",
       "      <td>1700.5</td>\n",
       "      <td>18.2</td>\n",
       "      <td>2.14</td>\n",
       "      <td>0.6</td>\n",
       "      <td>91.592666</td>\n",
       "      <td>8.407334</td>\n",
       "      <td>5.478743</td>\n",
       "    </tr>\n",
       "    <tr>\n",
       "      <th>7</th>\n",
       "      <td>NaN</td>\n",
       "      <td>2</td>\n",
       "      <td>2014</td>\n",
       "      <td>5</td>\n",
       "      <td>Minnesota</td>\n",
       "      <td>MN</td>\n",
       "      <td>MRO</td>\n",
       "      <td>East North Central</td>\n",
       "      <td>-0.1</td>\n",
       "      <td>normal</td>\n",
       "      <td>...</td>\n",
       "      <td>73.27</td>\n",
       "      <td>15.28</td>\n",
       "      <td>2279</td>\n",
       "      <td>1700.5</td>\n",
       "      <td>18.2</td>\n",
       "      <td>2.14</td>\n",
       "      <td>0.6</td>\n",
       "      <td>91.592666</td>\n",
       "      <td>8.407334</td>\n",
       "      <td>5.478743</td>\n",
       "    </tr>\n",
       "    <tr>\n",
       "      <th>8</th>\n",
       "      <td>NaN</td>\n",
       "      <td>3</td>\n",
       "      <td>2010</td>\n",
       "      <td>10</td>\n",
       "      <td>Minnesota</td>\n",
       "      <td>MN</td>\n",
       "      <td>MRO</td>\n",
       "      <td>East North Central</td>\n",
       "      <td>-1.5</td>\n",
       "      <td>cold</td>\n",
       "      <td>...</td>\n",
       "      <td>73.27</td>\n",
       "      <td>15.28</td>\n",
       "      <td>2279</td>\n",
       "      <td>1700.5</td>\n",
       "      <td>18.2</td>\n",
       "      <td>2.14</td>\n",
       "      <td>0.6</td>\n",
       "      <td>91.592666</td>\n",
       "      <td>8.407334</td>\n",
       "      <td>5.478743</td>\n",
       "    </tr>\n",
       "    <tr>\n",
       "      <th>9</th>\n",
       "      <td>NaN</td>\n",
       "      <td>4</td>\n",
       "      <td>2012</td>\n",
       "      <td>6</td>\n",
       "      <td>Minnesota</td>\n",
       "      <td>MN</td>\n",
       "      <td>MRO</td>\n",
       "      <td>East North Central</td>\n",
       "      <td>-0.1</td>\n",
       "      <td>normal</td>\n",
       "      <td>...</td>\n",
       "      <td>73.27</td>\n",
       "      <td>15.28</td>\n",
       "      <td>2279</td>\n",
       "      <td>1700.5</td>\n",
       "      <td>18.2</td>\n",
       "      <td>2.14</td>\n",
       "      <td>0.6</td>\n",
       "      <td>91.592666</td>\n",
       "      <td>8.407334</td>\n",
       "      <td>5.478743</td>\n",
       "    </tr>\n",
       "  </tbody>\n",
       "</table>\n",
       "<p>10 rows × 57 columns</p>\n",
       "</div>"
      ],
      "text/plain": [
       "   Major power outage events in the continental U.S. Unnamed: 1 Unnamed: 2  \\\n",
       "0              Time period: January 2000 - July 2016        NaN        NaN   \n",
       "1  Regions affected: Outages reported in this dat...        NaN        NaN   \n",
       "2                                                NaN        NaN        NaN   \n",
       "3                                                NaN        NaN        NaN   \n",
       "4                                          variables        OBS       YEAR   \n",
       "5                                              Units        NaN        NaN   \n",
       "6                                                NaN          1       2011   \n",
       "7                                                NaN          2       2014   \n",
       "8                                                NaN          3       2010   \n",
       "9                                                NaN          4       2012   \n",
       "\n",
       "  Unnamed: 3  Unnamed: 4   Unnamed: 5   Unnamed: 6          Unnamed: 7  \\\n",
       "0        NaN         NaN          NaN          NaN                 NaN   \n",
       "1        NaN         NaN          NaN          NaN                 NaN   \n",
       "2        NaN         NaN          NaN          NaN                 NaN   \n",
       "3        NaN         NaN          NaN          NaN                 NaN   \n",
       "4      MONTH  U.S._STATE  POSTAL.CODE  NERC.REGION      CLIMATE.REGION   \n",
       "5        NaN         NaN          NaN          NaN                 NaN   \n",
       "6          7   Minnesota           MN          MRO  East North Central   \n",
       "7          5   Minnesota           MN          MRO  East North Central   \n",
       "8         10   Minnesota           MN          MRO  East North Central   \n",
       "9          6   Minnesota           MN          MRO  East North Central   \n",
       "\n",
       "      Unnamed: 8        Unnamed: 9  ...   Unnamed: 47 Unnamed: 48  \\\n",
       "0            NaN               NaN  ...           NaN         NaN   \n",
       "1            NaN               NaN  ...           NaN         NaN   \n",
       "2            NaN               NaN  ...           NaN         NaN   \n",
       "3            NaN               NaN  ...           NaN         NaN   \n",
       "4  ANOMALY.LEVEL  CLIMATE.CATEGORY  ...  POPPCT_URBAN   POPPCT_UC   \n",
       "5        numeric               NaN  ...             %           %   \n",
       "6           -0.3            normal  ...         73.27       15.28   \n",
       "7           -0.1            normal  ...         73.27       15.28   \n",
       "8           -1.5              cold  ...         73.27       15.28   \n",
       "9           -0.1            normal  ...         73.27       15.28   \n",
       "\n",
       "               Unnamed: 49              Unnamed: 50              Unnamed: 51  \\\n",
       "0                      NaN                      NaN                      NaN   \n",
       "1                      NaN                      NaN                      NaN   \n",
       "2                      NaN                      NaN                      NaN   \n",
       "3                      NaN                      NaN                      NaN   \n",
       "4             POPDEN_URBAN                POPDEN_UC             POPDEN_RURAL   \n",
       "5  persons per square mile  persons per square mile  persons per square mile   \n",
       "6                     2279                   1700.5                     18.2   \n",
       "7                     2279                   1700.5                     18.2   \n",
       "8                     2279                   1700.5                     18.2   \n",
       "9                     2279                   1700.5                     18.2   \n",
       "\n",
       "     Unnamed: 52 Unnamed: 53 Unnamed: 54    Unnamed: 55       Unnamed: 56  \n",
       "0            NaN         NaN         NaN            NaN               NaN  \n",
       "1            NaN         NaN         NaN            NaN               NaN  \n",
       "2            NaN         NaN         NaN            NaN               NaN  \n",
       "3            NaN         NaN         NaN            NaN               NaN  \n",
       "4  AREAPCT_URBAN  AREAPCT_UC    PCT_LAND  PCT_WATER_TOT  PCT_WATER_INLAND  \n",
       "5              %           %           %              %                 %  \n",
       "6           2.14         0.6   91.592666       8.407334          5.478743  \n",
       "7           2.14         0.6   91.592666       8.407334          5.478743  \n",
       "8           2.14         0.6   91.592666       8.407334          5.478743  \n",
       "9           2.14         0.6   91.592666       8.407334          5.478743  \n",
       "\n",
       "[10 rows x 57 columns]"
      ]
     },
     "execution_count": 4,
     "metadata": {},
     "output_type": "execute_result"
    }
   ],
   "source": [
    "pow_outage = pd.read_excel('data/outage.xlsx')\n",
    "pow_outage.head(10)"
   ]
  },
  {
   "attachments": {},
   "cell_type": "markdown",
   "metadata": {},
   "source": [
    "### Data Cleaning"
   ]
  },
  {
   "attachments": {},
   "cell_type": "markdown",
   "metadata": {},
   "source": [
    "This raw dataset is not easy to read at this point, let's clean it up a little:\n",
    "-  The first 4 lines represents the title in the excel file, we are only intersted by the fursished tab below. Moreover, we notice we don't have title for our columns because of that, looking depper the columns titles are at the line index 4. \n",
    "- The unit columns is useless, and the first line of the dataset is annoying for future manipulation, we will normalize proportions and for densities denote them in their respective column title. Numeric values will remain the same as the information of numeric seems to be quite obvious facing numbers.\n",
    "- we have two columns for start time (date and time separately) and the same goes on for the restoration date, let's merge this two columns into a signle information.\n",
    "\n",
    "We will denote this three steps as Cleaning step 1, Cleaning step 2, and Cleaning step 3."
   ]
  },
  {
   "attachments": {},
   "cell_type": "markdown",
   "metadata": {},
   "source": [
    "#### Cleaning step1"
   ]
  },
  {
   "cell_type": "code",
   "execution_count": 5,
   "metadata": {},
   "outputs": [
    {
     "data": {
      "text/html": [
       "<div>\n",
       "<style scoped>\n",
       "    .dataframe tbody tr th:only-of-type {\n",
       "        vertical-align: middle;\n",
       "    }\n",
       "\n",
       "    .dataframe tbody tr th {\n",
       "        vertical-align: top;\n",
       "    }\n",
       "\n",
       "    .dataframe thead th {\n",
       "        text-align: right;\n",
       "    }\n",
       "</style>\n",
       "<table border=\"1\" class=\"dataframe\">\n",
       "  <thead>\n",
       "    <tr style=\"text-align: right;\">\n",
       "      <th>4</th>\n",
       "      <th>variables</th>\n",
       "      <th>OBS</th>\n",
       "      <th>YEAR</th>\n",
       "      <th>MONTH</th>\n",
       "      <th>U.S._STATE</th>\n",
       "      <th>POSTAL.CODE</th>\n",
       "      <th>NERC.REGION</th>\n",
       "      <th>CLIMATE.REGION</th>\n",
       "      <th>ANOMALY.LEVEL</th>\n",
       "      <th>CLIMATE.CATEGORY</th>\n",
       "      <th>...</th>\n",
       "      <th>POPPCT_URBAN</th>\n",
       "      <th>POPPCT_UC</th>\n",
       "      <th>POPDEN_URBAN</th>\n",
       "      <th>POPDEN_UC</th>\n",
       "      <th>POPDEN_RURAL</th>\n",
       "      <th>AREAPCT_URBAN</th>\n",
       "      <th>AREAPCT_UC</th>\n",
       "      <th>PCT_LAND</th>\n",
       "      <th>PCT_WATER_TOT</th>\n",
       "      <th>PCT_WATER_INLAND</th>\n",
       "    </tr>\n",
       "  </thead>\n",
       "  <tbody>\n",
       "    <tr>\n",
       "      <th>0</th>\n",
       "      <td>Time period: January 2000 - July 2016</td>\n",
       "      <td>NaN</td>\n",
       "      <td>NaN</td>\n",
       "      <td>NaN</td>\n",
       "      <td>NaN</td>\n",
       "      <td>NaN</td>\n",
       "      <td>NaN</td>\n",
       "      <td>NaN</td>\n",
       "      <td>NaN</td>\n",
       "      <td>NaN</td>\n",
       "      <td>...</td>\n",
       "      <td>NaN</td>\n",
       "      <td>NaN</td>\n",
       "      <td>NaN</td>\n",
       "      <td>NaN</td>\n",
       "      <td>NaN</td>\n",
       "      <td>NaN</td>\n",
       "      <td>NaN</td>\n",
       "      <td>NaN</td>\n",
       "      <td>NaN</td>\n",
       "      <td>NaN</td>\n",
       "    </tr>\n",
       "    <tr>\n",
       "      <th>1</th>\n",
       "      <td>Regions affected: Outages reported in this dat...</td>\n",
       "      <td>NaN</td>\n",
       "      <td>NaN</td>\n",
       "      <td>NaN</td>\n",
       "      <td>NaN</td>\n",
       "      <td>NaN</td>\n",
       "      <td>NaN</td>\n",
       "      <td>NaN</td>\n",
       "      <td>NaN</td>\n",
       "      <td>NaN</td>\n",
       "      <td>...</td>\n",
       "      <td>NaN</td>\n",
       "      <td>NaN</td>\n",
       "      <td>NaN</td>\n",
       "      <td>NaN</td>\n",
       "      <td>NaN</td>\n",
       "      <td>NaN</td>\n",
       "      <td>NaN</td>\n",
       "      <td>NaN</td>\n",
       "      <td>NaN</td>\n",
       "      <td>NaN</td>\n",
       "    </tr>\n",
       "    <tr>\n",
       "      <th>2</th>\n",
       "      <td>NaN</td>\n",
       "      <td>NaN</td>\n",
       "      <td>NaN</td>\n",
       "      <td>NaN</td>\n",
       "      <td>NaN</td>\n",
       "      <td>NaN</td>\n",
       "      <td>NaN</td>\n",
       "      <td>NaN</td>\n",
       "      <td>NaN</td>\n",
       "      <td>NaN</td>\n",
       "      <td>...</td>\n",
       "      <td>NaN</td>\n",
       "      <td>NaN</td>\n",
       "      <td>NaN</td>\n",
       "      <td>NaN</td>\n",
       "      <td>NaN</td>\n",
       "      <td>NaN</td>\n",
       "      <td>NaN</td>\n",
       "      <td>NaN</td>\n",
       "      <td>NaN</td>\n",
       "      <td>NaN</td>\n",
       "    </tr>\n",
       "    <tr>\n",
       "      <th>3</th>\n",
       "      <td>NaN</td>\n",
       "      <td>NaN</td>\n",
       "      <td>NaN</td>\n",
       "      <td>NaN</td>\n",
       "      <td>NaN</td>\n",
       "      <td>NaN</td>\n",
       "      <td>NaN</td>\n",
       "      <td>NaN</td>\n",
       "      <td>NaN</td>\n",
       "      <td>NaN</td>\n",
       "      <td>...</td>\n",
       "      <td>NaN</td>\n",
       "      <td>NaN</td>\n",
       "      <td>NaN</td>\n",
       "      <td>NaN</td>\n",
       "      <td>NaN</td>\n",
       "      <td>NaN</td>\n",
       "      <td>NaN</td>\n",
       "      <td>NaN</td>\n",
       "      <td>NaN</td>\n",
       "      <td>NaN</td>\n",
       "    </tr>\n",
       "    <tr>\n",
       "      <th>4</th>\n",
       "      <td>variables</td>\n",
       "      <td>OBS</td>\n",
       "      <td>YEAR</td>\n",
       "      <td>MONTH</td>\n",
       "      <td>U.S._STATE</td>\n",
       "      <td>POSTAL.CODE</td>\n",
       "      <td>NERC.REGION</td>\n",
       "      <td>CLIMATE.REGION</td>\n",
       "      <td>ANOMALY.LEVEL</td>\n",
       "      <td>CLIMATE.CATEGORY</td>\n",
       "      <td>...</td>\n",
       "      <td>POPPCT_URBAN</td>\n",
       "      <td>POPPCT_UC</td>\n",
       "      <td>POPDEN_URBAN</td>\n",
       "      <td>POPDEN_UC</td>\n",
       "      <td>POPDEN_RURAL</td>\n",
       "      <td>AREAPCT_URBAN</td>\n",
       "      <td>AREAPCT_UC</td>\n",
       "      <td>PCT_LAND</td>\n",
       "      <td>PCT_WATER_TOT</td>\n",
       "      <td>PCT_WATER_INLAND</td>\n",
       "    </tr>\n",
       "    <tr>\n",
       "      <th>5</th>\n",
       "      <td>Units</td>\n",
       "      <td>NaN</td>\n",
       "      <td>NaN</td>\n",
       "      <td>NaN</td>\n",
       "      <td>NaN</td>\n",
       "      <td>NaN</td>\n",
       "      <td>NaN</td>\n",
       "      <td>NaN</td>\n",
       "      <td>numeric</td>\n",
       "      <td>NaN</td>\n",
       "      <td>...</td>\n",
       "      <td>%</td>\n",
       "      <td>%</td>\n",
       "      <td>persons per square mile</td>\n",
       "      <td>persons per square mile</td>\n",
       "      <td>persons per square mile</td>\n",
       "      <td>%</td>\n",
       "      <td>%</td>\n",
       "      <td>%</td>\n",
       "      <td>%</td>\n",
       "      <td>%</td>\n",
       "    </tr>\n",
       "    <tr>\n",
       "      <th>6</th>\n",
       "      <td>NaN</td>\n",
       "      <td>1</td>\n",
       "      <td>2011</td>\n",
       "      <td>7</td>\n",
       "      <td>Minnesota</td>\n",
       "      <td>MN</td>\n",
       "      <td>MRO</td>\n",
       "      <td>East North Central</td>\n",
       "      <td>-0.3</td>\n",
       "      <td>normal</td>\n",
       "      <td>...</td>\n",
       "      <td>73.27</td>\n",
       "      <td>15.28</td>\n",
       "      <td>2279</td>\n",
       "      <td>1700.5</td>\n",
       "      <td>18.2</td>\n",
       "      <td>2.14</td>\n",
       "      <td>0.6</td>\n",
       "      <td>91.592666</td>\n",
       "      <td>8.407334</td>\n",
       "      <td>5.478743</td>\n",
       "    </tr>\n",
       "    <tr>\n",
       "      <th>7</th>\n",
       "      <td>NaN</td>\n",
       "      <td>2</td>\n",
       "      <td>2014</td>\n",
       "      <td>5</td>\n",
       "      <td>Minnesota</td>\n",
       "      <td>MN</td>\n",
       "      <td>MRO</td>\n",
       "      <td>East North Central</td>\n",
       "      <td>-0.1</td>\n",
       "      <td>normal</td>\n",
       "      <td>...</td>\n",
       "      <td>73.27</td>\n",
       "      <td>15.28</td>\n",
       "      <td>2279</td>\n",
       "      <td>1700.5</td>\n",
       "      <td>18.2</td>\n",
       "      <td>2.14</td>\n",
       "      <td>0.6</td>\n",
       "      <td>91.592666</td>\n",
       "      <td>8.407334</td>\n",
       "      <td>5.478743</td>\n",
       "    </tr>\n",
       "    <tr>\n",
       "      <th>8</th>\n",
       "      <td>NaN</td>\n",
       "      <td>3</td>\n",
       "      <td>2010</td>\n",
       "      <td>10</td>\n",
       "      <td>Minnesota</td>\n",
       "      <td>MN</td>\n",
       "      <td>MRO</td>\n",
       "      <td>East North Central</td>\n",
       "      <td>-1.5</td>\n",
       "      <td>cold</td>\n",
       "      <td>...</td>\n",
       "      <td>73.27</td>\n",
       "      <td>15.28</td>\n",
       "      <td>2279</td>\n",
       "      <td>1700.5</td>\n",
       "      <td>18.2</td>\n",
       "      <td>2.14</td>\n",
       "      <td>0.6</td>\n",
       "      <td>91.592666</td>\n",
       "      <td>8.407334</td>\n",
       "      <td>5.478743</td>\n",
       "    </tr>\n",
       "    <tr>\n",
       "      <th>9</th>\n",
       "      <td>NaN</td>\n",
       "      <td>4</td>\n",
       "      <td>2012</td>\n",
       "      <td>6</td>\n",
       "      <td>Minnesota</td>\n",
       "      <td>MN</td>\n",
       "      <td>MRO</td>\n",
       "      <td>East North Central</td>\n",
       "      <td>-0.1</td>\n",
       "      <td>normal</td>\n",
       "      <td>...</td>\n",
       "      <td>73.27</td>\n",
       "      <td>15.28</td>\n",
       "      <td>2279</td>\n",
       "      <td>1700.5</td>\n",
       "      <td>18.2</td>\n",
       "      <td>2.14</td>\n",
       "      <td>0.6</td>\n",
       "      <td>91.592666</td>\n",
       "      <td>8.407334</td>\n",
       "      <td>5.478743</td>\n",
       "    </tr>\n",
       "  </tbody>\n",
       "</table>\n",
       "<p>10 rows × 57 columns</p>\n",
       "</div>"
      ],
      "text/plain": [
       "4                                          variables  OBS  YEAR  MONTH  \\\n",
       "0              Time period: January 2000 - July 2016  NaN   NaN    NaN   \n",
       "1  Regions affected: Outages reported in this dat...  NaN   NaN    NaN   \n",
       "2                                                NaN  NaN   NaN    NaN   \n",
       "3                                                NaN  NaN   NaN    NaN   \n",
       "4                                          variables  OBS  YEAR  MONTH   \n",
       "5                                              Units  NaN   NaN    NaN   \n",
       "6                                                NaN    1  2011      7   \n",
       "7                                                NaN    2  2014      5   \n",
       "8                                                NaN    3  2010     10   \n",
       "9                                                NaN    4  2012      6   \n",
       "\n",
       "4  U.S._STATE  POSTAL.CODE  NERC.REGION      CLIMATE.REGION  ANOMALY.LEVEL  \\\n",
       "0         NaN          NaN          NaN                 NaN            NaN   \n",
       "1         NaN          NaN          NaN                 NaN            NaN   \n",
       "2         NaN          NaN          NaN                 NaN            NaN   \n",
       "3         NaN          NaN          NaN                 NaN            NaN   \n",
       "4  U.S._STATE  POSTAL.CODE  NERC.REGION      CLIMATE.REGION  ANOMALY.LEVEL   \n",
       "5         NaN          NaN          NaN                 NaN        numeric   \n",
       "6   Minnesota           MN          MRO  East North Central           -0.3   \n",
       "7   Minnesota           MN          MRO  East North Central           -0.1   \n",
       "8   Minnesota           MN          MRO  East North Central           -1.5   \n",
       "9   Minnesota           MN          MRO  East North Central           -0.1   \n",
       "\n",
       "4  CLIMATE.CATEGORY  ...  POPPCT_URBAN  POPPCT_UC             POPDEN_URBAN  \\\n",
       "0               NaN  ...           NaN        NaN                      NaN   \n",
       "1               NaN  ...           NaN        NaN                      NaN   \n",
       "2               NaN  ...           NaN        NaN                      NaN   \n",
       "3               NaN  ...           NaN        NaN                      NaN   \n",
       "4  CLIMATE.CATEGORY  ...  POPPCT_URBAN  POPPCT_UC             POPDEN_URBAN   \n",
       "5               NaN  ...             %          %  persons per square mile   \n",
       "6            normal  ...         73.27      15.28                     2279   \n",
       "7            normal  ...         73.27      15.28                     2279   \n",
       "8              cold  ...         73.27      15.28                     2279   \n",
       "9            normal  ...         73.27      15.28                     2279   \n",
       "\n",
       "4                POPDEN_UC             POPDEN_RURAL  AREAPCT_URBAN  \\\n",
       "0                      NaN                      NaN            NaN   \n",
       "1                      NaN                      NaN            NaN   \n",
       "2                      NaN                      NaN            NaN   \n",
       "3                      NaN                      NaN            NaN   \n",
       "4                POPDEN_UC             POPDEN_RURAL  AREAPCT_URBAN   \n",
       "5  persons per square mile  persons per square mile              %   \n",
       "6                   1700.5                     18.2           2.14   \n",
       "7                   1700.5                     18.2           2.14   \n",
       "8                   1700.5                     18.2           2.14   \n",
       "9                   1700.5                     18.2           2.14   \n",
       "\n",
       "4  AREAPCT_UC   PCT_LAND  PCT_WATER_TOT  PCT_WATER_INLAND  \n",
       "0         NaN        NaN            NaN               NaN  \n",
       "1         NaN        NaN            NaN               NaN  \n",
       "2         NaN        NaN            NaN               NaN  \n",
       "3         NaN        NaN            NaN               NaN  \n",
       "4  AREAPCT_UC   PCT_LAND  PCT_WATER_TOT  PCT_WATER_INLAND  \n",
       "5           %          %              %                 %  \n",
       "6         0.6  91.592666       8.407334          5.478743  \n",
       "7         0.6  91.592666       8.407334          5.478743  \n",
       "8         0.6  91.592666       8.407334          5.478743  \n",
       "9         0.6  91.592666       8.407334          5.478743  \n",
       "\n",
       "[10 rows x 57 columns]"
      ]
     },
     "execution_count": 5,
     "metadata": {},
     "output_type": "execute_result"
    }
   ],
   "source": [
    "pow_outage.columns = pow_outage.iloc[4]\n",
    "pow_outage = pow_outage.reset_index(drop=True)\n",
    "pow_outage.head(10)"
   ]
  },
  {
   "cell_type": "code",
   "execution_count": 6,
   "metadata": {},
   "outputs": [
    {
     "data": {
      "text/html": [
       "<div>\n",
       "<style scoped>\n",
       "    .dataframe tbody tr th:only-of-type {\n",
       "        vertical-align: middle;\n",
       "    }\n",
       "\n",
       "    .dataframe tbody tr th {\n",
       "        vertical-align: top;\n",
       "    }\n",
       "\n",
       "    .dataframe thead th {\n",
       "        text-align: right;\n",
       "    }\n",
       "</style>\n",
       "<table border=\"1\" class=\"dataframe\">\n",
       "  <thead>\n",
       "    <tr style=\"text-align: right;\">\n",
       "      <th>4</th>\n",
       "      <th>variables</th>\n",
       "      <th>OBS</th>\n",
       "      <th>YEAR</th>\n",
       "      <th>MONTH</th>\n",
       "      <th>U.S._STATE</th>\n",
       "      <th>POSTAL.CODE</th>\n",
       "      <th>NERC.REGION</th>\n",
       "      <th>CLIMATE.REGION</th>\n",
       "      <th>ANOMALY.LEVEL</th>\n",
       "      <th>CLIMATE.CATEGORY</th>\n",
       "      <th>...</th>\n",
       "      <th>POPPCT_URBAN</th>\n",
       "      <th>POPPCT_UC</th>\n",
       "      <th>POPDEN_URBAN</th>\n",
       "      <th>POPDEN_UC</th>\n",
       "      <th>POPDEN_RURAL</th>\n",
       "      <th>AREAPCT_URBAN</th>\n",
       "      <th>AREAPCT_UC</th>\n",
       "      <th>PCT_LAND</th>\n",
       "      <th>PCT_WATER_TOT</th>\n",
       "      <th>PCT_WATER_INLAND</th>\n",
       "    </tr>\n",
       "  </thead>\n",
       "  <tbody>\n",
       "    <tr>\n",
       "      <th>0</th>\n",
       "      <td>Units</td>\n",
       "      <td>NaN</td>\n",
       "      <td>NaN</td>\n",
       "      <td>NaN</td>\n",
       "      <td>NaN</td>\n",
       "      <td>NaN</td>\n",
       "      <td>NaN</td>\n",
       "      <td>NaN</td>\n",
       "      <td>numeric</td>\n",
       "      <td>NaN</td>\n",
       "      <td>...</td>\n",
       "      <td>%</td>\n",
       "      <td>%</td>\n",
       "      <td>persons per square mile</td>\n",
       "      <td>persons per square mile</td>\n",
       "      <td>persons per square mile</td>\n",
       "      <td>%</td>\n",
       "      <td>%</td>\n",
       "      <td>%</td>\n",
       "      <td>%</td>\n",
       "      <td>%</td>\n",
       "    </tr>\n",
       "    <tr>\n",
       "      <th>1</th>\n",
       "      <td>NaN</td>\n",
       "      <td>1</td>\n",
       "      <td>2011</td>\n",
       "      <td>7</td>\n",
       "      <td>Minnesota</td>\n",
       "      <td>MN</td>\n",
       "      <td>MRO</td>\n",
       "      <td>East North Central</td>\n",
       "      <td>-0.3</td>\n",
       "      <td>normal</td>\n",
       "      <td>...</td>\n",
       "      <td>73.27</td>\n",
       "      <td>15.28</td>\n",
       "      <td>2279</td>\n",
       "      <td>1700.5</td>\n",
       "      <td>18.2</td>\n",
       "      <td>2.14</td>\n",
       "      <td>0.6</td>\n",
       "      <td>91.592666</td>\n",
       "      <td>8.407334</td>\n",
       "      <td>5.478743</td>\n",
       "    </tr>\n",
       "    <tr>\n",
       "      <th>2</th>\n",
       "      <td>NaN</td>\n",
       "      <td>2</td>\n",
       "      <td>2014</td>\n",
       "      <td>5</td>\n",
       "      <td>Minnesota</td>\n",
       "      <td>MN</td>\n",
       "      <td>MRO</td>\n",
       "      <td>East North Central</td>\n",
       "      <td>-0.1</td>\n",
       "      <td>normal</td>\n",
       "      <td>...</td>\n",
       "      <td>73.27</td>\n",
       "      <td>15.28</td>\n",
       "      <td>2279</td>\n",
       "      <td>1700.5</td>\n",
       "      <td>18.2</td>\n",
       "      <td>2.14</td>\n",
       "      <td>0.6</td>\n",
       "      <td>91.592666</td>\n",
       "      <td>8.407334</td>\n",
       "      <td>5.478743</td>\n",
       "    </tr>\n",
       "    <tr>\n",
       "      <th>3</th>\n",
       "      <td>NaN</td>\n",
       "      <td>3</td>\n",
       "      <td>2010</td>\n",
       "      <td>10</td>\n",
       "      <td>Minnesota</td>\n",
       "      <td>MN</td>\n",
       "      <td>MRO</td>\n",
       "      <td>East North Central</td>\n",
       "      <td>-1.5</td>\n",
       "      <td>cold</td>\n",
       "      <td>...</td>\n",
       "      <td>73.27</td>\n",
       "      <td>15.28</td>\n",
       "      <td>2279</td>\n",
       "      <td>1700.5</td>\n",
       "      <td>18.2</td>\n",
       "      <td>2.14</td>\n",
       "      <td>0.6</td>\n",
       "      <td>91.592666</td>\n",
       "      <td>8.407334</td>\n",
       "      <td>5.478743</td>\n",
       "    </tr>\n",
       "    <tr>\n",
       "      <th>4</th>\n",
       "      <td>NaN</td>\n",
       "      <td>4</td>\n",
       "      <td>2012</td>\n",
       "      <td>6</td>\n",
       "      <td>Minnesota</td>\n",
       "      <td>MN</td>\n",
       "      <td>MRO</td>\n",
       "      <td>East North Central</td>\n",
       "      <td>-0.1</td>\n",
       "      <td>normal</td>\n",
       "      <td>...</td>\n",
       "      <td>73.27</td>\n",
       "      <td>15.28</td>\n",
       "      <td>2279</td>\n",
       "      <td>1700.5</td>\n",
       "      <td>18.2</td>\n",
       "      <td>2.14</td>\n",
       "      <td>0.6</td>\n",
       "      <td>91.592666</td>\n",
       "      <td>8.407334</td>\n",
       "      <td>5.478743</td>\n",
       "    </tr>\n",
       "    <tr>\n",
       "      <th>5</th>\n",
       "      <td>NaN</td>\n",
       "      <td>5</td>\n",
       "      <td>2015</td>\n",
       "      <td>7</td>\n",
       "      <td>Minnesota</td>\n",
       "      <td>MN</td>\n",
       "      <td>MRO</td>\n",
       "      <td>East North Central</td>\n",
       "      <td>1.2</td>\n",
       "      <td>warm</td>\n",
       "      <td>...</td>\n",
       "      <td>73.27</td>\n",
       "      <td>15.28</td>\n",
       "      <td>2279</td>\n",
       "      <td>1700.5</td>\n",
       "      <td>18.2</td>\n",
       "      <td>2.14</td>\n",
       "      <td>0.6</td>\n",
       "      <td>91.592666</td>\n",
       "      <td>8.407334</td>\n",
       "      <td>5.478743</td>\n",
       "    </tr>\n",
       "    <tr>\n",
       "      <th>6</th>\n",
       "      <td>NaN</td>\n",
       "      <td>6</td>\n",
       "      <td>2010</td>\n",
       "      <td>11</td>\n",
       "      <td>Minnesota</td>\n",
       "      <td>MN</td>\n",
       "      <td>MRO</td>\n",
       "      <td>East North Central</td>\n",
       "      <td>-1.4</td>\n",
       "      <td>cold</td>\n",
       "      <td>...</td>\n",
       "      <td>73.27</td>\n",
       "      <td>15.28</td>\n",
       "      <td>2279</td>\n",
       "      <td>1700.5</td>\n",
       "      <td>18.2</td>\n",
       "      <td>2.14</td>\n",
       "      <td>0.6</td>\n",
       "      <td>91.592666</td>\n",
       "      <td>8.407334</td>\n",
       "      <td>5.478743</td>\n",
       "    </tr>\n",
       "    <tr>\n",
       "      <th>7</th>\n",
       "      <td>NaN</td>\n",
       "      <td>7</td>\n",
       "      <td>2010</td>\n",
       "      <td>7</td>\n",
       "      <td>Minnesota</td>\n",
       "      <td>MN</td>\n",
       "      <td>MRO</td>\n",
       "      <td>East North Central</td>\n",
       "      <td>-0.9</td>\n",
       "      <td>cold</td>\n",
       "      <td>...</td>\n",
       "      <td>73.27</td>\n",
       "      <td>15.28</td>\n",
       "      <td>2279</td>\n",
       "      <td>1700.5</td>\n",
       "      <td>18.2</td>\n",
       "      <td>2.14</td>\n",
       "      <td>0.6</td>\n",
       "      <td>91.592666</td>\n",
       "      <td>8.407334</td>\n",
       "      <td>5.478743</td>\n",
       "    </tr>\n",
       "    <tr>\n",
       "      <th>8</th>\n",
       "      <td>NaN</td>\n",
       "      <td>8</td>\n",
       "      <td>2005</td>\n",
       "      <td>6</td>\n",
       "      <td>Minnesota</td>\n",
       "      <td>MN</td>\n",
       "      <td>MRO</td>\n",
       "      <td>East North Central</td>\n",
       "      <td>0.2</td>\n",
       "      <td>normal</td>\n",
       "      <td>...</td>\n",
       "      <td>73.27</td>\n",
       "      <td>15.28</td>\n",
       "      <td>2279</td>\n",
       "      <td>1700.5</td>\n",
       "      <td>18.2</td>\n",
       "      <td>2.14</td>\n",
       "      <td>0.6</td>\n",
       "      <td>91.592666</td>\n",
       "      <td>8.407334</td>\n",
       "      <td>5.478743</td>\n",
       "    </tr>\n",
       "    <tr>\n",
       "      <th>9</th>\n",
       "      <td>NaN</td>\n",
       "      <td>9</td>\n",
       "      <td>2015</td>\n",
       "      <td>3</td>\n",
       "      <td>Minnesota</td>\n",
       "      <td>MN</td>\n",
       "      <td>MRO</td>\n",
       "      <td>East North Central</td>\n",
       "      <td>0.6</td>\n",
       "      <td>warm</td>\n",
       "      <td>...</td>\n",
       "      <td>73.27</td>\n",
       "      <td>15.28</td>\n",
       "      <td>2279</td>\n",
       "      <td>1700.5</td>\n",
       "      <td>18.2</td>\n",
       "      <td>2.14</td>\n",
       "      <td>0.6</td>\n",
       "      <td>91.592666</td>\n",
       "      <td>8.407334</td>\n",
       "      <td>5.478743</td>\n",
       "    </tr>\n",
       "  </tbody>\n",
       "</table>\n",
       "<p>10 rows × 57 columns</p>\n",
       "</div>"
      ],
      "text/plain": [
       "4 variables  OBS  YEAR MONTH U.S._STATE POSTAL.CODE NERC.REGION  \\\n",
       "0     Units  NaN   NaN   NaN        NaN         NaN         NaN   \n",
       "1       NaN    1  2011     7  Minnesota          MN         MRO   \n",
       "2       NaN    2  2014     5  Minnesota          MN         MRO   \n",
       "3       NaN    3  2010    10  Minnesota          MN         MRO   \n",
       "4       NaN    4  2012     6  Minnesota          MN         MRO   \n",
       "5       NaN    5  2015     7  Minnesota          MN         MRO   \n",
       "6       NaN    6  2010    11  Minnesota          MN         MRO   \n",
       "7       NaN    7  2010     7  Minnesota          MN         MRO   \n",
       "8       NaN    8  2005     6  Minnesota          MN         MRO   \n",
       "9       NaN    9  2015     3  Minnesota          MN         MRO   \n",
       "\n",
       "4      CLIMATE.REGION ANOMALY.LEVEL CLIMATE.CATEGORY  ... POPPCT_URBAN  \\\n",
       "0                 NaN       numeric              NaN  ...            %   \n",
       "1  East North Central          -0.3           normal  ...        73.27   \n",
       "2  East North Central          -0.1           normal  ...        73.27   \n",
       "3  East North Central          -1.5             cold  ...        73.27   \n",
       "4  East North Central          -0.1           normal  ...        73.27   \n",
       "5  East North Central           1.2             warm  ...        73.27   \n",
       "6  East North Central          -1.4             cold  ...        73.27   \n",
       "7  East North Central          -0.9             cold  ...        73.27   \n",
       "8  East North Central           0.2           normal  ...        73.27   \n",
       "9  East North Central           0.6             warm  ...        73.27   \n",
       "\n",
       "4 POPPCT_UC             POPDEN_URBAN                POPDEN_UC  \\\n",
       "0         %  persons per square mile  persons per square mile   \n",
       "1     15.28                     2279                   1700.5   \n",
       "2     15.28                     2279                   1700.5   \n",
       "3     15.28                     2279                   1700.5   \n",
       "4     15.28                     2279                   1700.5   \n",
       "5     15.28                     2279                   1700.5   \n",
       "6     15.28                     2279                   1700.5   \n",
       "7     15.28                     2279                   1700.5   \n",
       "8     15.28                     2279                   1700.5   \n",
       "9     15.28                     2279                   1700.5   \n",
       "\n",
       "4             POPDEN_RURAL AREAPCT_URBAN AREAPCT_UC   PCT_LAND PCT_WATER_TOT  \\\n",
       "0  persons per square mile             %          %          %             %   \n",
       "1                     18.2          2.14        0.6  91.592666      8.407334   \n",
       "2                     18.2          2.14        0.6  91.592666      8.407334   \n",
       "3                     18.2          2.14        0.6  91.592666      8.407334   \n",
       "4                     18.2          2.14        0.6  91.592666      8.407334   \n",
       "5                     18.2          2.14        0.6  91.592666      8.407334   \n",
       "6                     18.2          2.14        0.6  91.592666      8.407334   \n",
       "7                     18.2          2.14        0.6  91.592666      8.407334   \n",
       "8                     18.2          2.14        0.6  91.592666      8.407334   \n",
       "9                     18.2          2.14        0.6  91.592666      8.407334   \n",
       "\n",
       "4 PCT_WATER_INLAND  \n",
       "0                %  \n",
       "1         5.478743  \n",
       "2         5.478743  \n",
       "3         5.478743  \n",
       "4         5.478743  \n",
       "5         5.478743  \n",
       "6         5.478743  \n",
       "7         5.478743  \n",
       "8         5.478743  \n",
       "9         5.478743  \n",
       "\n",
       "[10 rows x 57 columns]"
      ]
     },
     "execution_count": 6,
     "metadata": {},
     "output_type": "execute_result"
    }
   ],
   "source": [
    "pow_outage = pow_outage.drop(pow_outage.index[:5]).reset_index(drop=True)\n",
    "pow_outage.head(10)"
   ]
  },
  {
   "attachments": {},
   "cell_type": "markdown",
   "metadata": {},
   "source": [
    "#### Cleaning step 2"
   ]
  },
  {
   "attachments": {},
   "cell_type": "markdown",
   "metadata": {},
   "source": [
    "First, lets normalize columns with proportions."
   ]
  },
  {
   "cell_type": "code",
   "execution_count": 7,
   "metadata": {},
   "outputs": [
    {
     "data": {
      "text/html": [
       "<div>\n",
       "<style scoped>\n",
       "    .dataframe tbody tr th:only-of-type {\n",
       "        vertical-align: middle;\n",
       "    }\n",
       "\n",
       "    .dataframe tbody tr th {\n",
       "        vertical-align: top;\n",
       "    }\n",
       "\n",
       "    .dataframe thead th {\n",
       "        text-align: right;\n",
       "    }\n",
       "</style>\n",
       "<table border=\"1\" class=\"dataframe\">\n",
       "  <thead>\n",
       "    <tr style=\"text-align: right;\">\n",
       "      <th>4</th>\n",
       "      <th>variables</th>\n",
       "      <th>OBS</th>\n",
       "      <th>YEAR</th>\n",
       "      <th>MONTH</th>\n",
       "      <th>U.S._STATE</th>\n",
       "      <th>POSTAL.CODE</th>\n",
       "      <th>NERC.REGION</th>\n",
       "      <th>CLIMATE.REGION</th>\n",
       "      <th>ANOMALY.LEVEL</th>\n",
       "      <th>CLIMATE.CATEGORY</th>\n",
       "      <th>...</th>\n",
       "      <th>POPPCT_URBAN</th>\n",
       "      <th>POPPCT_UC</th>\n",
       "      <th>POPDEN_URBAN</th>\n",
       "      <th>POPDEN_UC</th>\n",
       "      <th>POPDEN_RURAL</th>\n",
       "      <th>AREAPCT_URBAN</th>\n",
       "      <th>AREAPCT_UC</th>\n",
       "      <th>PCT_LAND</th>\n",
       "      <th>PCT_WATER_TOT</th>\n",
       "      <th>PCT_WATER_INLAND</th>\n",
       "    </tr>\n",
       "  </thead>\n",
       "  <tbody>\n",
       "    <tr>\n",
       "      <th>0</th>\n",
       "      <td>Units</td>\n",
       "      <td>NaN</td>\n",
       "      <td>NaN</td>\n",
       "      <td>NaN</td>\n",
       "      <td>NaN</td>\n",
       "      <td>NaN</td>\n",
       "      <td>NaN</td>\n",
       "      <td>NaN</td>\n",
       "      <td>numeric</td>\n",
       "      <td>NaN</td>\n",
       "      <td>...</td>\n",
       "      <td>%</td>\n",
       "      <td>%</td>\n",
       "      <td>persons per square mile</td>\n",
       "      <td>persons per square mile</td>\n",
       "      <td>persons per square mile</td>\n",
       "      <td>%</td>\n",
       "      <td>%</td>\n",
       "      <td>%</td>\n",
       "      <td>%</td>\n",
       "      <td>%</td>\n",
       "    </tr>\n",
       "    <tr>\n",
       "      <th>1</th>\n",
       "      <td>NaN</td>\n",
       "      <td>1</td>\n",
       "      <td>2011</td>\n",
       "      <td>7</td>\n",
       "      <td>Minnesota</td>\n",
       "      <td>MN</td>\n",
       "      <td>MRO</td>\n",
       "      <td>East North Central</td>\n",
       "      <td>-0.3</td>\n",
       "      <td>normal</td>\n",
       "      <td>...</td>\n",
       "      <td>0.7327</td>\n",
       "      <td>0.1528</td>\n",
       "      <td>2279</td>\n",
       "      <td>1700.5</td>\n",
       "      <td>18.2</td>\n",
       "      <td>0.0214</td>\n",
       "      <td>0.006</td>\n",
       "      <td>0.915927</td>\n",
       "      <td>0.084073</td>\n",
       "      <td>0.054787</td>\n",
       "    </tr>\n",
       "    <tr>\n",
       "      <th>2</th>\n",
       "      <td>NaN</td>\n",
       "      <td>2</td>\n",
       "      <td>2014</td>\n",
       "      <td>5</td>\n",
       "      <td>Minnesota</td>\n",
       "      <td>MN</td>\n",
       "      <td>MRO</td>\n",
       "      <td>East North Central</td>\n",
       "      <td>-0.1</td>\n",
       "      <td>normal</td>\n",
       "      <td>...</td>\n",
       "      <td>0.7327</td>\n",
       "      <td>0.1528</td>\n",
       "      <td>2279</td>\n",
       "      <td>1700.5</td>\n",
       "      <td>18.2</td>\n",
       "      <td>0.0214</td>\n",
       "      <td>0.006</td>\n",
       "      <td>0.915927</td>\n",
       "      <td>0.084073</td>\n",
       "      <td>0.054787</td>\n",
       "    </tr>\n",
       "    <tr>\n",
       "      <th>3</th>\n",
       "      <td>NaN</td>\n",
       "      <td>3</td>\n",
       "      <td>2010</td>\n",
       "      <td>10</td>\n",
       "      <td>Minnesota</td>\n",
       "      <td>MN</td>\n",
       "      <td>MRO</td>\n",
       "      <td>East North Central</td>\n",
       "      <td>-1.5</td>\n",
       "      <td>cold</td>\n",
       "      <td>...</td>\n",
       "      <td>0.7327</td>\n",
       "      <td>0.1528</td>\n",
       "      <td>2279</td>\n",
       "      <td>1700.5</td>\n",
       "      <td>18.2</td>\n",
       "      <td>0.0214</td>\n",
       "      <td>0.006</td>\n",
       "      <td>0.915927</td>\n",
       "      <td>0.084073</td>\n",
       "      <td>0.054787</td>\n",
       "    </tr>\n",
       "    <tr>\n",
       "      <th>4</th>\n",
       "      <td>NaN</td>\n",
       "      <td>4</td>\n",
       "      <td>2012</td>\n",
       "      <td>6</td>\n",
       "      <td>Minnesota</td>\n",
       "      <td>MN</td>\n",
       "      <td>MRO</td>\n",
       "      <td>East North Central</td>\n",
       "      <td>-0.1</td>\n",
       "      <td>normal</td>\n",
       "      <td>...</td>\n",
       "      <td>0.7327</td>\n",
       "      <td>0.1528</td>\n",
       "      <td>2279</td>\n",
       "      <td>1700.5</td>\n",
       "      <td>18.2</td>\n",
       "      <td>0.0214</td>\n",
       "      <td>0.006</td>\n",
       "      <td>0.915927</td>\n",
       "      <td>0.084073</td>\n",
       "      <td>0.054787</td>\n",
       "    </tr>\n",
       "  </tbody>\n",
       "</table>\n",
       "<p>5 rows × 57 columns</p>\n",
       "</div>"
      ],
      "text/plain": [
       "4 variables  OBS  YEAR MONTH U.S._STATE POSTAL.CODE NERC.REGION  \\\n",
       "0     Units  NaN   NaN   NaN        NaN         NaN         NaN   \n",
       "1       NaN    1  2011     7  Minnesota          MN         MRO   \n",
       "2       NaN    2  2014     5  Minnesota          MN         MRO   \n",
       "3       NaN    3  2010    10  Minnesota          MN         MRO   \n",
       "4       NaN    4  2012     6  Minnesota          MN         MRO   \n",
       "\n",
       "4      CLIMATE.REGION ANOMALY.LEVEL CLIMATE.CATEGORY  ... POPPCT_URBAN  \\\n",
       "0                 NaN       numeric              NaN  ...            %   \n",
       "1  East North Central          -0.3           normal  ...       0.7327   \n",
       "2  East North Central          -0.1           normal  ...       0.7327   \n",
       "3  East North Central          -1.5             cold  ...       0.7327   \n",
       "4  East North Central          -0.1           normal  ...       0.7327   \n",
       "\n",
       "4 POPPCT_UC             POPDEN_URBAN                POPDEN_UC  \\\n",
       "0         %  persons per square mile  persons per square mile   \n",
       "1    0.1528                     2279                   1700.5   \n",
       "2    0.1528                     2279                   1700.5   \n",
       "3    0.1528                     2279                   1700.5   \n",
       "4    0.1528                     2279                   1700.5   \n",
       "\n",
       "4             POPDEN_RURAL AREAPCT_URBAN AREAPCT_UC  PCT_LAND PCT_WATER_TOT  \\\n",
       "0  persons per square mile             %          %         %             %   \n",
       "1                     18.2        0.0214      0.006  0.915927      0.084073   \n",
       "2                     18.2        0.0214      0.006  0.915927      0.084073   \n",
       "3                     18.2        0.0214      0.006  0.915927      0.084073   \n",
       "4                     18.2        0.0214      0.006  0.915927      0.084073   \n",
       "\n",
       "4 PCT_WATER_INLAND  \n",
       "0                %  \n",
       "1         0.054787  \n",
       "2         0.054787  \n",
       "3         0.054787  \n",
       "4         0.054787  \n",
       "\n",
       "[5 rows x 57 columns]"
      ]
     },
     "execution_count": 7,
     "metadata": {},
     "output_type": "execute_result"
    }
   ],
   "source": [
    "is_percent = pow_outage.iloc[0].apply(lambda x: isinstance(x, str) and '%' in x)\n",
    "proportion_columns = pow_outage.columns[is_percent]\n",
    "pow_outage[proportion_columns] = pow_outage[proportion_columns].applymap(lambda x : float(x)/100 if x!= '%' else x)\n",
    "pow_outage.head()\n"
   ]
  },
  {
   "attachments": {},
   "cell_type": "markdown",
   "metadata": {},
   "source": [
    "Now let's rename the columns name by adding their density in the title"
   ]
  },
  {
   "cell_type": "code",
   "execution_count": 8,
   "metadata": {},
   "outputs": [
    {
     "data": {
      "text/html": [
       "<div>\n",
       "<style scoped>\n",
       "    .dataframe tbody tr th:only-of-type {\n",
       "        vertical-align: middle;\n",
       "    }\n",
       "\n",
       "    .dataframe tbody tr th {\n",
       "        vertical-align: top;\n",
       "    }\n",
       "\n",
       "    .dataframe thead th {\n",
       "        text-align: right;\n",
       "    }\n",
       "</style>\n",
       "<table border=\"1\" class=\"dataframe\">\n",
       "  <thead>\n",
       "    <tr style=\"text-align: right;\">\n",
       "      <th>4</th>\n",
       "      <th>variables (Units)</th>\n",
       "      <th>OBS</th>\n",
       "      <th>YEAR</th>\n",
       "      <th>MONTH</th>\n",
       "      <th>U.S._STATE</th>\n",
       "      <th>POSTAL.CODE</th>\n",
       "      <th>NERC.REGION</th>\n",
       "      <th>CLIMATE.REGION</th>\n",
       "      <th>ANOMALY.LEVEL (numeric)</th>\n",
       "      <th>CLIMATE.CATEGORY</th>\n",
       "      <th>...</th>\n",
       "      <th>POPPCT_URBAN</th>\n",
       "      <th>POPPCT_UC</th>\n",
       "      <th>POPDEN_URBAN (persons per square mile)</th>\n",
       "      <th>POPDEN_UC (persons per square mile)</th>\n",
       "      <th>POPDEN_RURAL (persons per square mile)</th>\n",
       "      <th>AREAPCT_URBAN</th>\n",
       "      <th>AREAPCT_UC</th>\n",
       "      <th>PCT_LAND</th>\n",
       "      <th>PCT_WATER_TOT</th>\n",
       "      <th>PCT_WATER_INLAND</th>\n",
       "    </tr>\n",
       "  </thead>\n",
       "  <tbody>\n",
       "    <tr>\n",
       "      <th>0</th>\n",
       "      <td>Units</td>\n",
       "      <td>NaN</td>\n",
       "      <td>NaN</td>\n",
       "      <td>NaN</td>\n",
       "      <td>NaN</td>\n",
       "      <td>NaN</td>\n",
       "      <td>NaN</td>\n",
       "      <td>NaN</td>\n",
       "      <td>numeric</td>\n",
       "      <td>NaN</td>\n",
       "      <td>...</td>\n",
       "      <td>%</td>\n",
       "      <td>%</td>\n",
       "      <td>persons per square mile</td>\n",
       "      <td>persons per square mile</td>\n",
       "      <td>persons per square mile</td>\n",
       "      <td>%</td>\n",
       "      <td>%</td>\n",
       "      <td>%</td>\n",
       "      <td>%</td>\n",
       "      <td>%</td>\n",
       "    </tr>\n",
       "    <tr>\n",
       "      <th>1</th>\n",
       "      <td>NaN</td>\n",
       "      <td>1</td>\n",
       "      <td>2011</td>\n",
       "      <td>7</td>\n",
       "      <td>Minnesota</td>\n",
       "      <td>MN</td>\n",
       "      <td>MRO</td>\n",
       "      <td>East North Central</td>\n",
       "      <td>-0.3</td>\n",
       "      <td>normal</td>\n",
       "      <td>...</td>\n",
       "      <td>0.7327</td>\n",
       "      <td>0.1528</td>\n",
       "      <td>2279</td>\n",
       "      <td>1700.5</td>\n",
       "      <td>18.2</td>\n",
       "      <td>0.0214</td>\n",
       "      <td>0.006</td>\n",
       "      <td>0.915927</td>\n",
       "      <td>0.084073</td>\n",
       "      <td>0.054787</td>\n",
       "    </tr>\n",
       "    <tr>\n",
       "      <th>2</th>\n",
       "      <td>NaN</td>\n",
       "      <td>2</td>\n",
       "      <td>2014</td>\n",
       "      <td>5</td>\n",
       "      <td>Minnesota</td>\n",
       "      <td>MN</td>\n",
       "      <td>MRO</td>\n",
       "      <td>East North Central</td>\n",
       "      <td>-0.1</td>\n",
       "      <td>normal</td>\n",
       "      <td>...</td>\n",
       "      <td>0.7327</td>\n",
       "      <td>0.1528</td>\n",
       "      <td>2279</td>\n",
       "      <td>1700.5</td>\n",
       "      <td>18.2</td>\n",
       "      <td>0.0214</td>\n",
       "      <td>0.006</td>\n",
       "      <td>0.915927</td>\n",
       "      <td>0.084073</td>\n",
       "      <td>0.054787</td>\n",
       "    </tr>\n",
       "    <tr>\n",
       "      <th>3</th>\n",
       "      <td>NaN</td>\n",
       "      <td>3</td>\n",
       "      <td>2010</td>\n",
       "      <td>10</td>\n",
       "      <td>Minnesota</td>\n",
       "      <td>MN</td>\n",
       "      <td>MRO</td>\n",
       "      <td>East North Central</td>\n",
       "      <td>-1.5</td>\n",
       "      <td>cold</td>\n",
       "      <td>...</td>\n",
       "      <td>0.7327</td>\n",
       "      <td>0.1528</td>\n",
       "      <td>2279</td>\n",
       "      <td>1700.5</td>\n",
       "      <td>18.2</td>\n",
       "      <td>0.0214</td>\n",
       "      <td>0.006</td>\n",
       "      <td>0.915927</td>\n",
       "      <td>0.084073</td>\n",
       "      <td>0.054787</td>\n",
       "    </tr>\n",
       "    <tr>\n",
       "      <th>4</th>\n",
       "      <td>NaN</td>\n",
       "      <td>4</td>\n",
       "      <td>2012</td>\n",
       "      <td>6</td>\n",
       "      <td>Minnesota</td>\n",
       "      <td>MN</td>\n",
       "      <td>MRO</td>\n",
       "      <td>East North Central</td>\n",
       "      <td>-0.1</td>\n",
       "      <td>normal</td>\n",
       "      <td>...</td>\n",
       "      <td>0.7327</td>\n",
       "      <td>0.1528</td>\n",
       "      <td>2279</td>\n",
       "      <td>1700.5</td>\n",
       "      <td>18.2</td>\n",
       "      <td>0.0214</td>\n",
       "      <td>0.006</td>\n",
       "      <td>0.915927</td>\n",
       "      <td>0.084073</td>\n",
       "      <td>0.054787</td>\n",
       "    </tr>\n",
       "  </tbody>\n",
       "</table>\n",
       "<p>5 rows × 57 columns</p>\n",
       "</div>"
      ],
      "text/plain": [
       "4 variables (Units)  OBS  YEAR MONTH U.S._STATE POSTAL.CODE NERC.REGION  \\\n",
       "0             Units  NaN   NaN   NaN        NaN         NaN         NaN   \n",
       "1               NaN    1  2011     7  Minnesota          MN         MRO   \n",
       "2               NaN    2  2014     5  Minnesota          MN         MRO   \n",
       "3               NaN    3  2010    10  Minnesota          MN         MRO   \n",
       "4               NaN    4  2012     6  Minnesota          MN         MRO   \n",
       "\n",
       "4      CLIMATE.REGION ANOMALY.LEVEL (numeric) CLIMATE.CATEGORY  ...  \\\n",
       "0                 NaN                 numeric              NaN  ...   \n",
       "1  East North Central                    -0.3           normal  ...   \n",
       "2  East North Central                    -0.1           normal  ...   \n",
       "3  East North Central                    -1.5             cold  ...   \n",
       "4  East North Central                    -0.1           normal  ...   \n",
       "\n",
       "4 POPPCT_URBAN POPPCT_UC POPDEN_URBAN (persons per square mile)  \\\n",
       "0            %         %                persons per square mile   \n",
       "1       0.7327    0.1528                                   2279   \n",
       "2       0.7327    0.1528                                   2279   \n",
       "3       0.7327    0.1528                                   2279   \n",
       "4       0.7327    0.1528                                   2279   \n",
       "\n",
       "4 POPDEN_UC (persons per square mile) POPDEN_RURAL (persons per square mile)  \\\n",
       "0             persons per square mile                persons per square mile   \n",
       "1                              1700.5                                   18.2   \n",
       "2                              1700.5                                   18.2   \n",
       "3                              1700.5                                   18.2   \n",
       "4                              1700.5                                   18.2   \n",
       "\n",
       "4 AREAPCT_URBAN AREAPCT_UC  PCT_LAND PCT_WATER_TOT PCT_WATER_INLAND  \n",
       "0             %          %         %             %                %  \n",
       "1        0.0214      0.006  0.915927      0.084073         0.054787  \n",
       "2        0.0214      0.006  0.915927      0.084073         0.054787  \n",
       "3        0.0214      0.006  0.915927      0.084073         0.054787  \n",
       "4        0.0214      0.006  0.915927      0.084073         0.054787  \n",
       "\n",
       "[5 rows x 57 columns]"
      ]
     },
     "execution_count": 8,
     "metadata": {},
     "output_type": "execute_result"
    }
   ],
   "source": [
    "is_density = pow_outage.iloc[0].apply(lambda x: isinstance(x, str) and not '%' in x)\n",
    "density_columns = pow_outage.columns[is_density]\n",
    "densities = pow_outage[density_columns].iloc[0]\n",
    "n = len(densities)\n",
    "renamed_columns = {density_columns[i] : f'{density_columns[i]} ({densities[i]})' for i in range(n)}\n",
    "pow_outage = pow_outage.rename(columns=renamed_columns)\n",
    "pow_outage.head()"
   ]
  },
  {
   "attachments": {},
   "cell_type": "markdown",
   "metadata": {},
   "source": [
    "Let's finalize this step by droping the first line and the first columns as they are now both useless."
   ]
  },
  {
   "cell_type": "code",
   "execution_count": 9,
   "metadata": {},
   "outputs": [],
   "source": [
    "pow_outage = pow_outage.drop(pow_outage.columns[0], axis=1)\n",
    "pow_outage = pow_outage.iloc[1:]"
   ]
  },
  {
   "cell_type": "code",
   "execution_count": 10,
   "metadata": {},
   "outputs": [
    {
     "data": {
      "text/plain": [
       "(1534, 56)"
      ]
     },
     "execution_count": 10,
     "metadata": {},
     "output_type": "execute_result"
    }
   ],
   "source": [
    "pow_outage.head()\n",
    "pow_outage.shape"
   ]
  },
  {
   "attachments": {},
   "cell_type": "markdown",
   "metadata": {},
   "source": [
    "#### Cleaning step 3"
   ]
  },
  {
   "attachments": {},
   "cell_type": "markdown",
   "metadata": {},
   "source": [
    "First let's clean up the start date by creating the new columns"
   ]
  },
  {
   "cell_type": "code",
   "execution_count": 11,
   "metadata": {},
   "outputs": [
    {
     "data": {
      "text/plain": [
       "Index(['OBS', 'YEAR', 'MONTH', 'U.S._STATE', 'POSTAL.CODE', 'NERC.REGION',\n",
       "       'CLIMATE.REGION', 'ANOMALY.LEVEL (numeric)', 'CLIMATE.CATEGORY',\n",
       "       'OUTAGE.START.DATE (Day of the week, Month Day, Year)',\n",
       "       'OUTAGE.START.TIME (Hour:Minute:Second (AM / PM))',\n",
       "       'OUTAGE.RESTORATION.DATE (Day of the week, Month Day, Year)',\n",
       "       'OUTAGE.RESTORATION.TIME (Hour:Minute:Second (AM / PM))',\n",
       "       'CAUSE.CATEGORY', 'CAUSE.CATEGORY.DETAIL', 'HURRICANE.NAMES',\n",
       "       'OUTAGE.DURATION (mins)', 'DEMAND.LOSS.MW (Megawatt)',\n",
       "       'CUSTOMERS.AFFECTED', 'RES.PRICE (cents / kilowatt-hour)',\n",
       "       'COM.PRICE (cents / kilowatt-hour)',\n",
       "       'IND.PRICE (cents / kilowatt-hour)',\n",
       "       'TOTAL.PRICE (cents / kilowatt-hour)', 'RES.SALES (Megawatt-hour)',\n",
       "       'COM.SALES (Megawatt-hour)', 'IND.SALES (Megawatt-hour)',\n",
       "       'TOTAL.SALES (Megawatt-hour)', 'RES.PERCEN', 'COM.PERCEN', 'IND.PERCEN',\n",
       "       'RES.CUSTOMERS', 'COM.CUSTOMERS', 'IND.CUSTOMERS', 'TOTAL.CUSTOMERS',\n",
       "       'RES.CUST.PCT', 'COM.CUST.PCT', 'IND.CUST.PCT',\n",
       "       'PC.REALGSP.STATE (USD)', 'PC.REALGSP.USA (USD)',\n",
       "       'PC.REALGSP.REL (fraction)', 'PC.REALGSP.CHANGE', 'UTIL.REALGSP (USD)',\n",
       "       'TOTAL.REALGSP (USD)', 'UTIL.CONTRI', 'PI.UTIL.OFUSA', 'POPULATION',\n",
       "       'POPPCT_URBAN', 'POPPCT_UC', 'POPDEN_URBAN (persons per square mile)',\n",
       "       'POPDEN_UC (persons per square mile)',\n",
       "       'POPDEN_RURAL (persons per square mile)', 'AREAPCT_URBAN', 'AREAPCT_UC',\n",
       "       'PCT_LAND', 'PCT_WATER_TOT', 'PCT_WATER_INLAND'],\n",
       "      dtype='object', name=4)"
      ]
     },
     "execution_count": 11,
     "metadata": {},
     "output_type": "execute_result"
    }
   ],
   "source": [
    "pow_outage.columns"
   ]
  },
  {
   "cell_type": "code",
   "execution_count": 12,
   "metadata": {},
   "outputs": [
    {
     "data": {
      "text/html": [
       "<div>\n",
       "<style scoped>\n",
       "    .dataframe tbody tr th:only-of-type {\n",
       "        vertical-align: middle;\n",
       "    }\n",
       "\n",
       "    .dataframe tbody tr th {\n",
       "        vertical-align: top;\n",
       "    }\n",
       "\n",
       "    .dataframe thead th {\n",
       "        text-align: right;\n",
       "    }\n",
       "</style>\n",
       "<table border=\"1\" class=\"dataframe\">\n",
       "  <thead>\n",
       "    <tr style=\"text-align: right;\">\n",
       "      <th>4</th>\n",
       "      <th>OUTAGE.START.DATE (Day of the week, Month Day, Year)</th>\n",
       "      <th>OUTAGE.START.TIME (Hour:Minute:Second (AM / PM))</th>\n",
       "    </tr>\n",
       "  </thead>\n",
       "  <tbody>\n",
       "    <tr>\n",
       "      <th>1</th>\n",
       "      <td>2011-07-01 00:00:00</td>\n",
       "      <td>17:00:00</td>\n",
       "    </tr>\n",
       "    <tr>\n",
       "      <th>2</th>\n",
       "      <td>2014-05-11 00:00:00</td>\n",
       "      <td>18:38:00</td>\n",
       "    </tr>\n",
       "    <tr>\n",
       "      <th>3</th>\n",
       "      <td>2010-10-26 00:00:00</td>\n",
       "      <td>20:00:00</td>\n",
       "    </tr>\n",
       "    <tr>\n",
       "      <th>4</th>\n",
       "      <td>2012-06-19 00:00:00</td>\n",
       "      <td>04:30:00</td>\n",
       "    </tr>\n",
       "    <tr>\n",
       "      <th>5</th>\n",
       "      <td>2015-07-18 00:00:00</td>\n",
       "      <td>02:00:00</td>\n",
       "    </tr>\n",
       "    <tr>\n",
       "      <th>...</th>\n",
       "      <td>...</td>\n",
       "      <td>...</td>\n",
       "    </tr>\n",
       "    <tr>\n",
       "      <th>1530</th>\n",
       "      <td>2011-12-06 00:00:00</td>\n",
       "      <td>08:00:00</td>\n",
       "    </tr>\n",
       "    <tr>\n",
       "      <th>1531</th>\n",
       "      <td>NaN</td>\n",
       "      <td>NaN</td>\n",
       "    </tr>\n",
       "    <tr>\n",
       "      <th>1532</th>\n",
       "      <td>2009-08-29 00:00:00</td>\n",
       "      <td>22:54:00</td>\n",
       "    </tr>\n",
       "    <tr>\n",
       "      <th>1533</th>\n",
       "      <td>2009-08-29 00:00:00</td>\n",
       "      <td>11:00:00</td>\n",
       "    </tr>\n",
       "    <tr>\n",
       "      <th>1534</th>\n",
       "      <td>NaN</td>\n",
       "      <td>NaN</td>\n",
       "    </tr>\n",
       "  </tbody>\n",
       "</table>\n",
       "<p>1534 rows × 2 columns</p>\n",
       "</div>"
      ],
      "text/plain": [
       "4    OUTAGE.START.DATE (Day of the week, Month Day, Year)  \\\n",
       "1                                   2011-07-01 00:00:00     \n",
       "2                                   2014-05-11 00:00:00     \n",
       "3                                   2010-10-26 00:00:00     \n",
       "4                                   2012-06-19 00:00:00     \n",
       "5                                   2015-07-18 00:00:00     \n",
       "...                                                 ...     \n",
       "1530                                2011-12-06 00:00:00     \n",
       "1531                                                NaN     \n",
       "1532                                2009-08-29 00:00:00     \n",
       "1533                                2009-08-29 00:00:00     \n",
       "1534                                                NaN     \n",
       "\n",
       "4    OUTAGE.START.TIME (Hour:Minute:Second (AM / PM))  \n",
       "1                                            17:00:00  \n",
       "2                                            18:38:00  \n",
       "3                                            20:00:00  \n",
       "4                                            04:30:00  \n",
       "5                                            02:00:00  \n",
       "...                                               ...  \n",
       "1530                                         08:00:00  \n",
       "1531                                              NaN  \n",
       "1532                                         22:54:00  \n",
       "1533                                         11:00:00  \n",
       "1534                                              NaN  \n",
       "\n",
       "[1534 rows x 2 columns]"
      ]
     },
     "execution_count": 12,
     "metadata": {},
     "output_type": "execute_result"
    }
   ],
   "source": [
    "pow_outage[['OUTAGE.START.DATE (Day of the week, Month Day, Year)', 'OUTAGE.START.TIME (Hour:Minute:Second (AM / PM))']]"
   ]
  },
  {
   "cell_type": "code",
   "execution_count": 13,
   "metadata": {},
   "outputs": [
    {
     "data": {
      "text/plain": [
       "1      2011-07-03 20:00:00\n",
       "2      2014-05-11 18:39:00\n",
       "3      2010-10-28 22:00:00\n",
       "4      2012-06-20 23:00:00\n",
       "5      2015-07-19 07:00:00\n",
       "               ...        \n",
       "1530   2011-12-06 20:00:00\n",
       "1531                   NaT\n",
       "1532   2009-08-29 23:53:00\n",
       "1533   2009-08-29 14:01:00\n",
       "1534                   NaT\n",
       "Name: OUTAGE.RESTORATION.TIME, Length: 1534, dtype: datetime64[ns]"
      ]
     },
     "execution_count": 13,
     "metadata": {},
     "output_type": "execute_result"
    }
   ],
   "source": [
    "#OUTAGE.START\n",
    "pow_outage['OUTAGE.START.TIME (Hour:Minute:Second (AM / PM))'] = pd.to_datetime(pow_outage['OUTAGE.START.TIME (Hour:Minute:Second (AM / PM))'], format='%H:%M:%S', errors='coerce')\n",
    "pow_outage['OUTAGE.START.TIME (Hour:Minute:Second (AM / PM))'] = pow_outage['OUTAGE.START.TIME (Hour:Minute:Second (AM / PM))'].dt.strftime('%H:%M:%S')\n",
    "\n",
    "pow_outage['OUTAGE.START'] = pd.to_datetime(pow_outage['OUTAGE.START.DATE (Day of the week, Month Day, Year)'], errors='coerce') + pd.to_timedelta(pow_outage['OUTAGE.START.TIME (Hour:Minute:Second (AM / PM))'])\n",
    "\n",
    "#OUTAGE.RESTORATION.TIME\n",
    "pow_outage['OUTAGE.RESTORATION.TIME (Hour:Minute:Second (AM / PM))'] = pd.to_datetime(pow_outage['OUTAGE.RESTORATION.TIME (Hour:Minute:Second (AM / PM))'], format='%H:%M:%S', errors='coerce')\n",
    "pow_outage['OUTAGE.RESTORATION.TIME (Hour:Minute:Second (AM / PM))'] = pow_outage['OUTAGE.RESTORATION.TIME (Hour:Minute:Second (AM / PM))'].dt.strftime('%H:%M:%S')\n",
    "\n",
    "pow_outage['OUTAGE.RESTORATION.TIME'] = pd.to_datetime(pow_outage['OUTAGE.RESTORATION.DATE (Day of the week, Month Day, Year)'], errors='coerce') + pd.to_timedelta(pow_outage['OUTAGE.RESTORATION.TIME (Hour:Minute:Second (AM / PM))'])\n",
    "pow_outage['OUTAGE.RESTORATION.TIME']"
   ]
  },
  {
   "attachments": {},
   "cell_type": "markdown",
   "metadata": {},
   "source": [
    "Now let's drop the useless columns."
   ]
  },
  {
   "cell_type": "code",
   "execution_count": 14,
   "metadata": {},
   "outputs": [],
   "source": [
    "pow_outage = pow_outage.drop(columns=['OUTAGE.START.DATE (Day of the week, Month Day, Year)',\n",
    "       'OUTAGE.START.TIME (Hour:Minute:Second (AM / PM))',\n",
    "       'OUTAGE.RESTORATION.DATE (Day of the week, Month Day, Year)',\n",
    "       'OUTAGE.RESTORATION.TIME (Hour:Minute:Second (AM / PM))'])"
   ]
  },
  {
   "cell_type": "code",
   "execution_count": 15,
   "metadata": {},
   "outputs": [
    {
     "data": {
      "text/html": [
       "<div>\n",
       "<style scoped>\n",
       "    .dataframe tbody tr th:only-of-type {\n",
       "        vertical-align: middle;\n",
       "    }\n",
       "\n",
       "    .dataframe tbody tr th {\n",
       "        vertical-align: top;\n",
       "    }\n",
       "\n",
       "    .dataframe thead th {\n",
       "        text-align: right;\n",
       "    }\n",
       "</style>\n",
       "<table border=\"1\" class=\"dataframe\">\n",
       "  <thead>\n",
       "    <tr style=\"text-align: right;\">\n",
       "      <th>4</th>\n",
       "      <th>OBS</th>\n",
       "      <th>YEAR</th>\n",
       "      <th>MONTH</th>\n",
       "      <th>U.S._STATE</th>\n",
       "      <th>POSTAL.CODE</th>\n",
       "      <th>NERC.REGION</th>\n",
       "      <th>CLIMATE.REGION</th>\n",
       "      <th>ANOMALY.LEVEL (numeric)</th>\n",
       "      <th>CLIMATE.CATEGORY</th>\n",
       "      <th>CAUSE.CATEGORY</th>\n",
       "      <th>...</th>\n",
       "      <th>POPDEN_URBAN (persons per square mile)</th>\n",
       "      <th>POPDEN_UC (persons per square mile)</th>\n",
       "      <th>POPDEN_RURAL (persons per square mile)</th>\n",
       "      <th>AREAPCT_URBAN</th>\n",
       "      <th>AREAPCT_UC</th>\n",
       "      <th>PCT_LAND</th>\n",
       "      <th>PCT_WATER_TOT</th>\n",
       "      <th>PCT_WATER_INLAND</th>\n",
       "      <th>OUTAGE.START</th>\n",
       "      <th>OUTAGE.RESTORATION.TIME</th>\n",
       "    </tr>\n",
       "  </thead>\n",
       "  <tbody>\n",
       "    <tr>\n",
       "      <th>1</th>\n",
       "      <td>1</td>\n",
       "      <td>2011</td>\n",
       "      <td>7</td>\n",
       "      <td>Minnesota</td>\n",
       "      <td>MN</td>\n",
       "      <td>MRO</td>\n",
       "      <td>East North Central</td>\n",
       "      <td>-0.3</td>\n",
       "      <td>normal</td>\n",
       "      <td>severe weather</td>\n",
       "      <td>...</td>\n",
       "      <td>2279</td>\n",
       "      <td>1700.5</td>\n",
       "      <td>18.2</td>\n",
       "      <td>0.0214</td>\n",
       "      <td>0.006</td>\n",
       "      <td>0.915927</td>\n",
       "      <td>0.084073</td>\n",
       "      <td>0.054787</td>\n",
       "      <td>2011-07-01 17:00:00</td>\n",
       "      <td>2011-07-03 20:00:00</td>\n",
       "    </tr>\n",
       "    <tr>\n",
       "      <th>2</th>\n",
       "      <td>2</td>\n",
       "      <td>2014</td>\n",
       "      <td>5</td>\n",
       "      <td>Minnesota</td>\n",
       "      <td>MN</td>\n",
       "      <td>MRO</td>\n",
       "      <td>East North Central</td>\n",
       "      <td>-0.1</td>\n",
       "      <td>normal</td>\n",
       "      <td>intentional attack</td>\n",
       "      <td>...</td>\n",
       "      <td>2279</td>\n",
       "      <td>1700.5</td>\n",
       "      <td>18.2</td>\n",
       "      <td>0.0214</td>\n",
       "      <td>0.006</td>\n",
       "      <td>0.915927</td>\n",
       "      <td>0.084073</td>\n",
       "      <td>0.054787</td>\n",
       "      <td>2014-05-11 18:38:00</td>\n",
       "      <td>2014-05-11 18:39:00</td>\n",
       "    </tr>\n",
       "    <tr>\n",
       "      <th>3</th>\n",
       "      <td>3</td>\n",
       "      <td>2010</td>\n",
       "      <td>10</td>\n",
       "      <td>Minnesota</td>\n",
       "      <td>MN</td>\n",
       "      <td>MRO</td>\n",
       "      <td>East North Central</td>\n",
       "      <td>-1.5</td>\n",
       "      <td>cold</td>\n",
       "      <td>severe weather</td>\n",
       "      <td>...</td>\n",
       "      <td>2279</td>\n",
       "      <td>1700.5</td>\n",
       "      <td>18.2</td>\n",
       "      <td>0.0214</td>\n",
       "      <td>0.006</td>\n",
       "      <td>0.915927</td>\n",
       "      <td>0.084073</td>\n",
       "      <td>0.054787</td>\n",
       "      <td>2010-10-26 20:00:00</td>\n",
       "      <td>2010-10-28 22:00:00</td>\n",
       "    </tr>\n",
       "    <tr>\n",
       "      <th>4</th>\n",
       "      <td>4</td>\n",
       "      <td>2012</td>\n",
       "      <td>6</td>\n",
       "      <td>Minnesota</td>\n",
       "      <td>MN</td>\n",
       "      <td>MRO</td>\n",
       "      <td>East North Central</td>\n",
       "      <td>-0.1</td>\n",
       "      <td>normal</td>\n",
       "      <td>severe weather</td>\n",
       "      <td>...</td>\n",
       "      <td>2279</td>\n",
       "      <td>1700.5</td>\n",
       "      <td>18.2</td>\n",
       "      <td>0.0214</td>\n",
       "      <td>0.006</td>\n",
       "      <td>0.915927</td>\n",
       "      <td>0.084073</td>\n",
       "      <td>0.054787</td>\n",
       "      <td>2012-06-19 04:30:00</td>\n",
       "      <td>2012-06-20 23:00:00</td>\n",
       "    </tr>\n",
       "    <tr>\n",
       "      <th>5</th>\n",
       "      <td>5</td>\n",
       "      <td>2015</td>\n",
       "      <td>7</td>\n",
       "      <td>Minnesota</td>\n",
       "      <td>MN</td>\n",
       "      <td>MRO</td>\n",
       "      <td>East North Central</td>\n",
       "      <td>1.2</td>\n",
       "      <td>warm</td>\n",
       "      <td>severe weather</td>\n",
       "      <td>...</td>\n",
       "      <td>2279</td>\n",
       "      <td>1700.5</td>\n",
       "      <td>18.2</td>\n",
       "      <td>0.0214</td>\n",
       "      <td>0.006</td>\n",
       "      <td>0.915927</td>\n",
       "      <td>0.084073</td>\n",
       "      <td>0.054787</td>\n",
       "      <td>2015-07-18 02:00:00</td>\n",
       "      <td>2015-07-19 07:00:00</td>\n",
       "    </tr>\n",
       "  </tbody>\n",
       "</table>\n",
       "<p>5 rows × 54 columns</p>\n",
       "</div>"
      ],
      "text/plain": [
       "4 OBS  YEAR MONTH U.S._STATE POSTAL.CODE NERC.REGION      CLIMATE.REGION  \\\n",
       "1   1  2011     7  Minnesota          MN         MRO  East North Central   \n",
       "2   2  2014     5  Minnesota          MN         MRO  East North Central   \n",
       "3   3  2010    10  Minnesota          MN         MRO  East North Central   \n",
       "4   4  2012     6  Minnesota          MN         MRO  East North Central   \n",
       "5   5  2015     7  Minnesota          MN         MRO  East North Central   \n",
       "\n",
       "4 ANOMALY.LEVEL (numeric) CLIMATE.CATEGORY      CAUSE.CATEGORY  ...  \\\n",
       "1                    -0.3           normal      severe weather  ...   \n",
       "2                    -0.1           normal  intentional attack  ...   \n",
       "3                    -1.5             cold      severe weather  ...   \n",
       "4                    -0.1           normal      severe weather  ...   \n",
       "5                     1.2             warm      severe weather  ...   \n",
       "\n",
       "4 POPDEN_URBAN (persons per square mile) POPDEN_UC (persons per square mile)  \\\n",
       "1                                   2279                              1700.5   \n",
       "2                                   2279                              1700.5   \n",
       "3                                   2279                              1700.5   \n",
       "4                                   2279                              1700.5   \n",
       "5                                   2279                              1700.5   \n",
       "\n",
       "4 POPDEN_RURAL (persons per square mile) AREAPCT_URBAN AREAPCT_UC  PCT_LAND  \\\n",
       "1                                   18.2        0.0214      0.006  0.915927   \n",
       "2                                   18.2        0.0214      0.006  0.915927   \n",
       "3                                   18.2        0.0214      0.006  0.915927   \n",
       "4                                   18.2        0.0214      0.006  0.915927   \n",
       "5                                   18.2        0.0214      0.006  0.915927   \n",
       "\n",
       "4 PCT_WATER_TOT PCT_WATER_INLAND        OUTAGE.START OUTAGE.RESTORATION.TIME  \n",
       "1      0.084073         0.054787 2011-07-01 17:00:00     2011-07-03 20:00:00  \n",
       "2      0.084073         0.054787 2014-05-11 18:38:00     2014-05-11 18:39:00  \n",
       "3      0.084073         0.054787 2010-10-26 20:00:00     2010-10-28 22:00:00  \n",
       "4      0.084073         0.054787 2012-06-19 04:30:00     2012-06-20 23:00:00  \n",
       "5      0.084073         0.054787 2015-07-18 02:00:00     2015-07-19 07:00:00  \n",
       "\n",
       "[5 rows x 54 columns]"
      ]
     },
     "execution_count": 15,
     "metadata": {},
     "output_type": "execute_result"
    }
   ],
   "source": [
    "pow_outage.head()"
   ]
  },
  {
   "attachments": {},
   "cell_type": "markdown",
   "metadata": {},
   "source": [
    "### Prédiction problem : Predict the cause of a major power outage"
   ]
  },
  {
   "attachments": {},
   "cell_type": "markdown",
   "metadata": {},
   "source": [
    "We will now create a second dataset, which will conatains the same informations but modified to be used in a model. In other word, we are gonig to preprocess our dataset.\n",
    "We will first drop a few columns which are useless or redundant as the OBS column which is the number of the observation, which gives the same number as the index, the postal code, the hurricane names as it is not relevant for our questionand also the it is correlated to the month and the year."
   ]
  },
  {
   "cell_type": "code",
   "execution_count": 16,
   "metadata": {},
   "outputs": [],
   "source": [
    "pow_outage = pow_outage.drop(['OBS', 'POSTAL.CODE', 'HURRICANE.NAMES'], axis=1)"
   ]
  },
  {
   "cell_type": "code",
   "execution_count": 17,
   "metadata": {},
   "outputs": [
    {
     "data": {
      "text/plain": [
       "4\n",
       "YEAR                                              object\n",
       "MONTH                                             object\n",
       "U.S._STATE                                        object\n",
       "NERC.REGION                                       object\n",
       "CLIMATE.REGION                                    object\n",
       "ANOMALY.LEVEL (numeric)                           object\n",
       "CLIMATE.CATEGORY                                  object\n",
       "CAUSE.CATEGORY                                    object\n",
       "CAUSE.CATEGORY.DETAIL                             object\n",
       "OUTAGE.DURATION (mins)                            object\n",
       "DEMAND.LOSS.MW (Megawatt)                         object\n",
       "CUSTOMERS.AFFECTED                                object\n",
       "RES.PRICE (cents / kilowatt-hour)                 object\n",
       "COM.PRICE (cents / kilowatt-hour)                 object\n",
       "IND.PRICE (cents / kilowatt-hour)                 object\n",
       "TOTAL.PRICE (cents / kilowatt-hour)               object\n",
       "RES.SALES (Megawatt-hour)                         object\n",
       "COM.SALES (Megawatt-hour)                         object\n",
       "IND.SALES (Megawatt-hour)                         object\n",
       "TOTAL.SALES (Megawatt-hour)                       object\n",
       "RES.PERCEN                                        object\n",
       "COM.PERCEN                                        object\n",
       "IND.PERCEN                                        object\n",
       "RES.CUSTOMERS                                     object\n",
       "COM.CUSTOMERS                                     object\n",
       "IND.CUSTOMERS                                     object\n",
       "TOTAL.CUSTOMERS                                   object\n",
       "RES.CUST.PCT                                      object\n",
       "COM.CUST.PCT                                      object\n",
       "IND.CUST.PCT                                      object\n",
       "PC.REALGSP.STATE (USD)                            object\n",
       "PC.REALGSP.USA (USD)                              object\n",
       "PC.REALGSP.REL (fraction)                         object\n",
       "PC.REALGSP.CHANGE                                 object\n",
       "UTIL.REALGSP (USD)                                object\n",
       "TOTAL.REALGSP (USD)                               object\n",
       "UTIL.CONTRI                                       object\n",
       "PI.UTIL.OFUSA                                     object\n",
       "POPULATION                                        object\n",
       "POPPCT_URBAN                                      object\n",
       "POPPCT_UC                                         object\n",
       "POPDEN_URBAN (persons per square mile)            object\n",
       "POPDEN_UC (persons per square mile)               object\n",
       "POPDEN_RURAL (persons per square mile)            object\n",
       "AREAPCT_URBAN                                     object\n",
       "AREAPCT_UC                                        object\n",
       "PCT_LAND                                          object\n",
       "PCT_WATER_TOT                                     object\n",
       "PCT_WATER_INLAND                                  object\n",
       "OUTAGE.START                              datetime64[ns]\n",
       "OUTAGE.RESTORATION.TIME                   datetime64[ns]\n",
       "dtype: object"
      ]
     },
     "execution_count": 17,
     "metadata": {},
     "output_type": "execute_result"
    }
   ],
   "source": [
    "pow_outage.dtypes"
   ]
  },
  {
   "attachments": {},
   "cell_type": "markdown",
   "metadata": {},
   "source": [
    "Except for the two last columns, all the columns are of type object, when they are supposed to be numbers (int or float). This will lead to a poor result using the function pd.get_dummies to one hot ecode all categorical columns, as all of them are in this case.\n",
    "Let's update our dataframe to avoid this issue."
   ]
  },
  {
   "cell_type": "code",
   "execution_count": 18,
   "metadata": {},
   "outputs": [
    {
     "data": {
      "text/plain": [
       "4\n",
       "YEAR                                               int64\n",
       "MONTH                                            float64\n",
       "U.S._STATE                                        object\n",
       "NERC.REGION                                       object\n",
       "CLIMATE.REGION                                    object\n",
       "ANOMALY.LEVEL (numeric)                          float64\n",
       "CLIMATE.CATEGORY                                  object\n",
       "CAUSE.CATEGORY                                    object\n",
       "CAUSE.CATEGORY.DETAIL                             object\n",
       "OUTAGE.DURATION (mins)                           float64\n",
       "DEMAND.LOSS.MW (Megawatt)                        float64\n",
       "CUSTOMERS.AFFECTED                               float64\n",
       "RES.PRICE (cents / kilowatt-hour)                float64\n",
       "COM.PRICE (cents / kilowatt-hour)                float64\n",
       "IND.PRICE (cents / kilowatt-hour)                float64\n",
       "TOTAL.PRICE (cents / kilowatt-hour)              float64\n",
       "RES.SALES (Megawatt-hour)                        float64\n",
       "COM.SALES (Megawatt-hour)                        float64\n",
       "IND.SALES (Megawatt-hour)                        float64\n",
       "TOTAL.SALES (Megawatt-hour)                      float64\n",
       "RES.PERCEN                                       float64\n",
       "COM.PERCEN                                       float64\n",
       "IND.PERCEN                                       float64\n",
       "RES.CUSTOMERS                                    float64\n",
       "COM.CUSTOMERS                                    float64\n",
       "IND.CUSTOMERS                                    float64\n",
       "TOTAL.CUSTOMERS                                  float64\n",
       "RES.CUST.PCT                                     float64\n",
       "COM.CUST.PCT                                     float64\n",
       "IND.CUST.PCT                                     float64\n",
       "PC.REALGSP.STATE (USD)                           float64\n",
       "PC.REALGSP.USA (USD)                             float64\n",
       "PC.REALGSP.REL (fraction)                        float64\n",
       "PC.REALGSP.CHANGE                                float64\n",
       "UTIL.REALGSP (USD)                               float64\n",
       "TOTAL.REALGSP (USD)                              float64\n",
       "UTIL.CONTRI                                      float64\n",
       "PI.UTIL.OFUSA                                    float64\n",
       "POPULATION                                       float64\n",
       "POPPCT_URBAN                                     float64\n",
       "POPPCT_UC                                        float64\n",
       "POPDEN_URBAN (persons per square mile)           float64\n",
       "POPDEN_UC (persons per square mile)              float64\n",
       "POPDEN_RURAL (persons per square mile)           float64\n",
       "AREAPCT_URBAN                                    float64\n",
       "AREAPCT_UC                                       float64\n",
       "PCT_LAND                                         float64\n",
       "PCT_WATER_TOT                                    float64\n",
       "PCT_WATER_INLAND                                 float64\n",
       "OUTAGE.START                              datetime64[ns]\n",
       "OUTAGE.RESTORATION.TIME                   datetime64[ns]\n",
       "dtype: object"
      ]
     },
     "execution_count": 18,
     "metadata": {},
     "output_type": "execute_result"
    }
   ],
   "source": [
    "pow_outage['YEAR'] = pow_outage['YEAR'].astype(int)\n",
    "pow_outage['MONTH'] = pow_outage['MONTH'].astype(float)\n",
    "pow_outage['ANOMALY.LEVEL (numeric)'] = pow_outage['ANOMALY.LEVEL (numeric)'].astype(float)\n",
    "pow_outage['OUTAGE.DURATION (mins)'] = pow_outage['OUTAGE.DURATION (mins)'].astype(float)\n",
    "pow_outage['DEMAND.LOSS.MW (Megawatt)'] = pow_outage['DEMAND.LOSS.MW (Megawatt)'].astype(float)\n",
    "pow_outage['CUSTOMERS.AFFECTED'] = pow_outage['CUSTOMERS.AFFECTED'].astype(float)\n",
    "pow_outage['RES.PRICE (cents / kilowatt-hour)'] = pow_outage['RES.PRICE (cents / kilowatt-hour)'].astype(float)\n",
    "pow_outage['COM.PRICE (cents / kilowatt-hour)'] = pow_outage['COM.PRICE (cents / kilowatt-hour)'].astype(float)\n",
    "pow_outage['IND.PRICE (cents / kilowatt-hour)'] = pow_outage['IND.PRICE (cents / kilowatt-hour)'].astype(float)\n",
    "pow_outage['IND.PRICE (cents / kilowatt-hour)'] = pow_outage['IND.PRICE (cents / kilowatt-hour)'].astype(float)\n",
    "pow_outage['TOTAL.PRICE (cents / kilowatt-hour)'] = pow_outage['TOTAL.PRICE (cents / kilowatt-hour)'].astype(float)\n",
    "pow_outage['RES.SALES (Megawatt-hour)'] = pow_outage['RES.SALES (Megawatt-hour)'].astype(float)\n",
    "pow_outage['COM.SALES (Megawatt-hour)'] = pow_outage['COM.SALES (Megawatt-hour)'].astype(float)\n",
    "pow_outage['IND.SALES (Megawatt-hour)'] = pow_outage['IND.SALES (Megawatt-hour)'].astype(float)\n",
    "pow_outage['TOTAL.SALES (Megawatt-hour)'] = pow_outage['TOTAL.SALES (Megawatt-hour)'].astype(float)\n",
    "pow_outage['RES.PERCEN'] = pow_outage['RES.PERCEN'].astype(float)\n",
    "pow_outage['COM.PERCEN'] = pow_outage['COM.PERCEN'].astype(float)\n",
    "pow_outage['IND.PERCEN'] = pow_outage['IND.PERCEN'].astype(float)\n",
    "pow_outage['RES.CUSTOMERS'] = pow_outage['RES.CUSTOMERS'].astype(float)\n",
    "pow_outage['COM.CUSTOMERS'] = pow_outage['COM.CUSTOMERS'].astype(float)\n",
    "pow_outage['IND.CUSTOMERS'] = pow_outage['IND.CUSTOMERS'].astype(float)\n",
    "pow_outage['TOTAL.CUSTOMERS'] = pow_outage['TOTAL.CUSTOMERS'].astype(float)\n",
    "pow_outage['RES.CUST.PCT'] = pow_outage['RES.CUST.PCT'].astype(float)\n",
    "pow_outage['COM.CUST.PCT'] = pow_outage['COM.CUST.PCT'].astype(float)\n",
    "pow_outage['IND.CUST.PCT'] = pow_outage['IND.CUST.PCT'].astype(float)\n",
    "pow_outage['PC.REALGSP.STATE (USD)'] = pow_outage['PC.REALGSP.STATE (USD)'].astype(float)\n",
    "pow_outage['PC.REALGSP.USA (USD)'] = pow_outage['PC.REALGSP.USA (USD)'].astype(float)\n",
    "pow_outage['PC.REALGSP.REL (fraction)'] = pow_outage['PC.REALGSP.REL (fraction)'].astype(float)\n",
    "pow_outage['PC.REALGSP.CHANGE'] = pow_outage['PC.REALGSP.CHANGE'].astype(float)\n",
    "pow_outage['UTIL.REALGSP (USD)'] = pow_outage['UTIL.REALGSP (USD)'].astype(float)\n",
    "pow_outage['TOTAL.REALGSP (USD)'] = pow_outage['TOTAL.REALGSP (USD)'].astype(float)\n",
    "pow_outage['UTIL.CONTRI'] = pow_outage['UTIL.CONTRI'].astype(float)\n",
    "pow_outage['PI.UTIL.OFUSA'] = pow_outage['PI.UTIL.OFUSA'].astype(float)\n",
    "pow_outage['POPULATION'] = pow_outage['POPULATION'].astype(float)\n",
    "pow_outage['POPPCT_URBAN'] = pow_outage['POPPCT_URBAN'].astype(float)\n",
    "pow_outage['POPPCT_UC'] = pow_outage['POPPCT_UC'].astype(float)\n",
    "pow_outage['POPDEN_URBAN (persons per square mile)'] = pow_outage['POPDEN_URBAN (persons per square mile)'].astype(float)\n",
    "pow_outage['POPDEN_UC (persons per square mile)'] = pow_outage['POPDEN_UC (persons per square mile)'].astype(float)\n",
    "pow_outage['POPDEN_RURAL (persons per square mile)'] = pow_outage['POPDEN_RURAL (persons per square mile)'].astype(float)\n",
    "pow_outage['AREAPCT_URBAN'] = pow_outage['AREAPCT_URBAN'].astype(float)\n",
    "pow_outage['AREAPCT_UC'] = pow_outage['AREAPCT_UC'].astype(float)\n",
    "pow_outage['PCT_LAND'] = pow_outage['PCT_LAND'].astype(float)\n",
    "pow_outage['PCT_WATER_TOT'] = pow_outage['PCT_WATER_TOT'].astype(float)\n",
    "pow_outage['PCT_WATER_INLAND'] = pow_outage['PCT_WATER_INLAND'].astype(float)\n",
    "   \n",
    "\n",
    "pow_outage.dtypes"
   ]
  },
  {
   "attachments": {},
   "cell_type": "markdown",
   "metadata": {},
   "source": [
    "Looks better now."
   ]
  },
  {
   "attachments": {},
   "cell_type": "markdown",
   "metadata": {},
   "source": [
    "### Baseline Model"
   ]
  },
  {
   "cell_type": "code",
   "execution_count": 21,
   "metadata": {},
   "outputs": [],
   "source": [
    "from sklearn.compose import ColumnTransformer\n",
    "from sklearn.ensemble import RandomForestClassifier\n",
    "from sklearn.model_selection import train_test_split\n",
    "from sklearn.pipeline import Pipeline\n",
    "from sklearn.preprocessing import OneHotEncoder\n",
    "from sklearn import metrics\n",
    "from sklearn.model_selection import cross_val_score\n",
    "from sklearn.model_selection import cross_val_predict"
   ]
  },
  {
   "attachments": {},
   "cell_type": "markdown",
   "metadata": {},
   "source": [
    "Recall we want to predict the cause of major outage. Therefore let's adress our target data."
   ]
  },
  {
   "cell_type": "code",
   "execution_count": 20,
   "metadata": {},
   "outputs": [
    {
     "data": {
      "text/plain": [
       "array(['severe weather', 'intentional attack',\n",
       "       'system operability disruption', 'equipment failure',\n",
       "       'public appeal', 'fuel supply emergency', 'islanding'],\n",
       "      dtype=object)"
      ]
     },
     "execution_count": 20,
     "metadata": {},
     "output_type": "execute_result"
    }
   ],
   "source": [
    "pow_outage['CAUSE.CATEGORY'].unique()"
   ]
  },
  {
   "cell_type": "code",
   "execution_count": 22,
   "metadata": {},
   "outputs": [],
   "source": [
    "y = pow_outage['CAUSE.CATEGORY']"
   ]
  },
  {
   "attachments": {},
   "cell_type": "markdown",
   "metadata": {},
   "source": [
    "As we are looking for the cause category, which are described above, the feature we will consider first will be CLIMATE.REGION, MONTH, TOTAL.PRICE (cents / kilowatt-hour), TOTAL.SALES (Megawatt-hour), POPPCT_UC"
   ]
  },
  {
   "cell_type": "code",
   "execution_count": 24,
   "metadata": {
    "ExecuteTime": {
     "end_time": "2019-10-31T23:36:28.662099Z",
     "start_time": "2019-10-31T23:36:28.660016Z"
    }
   },
   "outputs": [],
   "source": [
    "X = pow_outage[['CLIMATE.REGION', 'MONTH', 'TOTAL.PRICE (cents / kilowatt-hour)', 'TOTAL.SALES (Megawatt-hour)', 'POPPCT_UC']]"
   ]
  },
  {
   "cell_type": "code",
   "execution_count": 25,
   "metadata": {},
   "outputs": [],
   "source": [
    "Xy =  pow_outage[['CAUSE.CATEGORY','CLIMATE.REGION', 'MONTH', 'TOTAL.PRICE (cents / kilowatt-hour)', 'TOTAL.SALES (Megawatt-hour)', 'POPPCT_UC']]"
   ]
  },
  {
   "attachments": {},
   "cell_type": "markdown",
   "metadata": {},
   "source": [
    "We have to check for null values to be able to fit our model."
   ]
  },
  {
   "cell_type": "code",
   "execution_count": 26,
   "metadata": {},
   "outputs": [
    {
     "name": "stdout",
     "output_type": "stream",
     "text": [
      "4\n",
      "CLIMATE.REGION                          6\n",
      "MONTH                                   9\n",
      "TOTAL.PRICE (cents / kilowatt-hour)    22\n",
      "TOTAL.SALES (Megawatt-hour)            22\n",
      "POPPCT_UC                               0\n",
      "dtype: int64\n"
     ]
    },
    {
     "data": {
      "text/plain": [
       "(1534, 5)"
      ]
     },
     "execution_count": 26,
     "metadata": {},
     "output_type": "execute_result"
    }
   ],
   "source": [
    "print(X.isnull().sum())\n",
    "X.shape"
   ]
  },
  {
   "attachments": {},
   "cell_type": "markdown",
   "metadata": {},
   "source": [
    "As the number of NaN value is small, we will drop these."
   ]
  },
  {
   "cell_type": "code",
   "execution_count": 27,
   "metadata": {},
   "outputs": [
    {
     "data": {
      "text/plain": [
       "4\n",
       "CLIMATE.REGION                         0\n",
       "MONTH                                  0\n",
       "TOTAL.PRICE (cents / kilowatt-hour)    0\n",
       "TOTAL.SALES (Megawatt-hour)            0\n",
       "POPPCT_UC                              0\n",
       "dtype: int64"
      ]
     },
     "execution_count": 27,
     "metadata": {},
     "output_type": "execute_result"
    }
   ],
   "source": [
    "Xy = Xy.dropna()\n",
    "\n",
    "\n",
    "# We update our target and our features as a consequence\n",
    "X = Xy[['CLIMATE.REGION', 'MONTH', 'TOTAL.PRICE (cents / kilowatt-hour)', \n",
    "        'TOTAL.SALES (Megawatt-hour)', 'POPPCT_UC']]\n",
    "y = Xy['CAUSE.CATEGORY']\n",
    "\n",
    "X.isnull().sum()"
   ]
  },
  {
   "cell_type": "code",
   "execution_count": 28,
   "metadata": {},
   "outputs": [],
   "source": [
    "X_train, X_test, y_train, y_test = train_test_split(X, y, test_size=0.2, random_state=42)"
   ]
  },
  {
   "attachments": {},
   "cell_type": "markdown",
   "metadata": {},
   "source": [
    "Let's create our pipeline:"
   ]
  },
  {
   "cell_type": "code",
   "execution_count": 29,
   "metadata": {},
   "outputs": [],
   "source": [
    "preproc = ColumnTransformer(\n",
    "    transformers=[\n",
    "        ('categorical_cols', OneHotEncoder(), ['CLIMATE.REGION', 'MONTH'])\n",
    "    ], \n",
    "    remainder= 'passthrough'\n",
    ")\n",
    "\n",
    "pl = Pipeline([\n",
    "    ('preprocessor', preproc), \n",
    "    ('lin-reg', RandomForestClassifier())\n",
    "])\n",
    "\n",
    "\n",
    "scores = cross_val_score(pl, X, y, cv=5, scoring='accuracy')"
   ]
  },
  {
   "cell_type": "code",
   "execution_count": 30,
   "metadata": {},
   "outputs": [
    {
     "name": "stdout",
     "output_type": "stream",
     "text": [
      "Cross-validation scores: [0.57615894 0.44039735 0.37873754 0.3255814  0.49833887]\n",
      "Mean accuracy: 0.4438428197399397\n",
      "Standard deviation: 0.08799285008654457\n",
      "Accuracy score = 0.4432647644326476\n",
      "Precision score = 0.2618441936290393\n",
      "Discovery rate = 0.7381558063709607\n",
      "Recall score = 0.24335251591669316\n",
      "False negative rate = 0.7381558063709607\n",
      "F1-score = 0.25225993001855146\n"
     ]
    }
   ],
   "source": [
    "# accuracy = pl.score(X_test, y_test)\n",
    "# print(\"Baseline model accuracy:\", accuracy)\n",
    "\n",
    "print(\"Cross-validation scores:\", scores)\n",
    "# X_train, X_test, y_train, y_test = train_test_split(X, y, test_size=0.2, random_state=42)\n",
    "y_pred = pl.fit(X_train, y_train)\n",
    "y_pred = cross_val_predict(pl, X, y, cv=5)\n",
    "print(f'Accuracy score = {metrics.accuracy_score(y, y_pred)}')\n",
    "print(\"Standard deviation:\", scores.std())\n",
    "precision = metrics.precision_score(y, y_pred, average='macro')\n",
    "recall = metrics.recall_score(y, y_pred, average='macro')\n",
    "print(f'Precision score = {precision}')\n",
    "print(f'Discovery rate = {1 - precision}')\n",
    "print(f'Recall score = {recall}')\n",
    "print(f'False negative rate = {1 - precision}')\n",
    "print(f'F1-score = {2*precision*recall/(precision+recall)}')"
   ]
  },
  {
   "attachments": {},
   "cell_type": "markdown",
   "metadata": {},
   "source": [
    "### Final Model"
   ]
  },
  {
   "cell_type": "code",
   "execution_count": 31,
   "metadata": {},
   "outputs": [],
   "source": [
    "from sklearn.model_selection import GridSearchCV\n",
    "from sklearn.preprocessing import QuantileTransformer\n",
    "from sklearn.preprocessing import StandardScaler\n",
    "from sklearn.tree import DecisionTreeClassifier\n",
    "from sklearn.ensemble import RandomForestClassifier, GradientBoostingClassifier, AdaBoostClassifier\n",
    "from sklearn.svm import SVC\n",
    "from sklearn.neighbors import KNeighborsClassifier\n",
    "from sklearn.neural_network import MLPClassifier\n",
    "\n"
   ]
  },
  {
   "attachments": {},
   "cell_type": "markdown",
   "metadata": {},
   "source": [
    "We chose our new features."
   ]
  },
  {
   "cell_type": "code",
   "execution_count": 32,
   "metadata": {},
   "outputs": [],
   "source": [
    "Xy =  pow_outage[['CAUSE.CATEGORY','CAUSE.CATEGORY.DETAIL', 'CLIMATE.CATEGORY','ANOMALY.LEVEL (numeric)','PC.REALGSP.CHANGE', \n",
    "                  'POPDEN_URBAN (persons per square mile)','POPDEN_UC (persons per square mile)',\n",
    "                  'POPDEN_RURAL (persons per square mile)','CLIMATE.REGION', \n",
    "                  'MONTH', 'TOTAL.PRICE (cents / kilowatt-hour)', 'TOTAL.SALES (Megawatt-hour)', \n",
    "                  'POPPCT_UC', 'OUTAGE.DURATION (mins)', 'CUSTOMERS.AFFECTED', 'PCT_WATER_TOT',\n",
    "                    'PCT_WATER_INLAND', 'U.S._STATE', 'DEMAND.LOSS.MW (Megawatt)','TOTAL.CUSTOMERS']]\n",
    "\n",
    "#"
   ]
  },
  {
   "cell_type": "code",
   "execution_count": 34,
   "metadata": {},
   "outputs": [
    {
     "name": "stdout",
     "output_type": "stream",
     "text": [
      "4\n",
      "CAUSE.CATEGORY                              0\n",
      "CAUSE.CATEGORY.DETAIL                     471\n",
      "CLIMATE.CATEGORY                            9\n",
      "ANOMALY.LEVEL (numeric)                     9\n",
      "PC.REALGSP.CHANGE                           0\n",
      "POPDEN_URBAN (persons per square mile)      0\n",
      "POPDEN_UC (persons per square mile)        10\n",
      "POPDEN_RURAL (persons per square mile)     10\n",
      "CLIMATE.REGION                              6\n",
      "MONTH                                       9\n",
      "TOTAL.PRICE (cents / kilowatt-hour)        22\n",
      "TOTAL.SALES (Megawatt-hour)                22\n",
      "POPPCT_UC                                   0\n",
      "OUTAGE.DURATION (mins)                     58\n",
      "CUSTOMERS.AFFECTED                        443\n",
      "PCT_WATER_TOT                               0\n",
      "PCT_WATER_INLAND                            0\n",
      "U.S._STATE                                  0\n",
      "DEMAND.LOSS.MW (Megawatt)                 705\n",
      "TOTAL.CUSTOMERS                             0\n",
      "dtype: int64\n"
     ]
    },
    {
     "data": {
      "text/plain": [
       "(1534, 20)"
      ]
     },
     "execution_count": 34,
     "metadata": {},
     "output_type": "execute_result"
    }
   ],
   "source": [
    "print(Xy.isnull().sum())\n",
    "Xy.shape\n"
   ]
  },
  {
   "attachments": {},
   "cell_type": "markdown",
   "metadata": {},
   "source": [
    "There are to many missing values in CUSTOMERS.AFFECTED, we can not drop these values."
   ]
  },
  {
   "cell_type": "code",
   "execution_count": 35,
   "metadata": {},
   "outputs": [
    {
     "data": {
      "text/html": [
       "<div>\n",
       "<style scoped>\n",
       "    .dataframe tbody tr th:only-of-type {\n",
       "        vertical-align: middle;\n",
       "    }\n",
       "\n",
       "    .dataframe tbody tr th {\n",
       "        vertical-align: top;\n",
       "    }\n",
       "\n",
       "    .dataframe thead th {\n",
       "        text-align: right;\n",
       "    }\n",
       "</style>\n",
       "<table border=\"1\" class=\"dataframe\">\n",
       "  <thead>\n",
       "    <tr style=\"text-align: right;\">\n",
       "      <th>4</th>\n",
       "      <th>CAUSE.CATEGORY</th>\n",
       "      <th>OUTAGE.DURATION (mins)</th>\n",
       "    </tr>\n",
       "  </thead>\n",
       "  <tbody>\n",
       "    <tr>\n",
       "      <th>2</th>\n",
       "      <td>intentional attack</td>\n",
       "      <td>1.0</td>\n",
       "    </tr>\n",
       "    <tr>\n",
       "      <th>16</th>\n",
       "      <td>system operability disruption</td>\n",
       "      <td>19.0</td>\n",
       "    </tr>\n",
       "    <tr>\n",
       "      <th>17</th>\n",
       "      <td>intentional attack</td>\n",
       "      <td>0.0</td>\n",
       "    </tr>\n",
       "    <tr>\n",
       "      <th>18</th>\n",
       "      <td>system operability disruption</td>\n",
       "      <td>21.0</td>\n",
       "    </tr>\n",
       "    <tr>\n",
       "      <th>21</th>\n",
       "      <td>severe weather</td>\n",
       "      <td>935.0</td>\n",
       "    </tr>\n",
       "    <tr>\n",
       "      <th>...</th>\n",
       "      <td>...</td>\n",
       "      <td>...</td>\n",
       "    </tr>\n",
       "    <tr>\n",
       "      <th>1526</th>\n",
       "      <td>intentional attack</td>\n",
       "      <td>870.0</td>\n",
       "    </tr>\n",
       "    <tr>\n",
       "      <th>1529</th>\n",
       "      <td>system operability disruption</td>\n",
       "      <td>220.0</td>\n",
       "    </tr>\n",
       "    <tr>\n",
       "      <th>1531</th>\n",
       "      <td>fuel supply emergency</td>\n",
       "      <td>NaN</td>\n",
       "    </tr>\n",
       "    <tr>\n",
       "      <th>1532</th>\n",
       "      <td>islanding</td>\n",
       "      <td>59.0</td>\n",
       "    </tr>\n",
       "    <tr>\n",
       "      <th>1533</th>\n",
       "      <td>islanding</td>\n",
       "      <td>181.0</td>\n",
       "    </tr>\n",
       "  </tbody>\n",
       "</table>\n",
       "<p>443 rows × 2 columns</p>\n",
       "</div>"
      ],
      "text/plain": [
       "4                    CAUSE.CATEGORY  OUTAGE.DURATION (mins)\n",
       "2                intentional attack                     1.0\n",
       "16    system operability disruption                    19.0\n",
       "17               intentional attack                     0.0\n",
       "18    system operability disruption                    21.0\n",
       "21                   severe weather                   935.0\n",
       "...                             ...                     ...\n",
       "1526             intentional attack                   870.0\n",
       "1529  system operability disruption                   220.0\n",
       "1531          fuel supply emergency                     NaN\n",
       "1532                      islanding                    59.0\n",
       "1533                      islanding                   181.0\n",
       "\n",
       "[443 rows x 2 columns]"
      ]
     },
     "execution_count": 35,
     "metadata": {},
     "output_type": "execute_result"
    }
   ],
   "source": [
    "Xy[Xy['CUSTOMERS.AFFECTED'].isnull()][['CAUSE.CATEGORY', 'OUTAGE.DURATION (mins)']]"
   ]
  },
  {
   "attachments": {},
   "cell_type": "markdown",
   "metadata": {},
   "source": [
    "All cause category are here, let's replace the NaN by the mean value."
   ]
  },
  {
   "cell_type": "code",
   "execution_count": 36,
   "metadata": {},
   "outputs": [
    {
     "name": "stderr",
     "output_type": "stream",
     "text": [
      "/home/ali-tz/anaconda3/envs/dsc80/lib/python3.8/site-packages/pandas/core/generic.py:6392: SettingWithCopyWarning:\n",
      "\n",
      "\n",
      "A value is trying to be set on a copy of a slice from a DataFrame\n",
      "\n",
      "See the caveats in the documentation: https://pandas.pydata.org/pandas-docs/stable/user_guide/indexing.html#returning-a-view-versus-a-copy\n",
      "\n"
     ]
    }
   ],
   "source": [
    "mean = np.mean(Xy['CUSTOMERS.AFFECTED'])\n",
    "Xy['CUSTOMERS.AFFECTED'].fillna(mean, inplace=True)\n",
    "Xy['CAUSE.CATEGORY.DETAIL'].fillna('Unknown', inplace=True)"
   ]
  },
  {
   "cell_type": "code",
   "execution_count": 37,
   "metadata": {},
   "outputs": [
    {
     "data": {
      "text/plain": [
       "4\n",
       "ANOMALY.LEVEL (numeric)                   0\n",
       "CAUSE.CATEGORY.DETAIL                     0\n",
       "CLIMATE.CATEGORY                          0\n",
       "PC.REALGSP.CHANGE                         0\n",
       "POPDEN_URBAN (persons per square mile)    0\n",
       "POPDEN_UC (persons per square mile)       0\n",
       "POPDEN_RURAL (persons per square mile)    0\n",
       "CLIMATE.REGION                            0\n",
       "MONTH                                     0\n",
       "TOTAL.PRICE (cents / kilowatt-hour)       0\n",
       "TOTAL.SALES (Megawatt-hour)               0\n",
       "POPPCT_UC                                 0\n",
       "OUTAGE.DURATION (mins)                    0\n",
       "CUSTOMERS.AFFECTED                        0\n",
       "PCT_WATER_TOT                             0\n",
       "PCT_WATER_INLAND                          0\n",
       "DEMAND.LOSS.MW (Megawatt)                 0\n",
       "TOTAL.CUSTOMERS                           0\n",
       "dtype: int64"
      ]
     },
     "execution_count": 37,
     "metadata": {},
     "output_type": "execute_result"
    }
   ],
   "source": [
    "Xy = Xy.dropna()\n",
    "\n",
    "# We update our target and our features as a consequence\n",
    "X = Xy[['ANOMALY.LEVEL (numeric)','CAUSE.CATEGORY.DETAIL', 'CLIMATE.CATEGORY', 'PC.REALGSP.CHANGE', \n",
    "                  'POPDEN_URBAN (persons per square mile)','POPDEN_UC (persons per square mile)',\n",
    "                  'POPDEN_RURAL (persons per square mile)','CLIMATE.REGION', \n",
    "                  'MONTH', 'TOTAL.PRICE (cents / kilowatt-hour)', 'TOTAL.SALES (Megawatt-hour)', \n",
    "                  'POPPCT_UC', 'OUTAGE.DURATION (mins)', 'CUSTOMERS.AFFECTED', 'PCT_WATER_TOT', 'PCT_WATER_INLAND', \n",
    "                   'DEMAND.LOSS.MW (Megawatt)', 'TOTAL.CUSTOMERS']]\n",
    "y = Xy['CAUSE.CATEGORY']\n",
    "\n",
    "X.isnull().sum()"
   ]
  },
  {
   "attachments": {},
   "cell_type": "markdown",
   "metadata": {},
   "source": [
    "We will now perform a quantil transform on ['ANOMALY.LEVEL (numeric)', 'POPDEN_URBAN (persons per square mile)', 'DEMAND.LOSS.MW (Megawatt)','PCT_WATER_INLAND', 'POPDEN_UC (persons per square mile)', 'POPDEN_RURAL (persons per square mile)', 'OUTAGE.DURATION (mins)'].\n",
    "We will one hot encode 'CLIMATE.REGION', 'CLIMATE.CATEGORY', 'CAUSE.CATEGORY.DETAIL'.\n",
    "Finally we will standardize 'PC.REALGSP.CHANGE'."
   ]
  },
  {
   "cell_type": "code",
   "execution_count": 39,
   "metadata": {},
   "outputs": [],
   "source": [
    "preproc = ColumnTransformer(\n",
    "    transformers=[\n",
    "        ('categorical_cols', OneHotEncoder(handle_unknown='ignore'), [ 'CLIMATE.REGION', 'CLIMATE.CATEGORY', 'CAUSE.CATEGORY.DETAIL']),\n",
    "        ('quantile_transforms', QuantileTransformer(n_quantiles=4), ['ANOMALY.LEVEL (numeric)', 'POPDEN_URBAN (persons per square mile)',\n",
    "                                                                     'DEMAND.LOSS.MW (Megawatt)','PCT_WATER_INLAND', \n",
    "                                                                     'POPDEN_UC (persons per square mile)',\n",
    "                                                                    'POPDEN_RURAL (persons per square mile)',\n",
    "                                                                    'OUTAGE.DURATION (mins)']),\n",
    "        ('stdzization', StandardScaler(), ['PC.REALGSP.CHANGE'])\n",
    "    ], \n",
    "    remainder= 'passthrough'\n",
    ")\n",
    "#,'OUTAGE.RESTORATION.TIME'\n",
    "\n",
    "\n",
    "\n",
    "# scores = cross_val_score(pl, X, y, cv=5, scoring='accuracy')"
   ]
  },
  {
   "attachments": {},
   "cell_type": "markdown",
   "metadata": {},
   "source": [
    "#### First Model : Random Forest"
   ]
  },
  {
   "attachments": {},
   "cell_type": "markdown",
   "metadata": {},
   "source": [
    "For our first model, we try the random forest.\n",
    "We set up different hyperparameters to test to get the best result usinf GridSerachCV."
   ]
  },
  {
   "cell_type": "code",
   "execution_count": 40,
   "metadata": {
    "ExecuteTime": {
     "end_time": "2019-10-31T23:36:28.662099Z",
     "start_time": "2019-10-31T23:36:28.660016Z"
    }
   },
   "outputs": [],
   "source": [
    "hyperparameters = {\n",
    "    'max_depth': [2, 3, 4, 5, 7, 10, 13, 15, 18, None], \n",
    "    'min_samples_split': [2, 5, 10, 20, 50, 100, 200],\n",
    "    'criterion': ['gini', 'entropy']\n",
    "}"
   ]
  },
  {
   "attachments": {},
   "cell_type": "markdown",
   "metadata": {},
   "source": [
    "We define our Pipeline"
   ]
  },
  {
   "cell_type": "code",
   "execution_count": 41,
   "metadata": {},
   "outputs": [
    {
     "data": {
      "text/plain": [
       "{'criterion': 'gini', 'max_depth': None, 'min_samples_split': 20}"
      ]
     },
     "execution_count": 41,
     "metadata": {},
     "output_type": "execute_result"
    }
   ],
   "source": [
    "pl = Pipeline([\n",
    "    ('preprocessor', preproc), \n",
    "    ('rand-for', GridSearchCV(RandomForestClassifier(), hyperparameters, cv=5))\n",
    "])\n",
    "\n",
    "pl.fit(X,y)\n",
    "pl.named_steps['rand-for'].best_params_"
   ]
  },
  {
   "attachments": {},
   "cell_type": "markdown",
   "metadata": {},
   "source": [
    "The perform a cross validation on the best model."
   ]
  },
  {
   "cell_type": "code",
   "execution_count": 42,
   "metadata": {},
   "outputs": [],
   "source": [
    "# searcher = GridSearchCV(RandomForestClassifier(), hyperparameters, cv=5)\n",
    "scores = cross_val_score(pl, X, y, cv=5, scoring='accuracy')"
   ]
  },
  {
   "attachments": {},
   "cell_type": "markdown",
   "metadata": {},
   "source": [
    "The show results : "
   ]
  },
  {
   "cell_type": "code",
   "execution_count": 43,
   "metadata": {},
   "outputs": [
    {
     "name": "stdout",
     "output_type": "stream",
     "text": [
      "Cross-validation scores: [0.74683544 0.79113924 0.75316456 0.67515924 0.76433121]\n",
      "Mean accuracy: 0.7461259372732403\n",
      "Standard deviation: 0.03858483570558724\n"
     ]
    }
   ],
   "source": [
    "# searcher.fit(X_train, y_train)\n",
    "print(\"Cross-validation scores:\", scores)\n",
    "print(\"Mean accuracy:\", scores.mean())\n",
    "print(\"Standard deviation:\", scores.std())\n"
   ]
  },
  {
   "cell_type": "code",
   "execution_count": 44,
   "metadata": {},
   "outputs": [],
   "source": [
    "X_train, X_test, y_train, y_test = train_test_split(X, y, test_size=0.2, random_state=42)\n",
    "y_pred = pl.fit(X_train, y_train)\n",
    "y_pred = cross_val_predict(pl, X, y, cv=5)\n",
    "print(f'Accuracy score = {metrics.accuracy_score(y, y_pred)}')\n",
    "precision = metrics.precision_score(y, y_pred, average='macro')\n",
    "recall = metrics.recall_score(y, y_pred, average='macro')\n",
    "print(f'Precision score = {precision}')\n",
    "print(f'Discovery rate = {1 - precision}')\n",
    "print(f'Recall score = {recall}')\n",
    "print(f'False negative rate = {1 - precision}')\n",
    "print(f'F1-score = {2*precision*recall/(precision+recall)}')\n",
    "\n",
    "# metrics.confusion_matrix(y, y_pred)\n",
    "# metrics.plot_confusion_matrix(pl, X, y)\n",
    "\n",
    "cm = metrics.confusion_matrix(y, y_pred)\n",
    "\n",
    "# Plotting the confusion matrix\n",
    "fig, ax = plt.subplots(figsize=(8, 6))\n",
    "disp = metrics.plot_confusion_matrix(pl, X, y, ax=ax)\n",
    "disp.ax_.set_title('Confusion Matrix')\n",
    "\n",
    "# Rotating the x-axis labels\n",
    "plt.xticks(rotation=45)\n",
    "\n",
    "# Adding labels to the x-axis and y-axis\n",
    "plt.xlabel('Predicted Labels')\n",
    "plt.ylabel('True Labels')\n",
    "\n",
    "# Adjusting the layout to prevent overlap\n",
    "plt.tight_layout()\n",
    "\n",
    "# Displaying the plot\n",
    "plt.show()\n",
    "plt.savefig('confusion_matrix_RF.png')"
   ]
  },
  {
   "attachments": {},
   "cell_type": "markdown",
   "metadata": {},
   "source": [
    "#### Second Model : Decision Tree"
   ]
  },
  {
   "attachments": {},
   "cell_type": "markdown",
   "metadata": {},
   "source": [
    "The same way, we define our hyperparameters, create our pipeline, realize our cross validation and show the results."
   ]
  },
  {
   "cell_type": "code",
   "execution_count": null,
   "metadata": {},
   "outputs": [],
   "source": [
    "hyperparameters = {\n",
    "    'max_depth': [2, 3, 4, 5, 7, 10, 13, 15, 18, None],\n",
    "    'min_samples_split': [2, 5, 10, 20, 50, 100, 200],\n",
    "    'criterion': ['gini', 'entropy']\n",
    "}"
   ]
  },
  {
   "cell_type": "code",
   "execution_count": null,
   "metadata": {},
   "outputs": [
    {
     "data": {
      "text/plain": [
       "{'criterion': 'gini', 'max_depth': None, 'min_samples_split': 10}"
      ]
     },
     "execution_count": 592,
     "metadata": {},
     "output_type": "execute_result"
    }
   ],
   "source": [
    "pl = Pipeline([\n",
    "    ('preprocessor', preproc), \n",
    "    ('dec-tree', GridSearchCV(DecisionTreeClassifier(), hyperparameters, cv=5))\n",
    "])\n",
    "\n",
    "pl.fit(X,y)\n",
    "pl.named_steps['dec-tree'].best_params_"
   ]
  },
  {
   "cell_type": "code",
   "execution_count": null,
   "metadata": {},
   "outputs": [
    {
     "name": "stdout",
     "output_type": "stream",
     "text": [
      "Cross-validation scores: [0.82278481 0.84177215 0.80379747 0.58598726 0.7388535 ]\n",
      "Mean accuracy: 0.7586390389421913\n",
      "Standard deviation: 0.09302169852124834\n"
     ]
    }
   ],
   "source": [
    "scores = cross_val_score(pl, X, y, cv=5, scoring='accuracy')\n",
    "# searcher.fit(X_train, y_train)\n",
    "print(\"Cross-validation scores:\", scores)\n",
    "print(\"Mean accuracy:\", scores.mean())\n",
    "print(\"Standard deviation:\", scores.std())"
   ]
  },
  {
   "cell_type": "code",
   "execution_count": null,
   "metadata": {},
   "outputs": [
    {
     "name": "stdout",
     "output_type": "stream",
     "text": [
      "Accuracy score = 0.7626903553299492\n",
      "Precision score = 0.5979894875707096\n",
      "Discovery rate = 0.4020105124292904\n",
      "Recall score = 0.5907599860372296\n",
      "False negative rate = 0.4020105124292904\n",
      "F1-score = 0.5943527533273907\n"
     ]
    },
    {
     "name": "stderr",
     "output_type": "stream",
     "text": [
      "/home/ali-tz/anaconda3/envs/dsc80/lib/python3.8/site-packages/sklearn/utils/deprecation.py:87: FutureWarning:\n",
      "\n",
      "Function plot_confusion_matrix is deprecated; Function `plot_confusion_matrix` is deprecated in 1.0 and will be removed in 1.2. Use one of the class methods: ConfusionMatrixDisplay.from_predictions or ConfusionMatrixDisplay.from_estimator.\n",
      "\n"
     ]
    },
    {
     "data": {
      "image/png": "[encoded data removed]",
      "text/plain": [
       "<Figure size 800x600 with 2 Axes>"
      ]
     },
     "metadata": {},
     "output_type": "display_data"
    },
    {
     "data": {
      "text/plain": [
       "<Figure size 640x480 with 0 Axes>"
      ]
     },
     "metadata": {},
     "output_type": "display_data"
    }
   ],
   "source": [
    "X_train, X_test, y_train, y_test = train_test_split(X, y, test_size=0.2, random_state=42)\n",
    "y_pred = pl.fit(X_train, y_train)\n",
    "y_pred = cross_val_predict(pl, X, y, cv=5)\n",
    "print(f'Accuracy score = {metrics.accuracy_score(y, y_pred)}')\n",
    "precision = metrics.precision_score(y, y_pred, average='macro')\n",
    "recall = metrics.recall_score(y, y_pred, average='macro')\n",
    "print(f'Precision score = {precision}')\n",
    "print(f'Discovery rate = {1 - precision}')\n",
    "print(f'Recall score = {recall}')\n",
    "print(f'False negative rate = {1 - precision}')\n",
    "print(f'F1-score = {2*precision*recall/(precision+recall)}')\n",
    "\n",
    "# metrics.confusion_matrix(y, y_pred)\n",
    "# metrics.plot_confusion_matrix(pl, X, y)\n",
    "\n",
    "cm = metrics.confusion_matrix(y, y_pred)\n",
    "\n",
    "# Plotting the confusion matrix\n",
    "fig, ax = plt.subplots(figsize=(8, 6))\n",
    "disp = metrics.plot_confusion_matrix(pl, X, y, ax=ax)\n",
    "disp.ax_.set_title('Confusion Matrix')\n",
    "\n",
    "# Rotating the x-axis labels\n",
    "plt.xticks(rotation=45)\n",
    "\n",
    "# Adding labels to the x-axis and y-axis\n",
    "plt.xlabel('Predicted Labels')\n",
    "plt.ylabel('True Labels')\n",
    "\n",
    "# Adjusting the layout to prevent overlap\n",
    "plt.tight_layout()\n",
    "\n",
    "# Displaying the plot\n",
    "plt.show()\n",
    "plt.savefig('confusion_matrix_DT.png')"
   ]
  },
  {
   "attachments": {},
   "cell_type": "markdown",
   "metadata": {},
   "source": [
    "#### 4th Model : Gradient boosting"
   ]
  },
  {
   "attachments": {},
   "cell_type": "markdown",
   "metadata": {},
   "source": [
    "We apply the same method again to get our confusion matrix and the values of the different metrics."
   ]
  },
  {
   "cell_type": "code",
   "execution_count": null,
   "metadata": {},
   "outputs": [],
   "source": [
    "hyperparameters = {\n",
    "    'n_estimators': [50, 100, 200],\n",
    "    'learning_rate': [0.01, 0.1, 1.0],\n",
    "    'max_depth': [3, 5, None]\n",
    "}\n"
   ]
  },
  {
   "cell_type": "code",
   "execution_count": null,
   "metadata": {},
   "outputs": [
    {
     "data": {
      "text/plain": [
       "{'learning_rate': 0.1, 'max_depth': 3, 'n_estimators': 50}"
      ]
     },
     "execution_count": 599,
     "metadata": {},
     "output_type": "execute_result"
    }
   ],
   "source": [
    "pl = Pipeline([\n",
    "    ('preprocessor', preproc), \n",
    "    ('grad-boost', GridSearchCV(GradientBoostingClassifier(), hyperparameters, cv=5))\n",
    "])\n",
    "\n",
    "pl.fit(X,y)\n",
    "pl.named_steps['grad-boost'].best_params_"
   ]
  },
  {
   "cell_type": "code",
   "execution_count": null,
   "metadata": {},
   "outputs": [
    {
     "name": "stdout",
     "output_type": "stream",
     "text": [
      "Cross-validation scores: [0.82911392 0.82278481 0.84810127 0.84713376 0.75796178]\n",
      "Mean accuracy: 0.8210191082802549\n",
      "Standard deviation: 0.03304629524345365\n"
     ]
    }
   ],
   "source": [
    "scores = cross_val_score(pl, X, y, cv=5, scoring='accuracy')\n",
    "# searcher.fit(X_train, y_train)\n",
    "print(\"Cross-validation scores:\", scores)\n",
    "print(\"Mean accuracy:\", scores.mean())\n",
    "print(\"Standard deviation:\", scores.std())"
   ]
  },
  {
   "cell_type": "code",
   "execution_count": null,
   "metadata": {},
   "outputs": [
    {
     "name": "stdout",
     "output_type": "stream",
     "text": [
      "Accuracy score = 0.8058375634517766\n",
      "Precision score = 0.6900518710506603\n",
      "Discovery rate = 0.30994812894933965\n",
      "Recall score = 0.6080659905688351\n",
      "False negative rate = 0.30994812894933965\n",
      "F1-score = 0.6464699191348008\n"
     ]
    },
    {
     "name": "stderr",
     "output_type": "stream",
     "text": [
      "/home/ali-tz/anaconda3/envs/dsc80/lib/python3.8/site-packages/sklearn/utils/deprecation.py:87: FutureWarning:\n",
      "\n",
      "Function plot_confusion_matrix is deprecated; Function `plot_confusion_matrix` is deprecated in 1.0 and will be removed in 1.2. Use one of the class methods: ConfusionMatrixDisplay.from_predictions or ConfusionMatrixDisplay.from_estimator.\n",
      "\n"
     ]
    },
    {
     "data": {
      "image/png": "[encoded data removed]",
      "text/plain": [
       "<Figure size 800x600 with 2 Axes>"
      ]
     },
     "metadata": {},
     "output_type": "display_data"
    },
    {
     "data": {
      "text/plain": [
       "<Figure size 640x480 with 0 Axes>"
      ]
     },
     "metadata": {},
     "output_type": "display_data"
    }
   ],
   "source": [
    "X_train, X_test, y_train, y_test = train_test_split(X, y, test_size=0.2, random_state=42)\n",
    "y_pred = pl.fit(X_train, y_train)\n",
    "y_pred = cross_val_predict(pl, X, y, cv=5)\n",
    "print(f'Accuracy score = {metrics.accuracy_score(y, y_pred)}')\n",
    "precision = metrics.precision_score(y, y_pred, average='macro')\n",
    "recall = metrics.recall_score(y, y_pred, average='macro')\n",
    "print(f'Precision score = {precision}')\n",
    "print(f'Discovery rate = {1 - precision}')\n",
    "print(f'Recall score = {recall}')\n",
    "print(f'False negative rate = {1 - precision}')\n",
    "print(f'F1-score = {2*precision*recall/(precision+recall)}')\n",
    "\n",
    "# metrics.confusion_matrix(y, y_pred)\n",
    "# metrics.plot_confusion_matrix(pl, X, y)\n",
    "\n",
    "cm = metrics.confusion_matrix(y, y_pred)\n",
    "\n",
    "# Plotting the confusion matrix\n",
    "fig, ax = plt.subplots(figsize=(8, 6))\n",
    "disp = metrics.plot_confusion_matrix(pl, X, y, ax=ax)\n",
    "disp.ax_.set_title('Confusion Matrix')\n",
    "\n",
    "# Rotating the x-axis labels\n",
    "plt.xticks(rotation=45)\n",
    "\n",
    "# Adding labels to the x-axis and y-axis\n",
    "plt.xlabel('Predicted Labels')\n",
    "plt.ylabel('True Labels')\n",
    "\n",
    "# Adjusting the layout to prevent overlap\n",
    "plt.tight_layout()\n",
    "\n",
    "# Displaying the plot\n",
    "plt.show()\n",
    "plt.savefig('confusion_matrix_GB.png')\n"
   ]
  },
  {
   "attachments": {},
   "cell_type": "markdown",
   "metadata": {},
   "source": [
    "#### 5th Model : Ada boost"
   ]
  },
  {
   "attachments": {},
   "cell_type": "markdown",
   "metadata": {},
   "source": [
    "Same method again :"
   ]
  },
  {
   "cell_type": "code",
   "execution_count": null,
   "metadata": {},
   "outputs": [],
   "source": [
    "hyperparameters = {\n",
    "    'n_estimators': [50, 100, 200],\n",
    "    'learning_rate': [0.01, 0.1, 1.0]\n",
    "}\n"
   ]
  },
  {
   "cell_type": "code",
   "execution_count": null,
   "metadata": {},
   "outputs": [
    {
     "data": {
      "text/plain": [
       "{'learning_rate': 0.01, 'n_estimators': 200}"
      ]
     },
     "execution_count": 603,
     "metadata": {},
     "output_type": "execute_result"
    }
   ],
   "source": [
    "pl = Pipeline([\n",
    "    ('preprocessor', preproc), \n",
    "    ('ada', GridSearchCV(AdaBoostClassifier(), hyperparameters, cv=5))\n",
    "])\n",
    "\n",
    "pl.fit(X,y)\n",
    "pl.named_steps['ada'].best_params_"
   ]
  },
  {
   "cell_type": "code",
   "execution_count": null,
   "metadata": {},
   "outputs": [
    {
     "name": "stdout",
     "output_type": "stream",
     "text": [
      "Cross-validation scores: [0.65822785 0.70886076 0.68987342 0.66878981 0.65605096]\n",
      "Mean accuracy: 0.6763605579295332\n",
      "Standard deviation: 0.020186390673569213\n"
     ]
    }
   ],
   "source": [
    "scores = cross_val_score(pl, X, y, cv=5, scoring='accuracy')\n",
    "# searcher.fit(X_train, y_train)\n",
    "print(\"Cross-validation scores:\", scores)\n",
    "print(\"Mean accuracy:\", scores.mean())\n",
    "print(\"Standard deviation:\", scores.std())"
   ]
  },
  {
   "cell_type": "code",
   "execution_count": null,
   "metadata": {},
   "outputs": [
    {
     "name": "stdout",
     "output_type": "stream",
     "text": [
      "Accuracy score = 0.6763959390862944\n",
      "Precision score = 0.3482267914977344\n",
      "Discovery rate = 0.6517732085022656\n",
      "Recall score = 0.32403760984090557\n",
      "False negative rate = 0.6517732085022656\n",
      "F1-score = 0.33569701734854474\n"
     ]
    },
    {
     "name": "stderr",
     "output_type": "stream",
     "text": [
      "/home/ali-tz/anaconda3/envs/dsc80/lib/python3.8/site-packages/sklearn/metrics/_classification.py:1308: UndefinedMetricWarning:\n",
      "\n",
      "Precision is ill-defined and being set to 0.0 in labels with no predicted samples. Use `zero_division` parameter to control this behavior.\n",
      "\n",
      "/home/ali-tz/anaconda3/envs/dsc80/lib/python3.8/site-packages/sklearn/utils/deprecation.py:87: FutureWarning:\n",
      "\n",
      "Function plot_confusion_matrix is deprecated; Function `plot_confusion_matrix` is deprecated in 1.0 and will be removed in 1.2. Use one of the class methods: ConfusionMatrixDisplay.from_predictions or ConfusionMatrixDisplay.from_estimator.\n",
      "\n"
     ]
    },
    {
     "data": {
      "image/png": "[encoded data removed]",
      "text/plain": [
       "<Figure size 800x600 with 2 Axes>"
      ]
     },
     "metadata": {},
     "output_type": "display_data"
    },
    {
     "data": {
      "text/plain": [
       "<Figure size 640x480 with 0 Axes>"
      ]
     },
     "metadata": {},
     "output_type": "display_data"
    }
   ],
   "source": [
    "X_train, X_test, y_train, y_test = train_test_split(X, y, test_size=0.2, random_state=42)\n",
    "y_pred = pl.fit(X_train, y_train)\n",
    "y_pred = cross_val_predict(pl, X, y, cv=5)\n",
    "print(f'Accuracy score = {metrics.accuracy_score(y, y_pred)}')\n",
    "precision = metrics.precision_score(y, y_pred, average='macro')\n",
    "recall = metrics.recall_score(y, y_pred, average='macro')\n",
    "print(f'Precision score = {precision}')\n",
    "print(f'Discovery rate = {1 - precision}')\n",
    "print(f'Recall score = {recall}')\n",
    "print(f'False negative rate = {1 - precision}')\n",
    "print(f'F1-score = {2*precision*recall/(precision+recall)}')\n",
    "\n",
    "# metrics.confusion_matrix(y, y_pred)\n",
    "# metrics.plot_confusion_matrix(pl, X, y)\n",
    "\n",
    "cm = metrics.confusion_matrix(y, y_pred)\n",
    "\n",
    "# Plotting the confusion matrix\n",
    "fig, ax = plt.subplots(figsize=(8, 6))\n",
    "disp = metrics.plot_confusion_matrix(pl, X, y, ax=ax)\n",
    "disp.ax_.set_title('Confusion Matrix')\n",
    "\n",
    "# Rotating the x-axis labels\n",
    "plt.xticks(rotation=45)\n",
    "\n",
    "# Adding labels to the x-axis and y-axis\n",
    "plt.xlabel('Predicted Labels')\n",
    "plt.ylabel('True Labels')\n",
    "\n",
    "# Adjusting the layout to prevent overlap\n",
    "plt.tight_layout()\n",
    "\n",
    "# Displaying the plot\n",
    "plt.show()\n",
    "plt.savefig('confusion_matrix_AB.png')"
   ]
  },
  {
   "attachments": {},
   "cell_type": "markdown",
   "metadata": {},
   "source": [
    "### Fairness Analysis"
   ]
  },
  {
   "attachments": {},
   "cell_type": "markdown",
   "metadata": {},
   "source": [
    "Let's evaluate our model"
   ]
  },
  {
   "attachments": {},
   "cell_type": "markdown",
   "metadata": {},
   "source": [
    "We first notice that we have much more data about severe weather and intentional attacks than the others, which could lead to bias."
   ]
  },
  {
   "cell_type": "code",
   "execution_count": null,
   "metadata": {},
   "outputs": [
    {
     "data": {
      "application/vnd.plotly.v1+json": {
       "config": {
        "plotlyServerURL": "https://plot.ly"
       },
       "data": [
        {
         "alignmentgroup": "True",
         "bingroup": "x",
         "hovertemplate": "variable=CAUSE.CATEGORY<br>value=%{x}<br>count=%{y}<extra></extra>",
         "legendgroup": "CAUSE.CATEGORY",
         "marker": {
          "color": "#636efa",
          "pattern": {
           "shape": ""
          }
         },
         "name": "CAUSE.CATEGORY",
         "offsetgroup": "CAUSE.CATEGORY",
         "orientation": "v",
         "showlegend": true,
         "type": "histogram",
         "x": [
          "severe weather",
          "intentional attack",
          "severe weather",
          "severe weather",
          "severe weather",
          "severe weather",
          "severe weather",
          "severe weather",
          "intentional attack",
          "severe weather",
          "severe weather",
          "severe weather",
          "intentional attack",
          "intentional attack",
          "severe weather",
          "system operability disruption",
          "intentional attack",
          "system operability disruption",
          "severe weather",
          "severe weather",
          "severe weather",
          "severe weather",
          "intentional attack",
          "intentional attack",
          "severe weather",
          "equipment failure",
          "severe weather",
          "severe weather",
          "severe weather",
          "public appeal",
          "intentional attack",
          "severe weather",
          "intentional attack",
          "severe weather",
          "severe weather",
          "severe weather",
          "system operability disruption",
          "severe weather",
          "intentional attack",
          "severe weather",
          "severe weather",
          "severe weather",
          "severe weather",
          "severe weather",
          "equipment failure",
          "intentional attack",
          "severe weather",
          "intentional attack",
          "severe weather",
          "fuel supply emergency",
          "intentional attack",
          "severe weather",
          "severe weather",
          "fuel supply emergency",
          "fuel supply emergency",
          "severe weather",
          "intentional attack",
          "intentional attack",
          "severe weather",
          "public appeal",
          "severe weather",
          "intentional attack",
          "intentional attack",
          "fuel supply emergency",
          "severe weather",
          "fuel supply emergency",
          "intentional attack",
          "severe weather",
          "intentional attack",
          "intentional attack",
          "severe weather",
          "severe weather",
          "severe weather",
          "severe weather",
          "severe weather",
          "severe weather",
          "public appeal",
          "severe weather",
          "severe weather",
          "system operability disruption",
          "severe weather",
          "system operability disruption",
          "severe weather",
          "severe weather",
          "severe weather",
          "severe weather",
          "severe weather",
          "severe weather",
          "severe weather",
          "severe weather",
          "severe weather",
          "severe weather",
          "severe weather",
          "severe weather",
          "severe weather",
          "severe weather",
          "severe weather",
          "intentional attack",
          "severe weather",
          "severe weather",
          "severe weather",
          "severe weather",
          "severe weather",
          "severe weather",
          "severe weather",
          "severe weather",
          "severe weather",
          "severe weather",
          "equipment failure",
          "severe weather",
          "severe weather",
          "severe weather",
          "severe weather",
          "severe weather",
          "severe weather",
          "intentional attack",
          "severe weather",
          "severe weather",
          "severe weather",
          "severe weather",
          "equipment failure",
          "severe weather",
          "severe weather",
          "severe weather",
          "islanding",
          "severe weather",
          "severe weather",
          "severe weather",
          "system operability disruption",
          "equipment failure",
          "severe weather",
          "severe weather",
          "severe weather",
          "severe weather",
          "severe weather",
          "severe weather",
          "severe weather",
          "severe weather",
          "severe weather",
          "severe weather",
          "severe weather",
          "severe weather",
          "severe weather",
          "severe weather",
          "intentional attack",
          "severe weather",
          "severe weather",
          "severe weather",
          "severe weather",
          "severe weather",
          "severe weather",
          "severe weather",
          "severe weather",
          "severe weather",
          "severe weather",
          "severe weather",
          "severe weather",
          "severe weather",
          "severe weather",
          "intentional attack",
          "severe weather",
          "severe weather",
          "severe weather",
          "severe weather",
          "severe weather",
          "severe weather",
          "severe weather",
          "severe weather",
          "system operability disruption",
          "severe weather",
          "system operability disruption",
          "severe weather",
          "intentional attack",
          "public appeal",
          "severe weather",
          "severe weather",
          "severe weather",
          "severe weather",
          "intentional attack",
          "system operability disruption",
          "severe weather",
          "severe weather",
          "fuel supply emergency",
          "public appeal",
          "severe weather",
          "public appeal",
          "severe weather",
          "severe weather",
          "system operability disruption",
          "severe weather",
          "severe weather",
          "system operability disruption",
          "fuel supply emergency",
          "severe weather",
          "public appeal",
          "system operability disruption",
          "system operability disruption",
          "severe weather",
          "intentional attack",
          "equipment failure",
          "equipment failure",
          "severe weather",
          "severe weather",
          "public appeal",
          "severe weather",
          "severe weather",
          "intentional attack",
          "severe weather",
          "public appeal",
          "public appeal",
          "equipment failure",
          "system operability disruption",
          "severe weather",
          "intentional attack",
          "severe weather",
          "intentional attack",
          "severe weather",
          "severe weather",
          "severe weather",
          "fuel supply emergency",
          "fuel supply emergency",
          "severe weather",
          "equipment failure",
          "severe weather",
          "severe weather",
          "severe weather",
          "system operability disruption",
          "system operability disruption",
          "severe weather",
          "severe weather",
          "system operability disruption",
          "severe weather",
          "fuel supply emergency",
          "severe weather",
          "public appeal",
          "system operability disruption",
          "system operability disruption",
          "system operability disruption",
          "severe weather",
          "equipment failure",
          "severe weather",
          "severe weather",
          "system operability disruption",
          "system operability disruption",
          "severe weather",
          "intentional attack",
          "intentional attack",
          "public appeal",
          "severe weather",
          "severe weather",
          "severe weather",
          "public appeal",
          "system operability disruption",
          "severe weather",
          "severe weather",
          "severe weather",
          "intentional attack",
          "severe weather",
          "severe weather",
          "public appeal",
          "public appeal",
          "public appeal",
          "severe weather",
          "intentional attack",
          "severe weather",
          "public appeal",
          "severe weather",
          "severe weather",
          "severe weather",
          "system operability disruption",
          "severe weather",
          "public appeal",
          "severe weather",
          "fuel supply emergency",
          "severe weather",
          "public appeal",
          "intentional attack",
          "severe weather",
          "system operability disruption",
          "severe weather",
          "equipment failure",
          "severe weather",
          "severe weather",
          "severe weather",
          "severe weather",
          "severe weather",
          "severe weather",
          "severe weather",
          "severe weather",
          "severe weather",
          "public appeal",
          "intentional attack",
          "severe weather",
          "system operability disruption",
          "intentional attack",
          "severe weather",
          "fuel supply emergency",
          "severe weather",
          "severe weather",
          "intentional attack",
          "islanding",
          "equipment failure",
          "system operability disruption",
          "severe weather",
          "islanding",
          "intentional attack",
          "severe weather",
          "system operability disruption",
          "severe weather",
          "intentional attack",
          "severe weather",
          "severe weather",
          "system operability disruption",
          "severe weather",
          "intentional attack",
          "severe weather",
          "severe weather",
          "severe weather",
          "severe weather",
          "severe weather",
          "severe weather",
          "severe weather",
          "equipment failure",
          "islanding",
          "severe weather",
          "intentional attack",
          "intentional attack",
          "intentional attack",
          "severe weather",
          "severe weather",
          "intentional attack",
          "severe weather",
          "system operability disruption",
          "severe weather",
          "severe weather",
          "severe weather",
          "system operability disruption",
          "severe weather",
          "severe weather",
          "severe weather",
          "severe weather",
          "severe weather",
          "severe weather",
          "intentional attack",
          "intentional attack",
          "system operability disruption",
          "intentional attack",
          "intentional attack",
          "intentional attack",
          "severe weather",
          "severe weather",
          "severe weather",
          "severe weather",
          "severe weather",
          "severe weather",
          "severe weather",
          "severe weather",
          "severe weather",
          "equipment failure",
          "severe weather",
          "severe weather",
          "severe weather",
          "severe weather",
          "severe weather",
          "severe weather",
          "severe weather",
          "severe weather",
          "severe weather",
          "severe weather",
          "severe weather",
          "severe weather",
          "severe weather",
          "severe weather",
          "severe weather",
          "severe weather",
          "severe weather",
          "severe weather",
          "severe weather",
          "severe weather",
          "severe weather",
          "severe weather",
          "severe weather",
          "fuel supply emergency",
          "severe weather",
          "severe weather",
          "severe weather",
          "severe weather",
          "severe weather",
          "severe weather",
          "severe weather",
          "severe weather",
          "severe weather",
          "public appeal",
          "severe weather",
          "intentional attack",
          "intentional attack",
          "intentional attack",
          "severe weather",
          "intentional attack",
          "severe weather",
          "intentional attack",
          "intentional attack",
          "intentional attack",
          "islanding",
          "intentional attack",
          "intentional attack",
          "intentional attack",
          "severe weather",
          "severe weather",
          "intentional attack",
          "intentional attack",
          "severe weather",
          "intentional attack",
          "system operability disruption",
          "severe weather",
          "severe weather",
          "intentional attack",
          "intentional attack",
          "intentional attack",
          "intentional attack",
          "intentional attack",
          "severe weather",
          "intentional attack",
          "intentional attack",
          "intentional attack",
          "intentional attack",
          "intentional attack",
          "intentional attack",
          "intentional attack",
          "severe weather",
          "severe weather",
          "intentional attack",
          "severe weather",
          "intentional attack",
          "equipment failure",
          "intentional attack",
          "intentional attack",
          "intentional attack",
          "intentional attack",
          "severe weather",
          "intentional attack",
          "intentional attack",
          "intentional attack",
          "severe weather",
          "public appeal",
          "intentional attack",
          "severe weather",
          "intentional attack",
          "intentional attack",
          "intentional attack",
          "intentional attack",
          "intentional attack",
          "intentional attack",
          "intentional attack",
          "intentional attack",
          "intentional attack",
          "intentional attack",
          "severe weather",
          "islanding",
          "intentional attack",
          "severe weather",
          "intentional attack",
          "intentional attack",
          "intentional attack",
          "severe weather",
          "intentional attack",
          "intentional attack",
          "islanding",
          "intentional attack",
          "intentional attack",
          "intentional attack",
          "islanding",
          "intentional attack",
          "intentional attack",
          "intentional attack",
          "severe weather",
          "severe weather",
          "severe weather",
          "intentional attack",
          "severe weather",
          "intentional attack",
          "intentional attack",
          "fuel supply emergency",
          "severe weather",
          "intentional attack",
          "severe weather",
          "intentional attack",
          "intentional attack",
          "severe weather",
          "intentional attack",
          "islanding",
          "system operability disruption",
          "intentional attack",
          "intentional attack",
          "intentional attack",
          "intentional attack",
          "equipment failure",
          "intentional attack",
          "intentional attack",
          "severe weather",
          "severe weather",
          "intentional attack",
          "intentional attack",
          "intentional attack",
          "severe weather",
          "intentional attack",
          "intentional attack",
          "intentional attack",
          "intentional attack",
          "intentional attack",
          "equipment failure",
          "intentional attack",
          "intentional attack",
          "severe weather",
          "intentional attack",
          "system operability disruption",
          "intentional attack",
          "equipment failure",
          "equipment failure",
          "severe weather",
          "severe weather",
          "severe weather",
          "severe weather",
          "severe weather",
          "severe weather",
          "severe weather",
          "intentional attack",
          "intentional attack",
          "intentional attack",
          "intentional attack",
          "severe weather",
          "intentional attack",
          "intentional attack",
          "severe weather",
          "intentional attack",
          "intentional attack",
          "severe weather",
          "severe weather",
          "intentional attack",
          "intentional attack",
          "severe weather",
          "severe weather",
          "intentional attack",
          "severe weather",
          "intentional attack",
          "severe weather",
          "severe weather",
          "intentional attack",
          "severe weather",
          "severe weather",
          "intentional attack",
          "intentional attack",
          "intentional attack",
          "severe weather",
          "intentional attack",
          "severe weather",
          "severe weather",
          "intentional attack",
          "severe weather",
          "intentional attack",
          "intentional attack",
          "severe weather",
          "severe weather",
          "intentional attack",
          "severe weather",
          "severe weather",
          "intentional attack",
          "intentional attack",
          "intentional attack",
          "severe weather",
          "severe weather",
          "severe weather",
          "severe weather",
          "severe weather",
          "system operability disruption",
          "severe weather",
          "intentional attack",
          "severe weather",
          "severe weather",
          "severe weather",
          "intentional attack",
          "system operability disruption",
          "severe weather",
          "severe weather",
          "severe weather",
          "severe weather",
          "severe weather",
          "severe weather",
          "severe weather",
          "severe weather",
          "severe weather",
          "severe weather",
          "severe weather",
          "intentional attack",
          "severe weather",
          "severe weather",
          "severe weather",
          "severe weather",
          "severe weather",
          "severe weather",
          "severe weather",
          "severe weather",
          "severe weather",
          "severe weather",
          "severe weather",
          "system operability disruption",
          "severe weather",
          "severe weather",
          "severe weather",
          "severe weather",
          "intentional attack",
          "severe weather",
          "severe weather",
          "severe weather",
          "severe weather",
          "severe weather",
          "severe weather",
          "severe weather",
          "equipment failure",
          "severe weather",
          "severe weather",
          "severe weather",
          "severe weather",
          "intentional attack",
          "severe weather",
          "severe weather",
          "severe weather",
          "severe weather",
          "severe weather",
          "intentional attack",
          "severe weather",
          "intentional attack",
          "severe weather",
          "severe weather",
          "fuel supply emergency",
          "severe weather",
          "severe weather",
          "severe weather",
          "equipment failure",
          "intentional attack",
          "severe weather",
          "severe weather",
          "severe weather",
          "severe weather",
          "fuel supply emergency",
          "severe weather",
          "severe weather",
          "intentional attack",
          "intentional attack",
          "intentional attack",
          "intentional attack",
          "intentional attack",
          "intentional attack",
          "intentional attack",
          "intentional attack",
          "intentional attack",
          "intentional attack",
          "system operability disruption",
          "intentional attack",
          "intentional attack",
          "intentional attack",
          "intentional attack",
          "intentional attack",
          "severe weather",
          "intentional attack",
          "intentional attack",
          "system operability disruption",
          "severe weather",
          "intentional attack",
          "intentional attack",
          "intentional attack",
          "intentional attack",
          "intentional attack",
          "intentional attack",
          "intentional attack",
          "intentional attack",
          "intentional attack",
          "intentional attack",
          "intentional attack",
          "public appeal",
          "equipment failure",
          "intentional attack",
          "intentional attack",
          "intentional attack",
          "intentional attack",
          "intentional attack",
          "intentional attack",
          "intentional attack",
          "severe weather",
          "equipment failure",
          "severe weather",
          "severe weather",
          "intentional attack",
          "intentional attack",
          "severe weather",
          "intentional attack",
          "severe weather",
          "severe weather",
          "severe weather",
          "severe weather",
          "severe weather",
          "severe weather",
          "severe weather",
          "severe weather",
          "severe weather",
          "system operability disruption",
          "intentional attack",
          "severe weather",
          "intentional attack",
          "intentional attack",
          "intentional attack",
          "severe weather",
          "severe weather",
          "severe weather",
          "intentional attack",
          "intentional attack",
          "severe weather",
          "intentional attack",
          "severe weather",
          "severe weather",
          "intentional attack",
          "severe weather",
          "severe weather",
          "intentional attack",
          "system operability disruption",
          "intentional attack",
          "severe weather",
          "severe weather",
          "severe weather",
          "severe weather",
          "intentional attack",
          "severe weather",
          "severe weather",
          "severe weather",
          "severe weather",
          "system operability disruption",
          "intentional attack",
          "severe weather",
          "severe weather",
          "severe weather",
          "severe weather",
          "severe weather",
          "severe weather",
          "severe weather",
          "severe weather",
          "severe weather",
          "severe weather",
          "system operability disruption",
          "intentional attack",
          "severe weather",
          "severe weather",
          "severe weather",
          "severe weather",
          "severe weather",
          "system operability disruption",
          "system operability disruption",
          "severe weather",
          "severe weather",
          "severe weather",
          "severe weather",
          "intentional attack",
          "severe weather",
          "intentional attack",
          "severe weather",
          "severe weather",
          "severe weather",
          "severe weather",
          "severe weather",
          "severe weather",
          "system operability disruption",
          "severe weather",
          "intentional attack",
          "system operability disruption",
          "severe weather",
          "severe weather",
          "intentional attack",
          "severe weather",
          "severe weather",
          "intentional attack",
          "severe weather",
          "severe weather",
          "severe weather",
          "system operability disruption",
          "intentional attack",
          "severe weather",
          "severe weather",
          "severe weather",
          "intentional attack",
          "severe weather",
          "severe weather",
          "intentional attack",
          "intentional attack",
          "severe weather",
          "intentional attack",
          "intentional attack",
          "severe weather",
          "severe weather",
          "intentional attack",
          "severe weather",
          "severe weather",
          "severe weather",
          "severe weather",
          "severe weather",
          "severe weather",
          "severe weather",
          "severe weather",
          "severe weather",
          "severe weather",
          "severe weather",
          "severe weather",
          "severe weather",
          "severe weather",
          "severe weather",
          "severe weather",
          "severe weather",
          "intentional attack",
          "severe weather",
          "intentional attack",
          "intentional attack",
          "intentional attack",
          "intentional attack",
          "equipment failure",
          "intentional attack",
          "intentional attack",
          "severe weather",
          "intentional attack",
          "intentional attack",
          "intentional attack",
          "intentional attack",
          "intentional attack",
          "severe weather",
          "intentional attack",
          "intentional attack",
          "intentional attack",
          "intentional attack",
          "severe weather",
          "intentional attack",
          "intentional attack",
          "intentional attack",
          "intentional attack",
          "severe weather",
          "severe weather",
          "severe weather",
          "severe weather",
          "severe weather",
          "equipment failure",
          "severe weather",
          "severe weather",
          "severe weather",
          "severe weather",
          "system operability disruption",
          "severe weather",
          "severe weather",
          "severe weather",
          "intentional attack",
          "intentional attack",
          "intentional attack",
          "severe weather",
          "severe weather",
          "severe weather",
          "severe weather",
          "severe weather",
          "intentional attack",
          "intentional attack",
          "severe weather",
          "severe weather",
          "severe weather",
          "equipment failure",
          "intentional attack",
          "intentional attack",
          "intentional attack",
          "intentional attack",
          "intentional attack",
          "intentional attack",
          "intentional attack",
          "intentional attack",
          "intentional attack",
          "intentional attack",
          "intentional attack",
          "intentional attack",
          "intentional attack",
          "intentional attack",
          "intentional attack",
          "intentional attack",
          "intentional attack",
          "intentional attack",
          "intentional attack",
          "system operability disruption",
          "intentional attack",
          "intentional attack",
          "intentional attack",
          "intentional attack",
          "intentional attack",
          "intentional attack",
          "intentional attack",
          "intentional attack",
          "intentional attack",
          "intentional attack",
          "intentional attack",
          "intentional attack",
          "intentional attack",
          "intentional attack",
          "severe weather",
          "intentional attack",
          "intentional attack",
          "severe weather",
          "intentional attack",
          "intentional attack",
          "intentional attack",
          "severe weather",
          "intentional attack",
          "intentional attack",
          "intentional attack",
          "intentional attack",
          "severe weather",
          "severe weather",
          "islanding",
          "intentional attack",
          "islanding",
          "severe weather",
          "severe weather",
          "severe weather",
          "severe weather",
          "system operability disruption",
          "equipment failure",
          "severe weather",
          "severe weather",
          "intentional attack",
          "severe weather",
          "severe weather",
          "system operability disruption",
          "intentional attack",
          "intentional attack",
          "public appeal",
          "fuel supply emergency",
          "fuel supply emergency",
          "severe weather",
          "intentional attack",
          "intentional attack",
          "severe weather",
          "fuel supply emergency",
          "severe weather",
          "severe weather",
          "severe weather",
          "intentional attack",
          "severe weather",
          "fuel supply emergency",
          "fuel supply emergency",
          "severe weather",
          "intentional attack",
          "system operability disruption",
          "equipment failure",
          "fuel supply emergency",
          "severe weather",
          "severe weather",
          "intentional attack",
          "severe weather",
          "severe weather",
          "severe weather",
          "public appeal",
          "severe weather",
          "intentional attack",
          "severe weather",
          "severe weather",
          "fuel supply emergency",
          "system operability disruption",
          "system operability disruption",
          "severe weather",
          "public appeal",
          "severe weather",
          "severe weather",
          "severe weather",
          "fuel supply emergency",
          "fuel supply emergency",
          "intentional attack",
          "system operability disruption",
          "intentional attack",
          "severe weather",
          "severe weather",
          "fuel supply emergency",
          "severe weather",
          "severe weather",
          "intentional attack",
          "intentional attack",
          "fuel supply emergency",
          "severe weather",
          "public appeal",
          "severe weather",
          "system operability disruption",
          "fuel supply emergency",
          "fuel supply emergency",
          "public appeal",
          "severe weather",
          "public appeal",
          "public appeal",
          "severe weather",
          "severe weather",
          "public appeal",
          "system operability disruption",
          "public appeal",
          "severe weather",
          "public appeal",
          "system operability disruption",
          "public appeal",
          "severe weather",
          "severe weather",
          "system operability disruption",
          "equipment failure",
          "public appeal",
          "system operability disruption",
          "severe weather",
          "public appeal",
          "public appeal",
          "severe weather",
          "severe weather",
          "severe weather",
          "public appeal",
          "severe weather",
          "severe weather",
          "system operability disruption",
          "public appeal",
          "public appeal",
          "equipment failure",
          "system operability disruption",
          "severe weather",
          "public appeal",
          "severe weather",
          "severe weather",
          "severe weather",
          "equipment failure",
          "intentional attack",
          "severe weather",
          "severe weather",
          "severe weather",
          "equipment failure",
          "severe weather",
          "intentional attack",
          "system operability disruption",
          "severe weather",
          "severe weather",
          "system operability disruption",
          "public appeal",
          "public appeal",
          "severe weather",
          "severe weather",
          "equipment failure",
          "system operability disruption",
          "severe weather",
          "public appeal",
          "system operability disruption",
          "equipment failure",
          "severe weather",
          "severe weather",
          "severe weather",
          "system operability disruption",
          "severe weather",
          "severe weather",
          "severe weather",
          "system operability disruption",
          "system operability disruption",
          "severe weather",
          "system operability disruption",
          "severe weather",
          "equipment failure",
          "severe weather",
          "severe weather",
          "severe weather",
          "severe weather",
          "severe weather",
          "severe weather",
          "severe weather",
          "severe weather",
          "severe weather",
          "system operability disruption",
          "system operability disruption",
          "severe weather",
          "system operability disruption",
          "severe weather",
          "public appeal",
          "fuel supply emergency",
          "intentional attack",
          "equipment failure",
          "severe weather",
          "system operability disruption",
          "severe weather",
          "equipment failure",
          "equipment failure",
          "severe weather",
          "severe weather",
          "intentional attack",
          "islanding",
          "severe weather",
          "system operability disruption",
          "intentional attack",
          "system operability disruption",
          "severe weather",
          "system operability disruption",
          "islanding",
          "intentional attack",
          "system operability disruption",
          "intentional attack",
          "equipment failure",
          "fuel supply emergency",
          "severe weather",
          "system operability disruption",
          "islanding",
          "severe weather",
          "equipment failure",
          "system operability disruption",
          "equipment failure",
          "equipment failure",
          "fuel supply emergency",
          "islanding",
          "severe weather",
          "severe weather",
          "severe weather",
          "system operability disruption",
          "severe weather",
          "fuel supply emergency",
          "islanding",
          "islanding",
          "islanding",
          "islanding",
          "islanding",
          "system operability disruption",
          "severe weather",
          "islanding",
          "system operability disruption",
          "severe weather",
          "public appeal",
          "severe weather",
          "severe weather",
          "severe weather",
          "intentional attack",
          "system operability disruption",
          "intentional attack",
          "intentional attack",
          "system operability disruption",
          "fuel supply emergency",
          "islanding",
          "severe weather",
          "severe weather",
          "severe weather",
          "intentional attack",
          "severe weather",
          "intentional attack",
          "severe weather",
          "intentional attack",
          "equipment failure",
          "severe weather",
          "system operability disruption",
          "public appeal",
          "system operability disruption",
          "equipment failure",
          "severe weather",
          "public appeal",
          "equipment failure",
          "severe weather",
          "system operability disruption",
          "severe weather",
          "system operability disruption",
          "system operability disruption",
          "public appeal",
          "system operability disruption",
          "severe weather",
          "equipment failure",
          "system operability disruption",
          "intentional attack",
          "islanding",
          "system operability disruption",
          "intentional attack",
          "severe weather",
          "system operability disruption",
          "system operability disruption",
          "severe weather",
          "severe weather",
          "intentional attack",
          "system operability disruption",
          "islanding",
          "severe weather",
          "severe weather",
          "severe weather",
          "system operability disruption",
          "severe weather",
          "equipment failure",
          "equipment failure",
          "severe weather",
          "equipment failure",
          "severe weather",
          "intentional attack",
          "equipment failure",
          "system operability disruption",
          "severe weather",
          "severe weather",
          "equipment failure",
          "severe weather",
          "islanding",
          "fuel supply emergency",
          "system operability disruption",
          "fuel supply emergency",
          "system operability disruption",
          "severe weather",
          "severe weather",
          "system operability disruption",
          "fuel supply emergency",
          "severe weather",
          "intentional attack",
          "fuel supply emergency",
          "severe weather",
          "equipment failure",
          "islanding",
          "islanding",
          "system operability disruption",
          "system operability disruption",
          "islanding",
          "intentional attack",
          "intentional attack",
          "islanding",
          "islanding",
          "system operability disruption",
          "islanding",
          "public appeal",
          "fuel supply emergency",
          "severe weather",
          "public appeal",
          "intentional attack",
          "fuel supply emergency",
          "intentional attack",
          "equipment failure",
          "severe weather",
          "severe weather",
          "islanding",
          "islanding",
          "severe weather",
          "islanding",
          "system operability disruption",
          "fuel supply emergency",
          "severe weather",
          "severe weather",
          "severe weather",
          "fuel supply emergency",
          "intentional attack",
          "system operability disruption",
          "severe weather",
          "public appeal",
          "severe weather",
          "severe weather",
          "severe weather",
          "public appeal",
          "system operability disruption",
          "system operability disruption",
          "islanding",
          "severe weather",
          "severe weather",
          "severe weather",
          "fuel supply emergency",
          "system operability disruption",
          "severe weather",
          "fuel supply emergency",
          "severe weather",
          "severe weather",
          "severe weather",
          "intentional attack",
          "islanding",
          "equipment failure",
          "system operability disruption",
          "equipment failure",
          "system operability disruption",
          "system operability disruption",
          "severe weather",
          "severe weather",
          "islanding",
          "islanding",
          "islanding",
          "severe weather",
          "severe weather",
          "fuel supply emergency",
          "severe weather",
          "intentional attack",
          "severe weather",
          "severe weather",
          "fuel supply emergency",
          "equipment failure",
          "system operability disruption",
          "intentional attack",
          "severe weather",
          "islanding",
          "severe weather",
          "equipment failure",
          "intentional attack",
          "severe weather",
          "intentional attack",
          "severe weather",
          "severe weather",
          "severe weather",
          "severe weather",
          "public appeal",
          "public appeal",
          "public appeal",
          "public appeal",
          "intentional attack",
          "severe weather",
          "public appeal",
          "public appeal",
          "severe weather",
          "intentional attack",
          "severe weather",
          "intentional attack",
          "public appeal",
          "intentional attack",
          "severe weather",
          "severe weather",
          "severe weather",
          "severe weather",
          "intentional attack",
          "severe weather",
          "severe weather",
          "severe weather",
          "equipment failure",
          "severe weather",
          "severe weather",
          "severe weather",
          "severe weather",
          "severe weather",
          "severe weather",
          "severe weather",
          "severe weather",
          "severe weather",
          "system operability disruption",
          "severe weather",
          "public appeal",
          "severe weather",
          "severe weather",
          "severe weather",
          "severe weather",
          "severe weather",
          "severe weather",
          "severe weather",
          "severe weather",
          "severe weather",
          "severe weather",
          "severe weather",
          "public appeal",
          "severe weather",
          "severe weather",
          "severe weather",
          "severe weather",
          "public appeal",
          "severe weather",
          "severe weather",
          "severe weather",
          "severe weather",
          "intentional attack",
          "intentional attack",
          "intentional attack",
          "islanding",
          "equipment failure",
          "intentional attack",
          "intentional attack",
          "system operability disruption",
          "intentional attack",
          "intentional attack",
          "intentional attack",
          "intentional attack",
          "fuel supply emergency",
          "intentional attack",
          "intentional attack",
          "intentional attack",
          "intentional attack",
          "intentional attack",
          "intentional attack",
          "intentional attack",
          "intentional attack",
          "intentional attack",
          "severe weather",
          "severe weather",
          "severe weather",
          "severe weather",
          "severe weather",
          "severe weather",
          "severe weather",
          "severe weather",
          "severe weather",
          "severe weather",
          "severe weather",
          "severe weather",
          "severe weather",
          "severe weather",
          "severe weather",
          "severe weather",
          "intentional attack",
          "intentional attack",
          "intentional attack",
          "severe weather",
          "severe weather",
          "intentional attack",
          "intentional attack",
          "severe weather",
          "severe weather",
          "intentional attack",
          "intentional attack",
          "severe weather",
          "severe weather",
          "intentional attack",
          "severe weather",
          "severe weather",
          "severe weather",
          "intentional attack",
          "severe weather",
          "severe weather",
          "intentional attack",
          "severe weather",
          "severe weather",
          "islanding",
          "severe weather",
          "public appeal",
          "severe weather",
          "severe weather",
          "severe weather",
          "severe weather",
          "public appeal",
          "severe weather",
          "severe weather",
          "severe weather",
          "public appeal",
          "severe weather",
          "severe weather",
          "intentional attack",
          "severe weather",
          "severe weather",
          "severe weather",
          "intentional attack",
          "severe weather",
          "severe weather",
          "system operability disruption",
          "severe weather",
          "intentional attack",
          "intentional attack",
          "system operability disruption",
          "severe weather",
          "intentional attack",
          "severe weather",
          "severe weather",
          "severe weather",
          "intentional attack",
          "intentional attack",
          "intentional attack",
          "severe weather",
          "intentional attack",
          "fuel supply emergency",
          "intentional attack",
          "fuel supply emergency",
          "intentional attack",
          "intentional attack",
          "severe weather",
          "intentional attack",
          "intentional attack",
          "intentional attack",
          "severe weather",
          "severe weather",
          "severe weather",
          "severe weather",
          "severe weather",
          "intentional attack",
          "severe weather",
          "intentional attack",
          "islanding",
          "severe weather",
          "severe weather",
          "severe weather",
          "severe weather",
          "intentional attack",
          "intentional attack",
          "intentional attack",
          "intentional attack",
          "intentional attack",
          "intentional attack",
          "intentional attack",
          "intentional attack",
          "severe weather",
          "intentional attack",
          "intentional attack",
          "intentional attack",
          "intentional attack",
          "intentional attack",
          "intentional attack",
          "intentional attack",
          "intentional attack",
          "intentional attack",
          "intentional attack",
          "intentional attack",
          "islanding",
          "intentional attack",
          "fuel supply emergency",
          "severe weather",
          "severe weather",
          "system operability disruption",
          "intentional attack",
          "severe weather",
          "intentional attack",
          "system operability disruption",
          "system operability disruption",
          "system operability disruption",
          "intentional attack",
          "severe weather",
          "intentional attack",
          "severe weather",
          "intentional attack",
          "intentional attack",
          "severe weather",
          "severe weather",
          "intentional attack",
          "public appeal",
          "severe weather",
          "severe weather",
          "severe weather",
          "severe weather",
          "severe weather",
          "system operability disruption",
          "severe weather",
          "system operability disruption",
          "intentional attack",
          "system operability disruption",
          "intentional attack",
          "public appeal",
          "intentional attack",
          "intentional attack",
          "intentional attack",
          "system operability disruption",
          "public appeal",
          "fuel supply emergency",
          "islanding",
          "islanding",
          "equipment failure"
         ],
         "xaxis": "x",
         "yaxis": "y"
        }
       ],
       "layout": {
        "barmode": "relative",
        "legend": {
         "title": {
          "text": "variable"
         },
         "tracegroupgap": 0
        },
        "margin": {
         "t": 60
        },
        "template": {
         "data": {
          "bar": [
           {
            "error_x": {
             "color": "#2a3f5f"
            },
            "error_y": {
             "color": "#2a3f5f"
            },
            "marker": {
             "line": {
              "color": "#E5ECF6",
              "width": 0.5
             },
             "pattern": {
              "fillmode": "overlay",
              "size": 10,
              "solidity": 0.2
             }
            },
            "type": "bar"
           }
          ],
          "barpolar": [
           {
            "marker": {
             "line": {
              "color": "#E5ECF6",
              "width": 0.5
             },
             "pattern": {
              "fillmode": "overlay",
              "size": 10,
              "solidity": 0.2
             }
            },
            "type": "barpolar"
           }
          ],
          "carpet": [
           {
            "aaxis": {
             "endlinecolor": "#2a3f5f",
             "gridcolor": "white",
             "linecolor": "white",
             "minorgridcolor": "white",
             "startlinecolor": "#2a3f5f"
            },
            "baxis": {
             "endlinecolor": "#2a3f5f",
             "gridcolor": "white",
             "linecolor": "white",
             "minorgridcolor": "white",
             "startlinecolor": "#2a3f5f"
            },
            "type": "carpet"
           }
          ],
          "choropleth": [
           {
            "colorbar": {
             "outlinewidth": 0,
             "ticks": ""
            },
            "type": "choropleth"
           }
          ],
          "contour": [
           {
            "colorbar": {
             "outlinewidth": 0,
             "ticks": ""
            },
            "colorscale": [
             [
              0,
              "#0d0887"
             ],
             [
              0.1111111111111111,
              "#46039f"
             ],
             [
              0.2222222222222222,
              "#7201a8"
             ],
             [
              0.3333333333333333,
              "#9c179e"
             ],
             [
              0.4444444444444444,
              "#bd3786"
             ],
             [
              0.5555555555555556,
              "#d8576b"
             ],
             [
              0.6666666666666666,
              "#ed7953"
             ],
             [
              0.7777777777777778,
              "#fb9f3a"
             ],
             [
              0.8888888888888888,
              "#fdca26"
             ],
             [
              1,
              "#f0f921"
             ]
            ],
            "type": "contour"
           }
          ],
          "contourcarpet": [
           {
            "colorbar": {
             "outlinewidth": 0,
             "ticks": ""
            },
            "type": "contourcarpet"
           }
          ],
          "heatmap": [
           {
            "colorbar": {
             "outlinewidth": 0,
             "ticks": ""
            },
            "colorscale": [
             [
              0,
              "#0d0887"
             ],
             [
              0.1111111111111111,
              "#46039f"
             ],
             [
              0.2222222222222222,
              "#7201a8"
             ],
             [
              0.3333333333333333,
              "#9c179e"
             ],
             [
              0.4444444444444444,
              "#bd3786"
             ],
             [
              0.5555555555555556,
              "#d8576b"
             ],
             [
              0.6666666666666666,
              "#ed7953"
             ],
             [
              0.7777777777777778,
              "#fb9f3a"
             ],
             [
              0.8888888888888888,
              "#fdca26"
             ],
             [
              1,
              "#f0f921"
             ]
            ],
            "type": "heatmap"
           }
          ],
          "heatmapgl": [
           {
            "colorbar": {
             "outlinewidth": 0,
             "ticks": ""
            },
            "colorscale": [
             [
              0,
              "#0d0887"
             ],
             [
              0.1111111111111111,
              "#46039f"
             ],
             [
              0.2222222222222222,
              "#7201a8"
             ],
             [
              0.3333333333333333,
              "#9c179e"
             ],
             [
              0.4444444444444444,
              "#bd3786"
             ],
             [
              0.5555555555555556,
              "#d8576b"
             ],
             [
              0.6666666666666666,
              "#ed7953"
             ],
             [
              0.7777777777777778,
              "#fb9f3a"
             ],
             [
              0.8888888888888888,
              "#fdca26"
             ],
             [
              1,
              "#f0f921"
             ]
            ],
            "type": "heatmapgl"
           }
          ],
          "histogram": [
           {
            "marker": {
             "pattern": {
              "fillmode": "overlay",
              "size": 10,
              "solidity": 0.2
             }
            },
            "type": "histogram"
           }
          ],
          "histogram2d": [
           {
            "colorbar": {
             "outlinewidth": 0,
             "ticks": ""
            },
            "colorscale": [
             [
              0,
              "#0d0887"
             ],
             [
              0.1111111111111111,
              "#46039f"
             ],
             [
              0.2222222222222222,
              "#7201a8"
             ],
             [
              0.3333333333333333,
              "#9c179e"
             ],
             [
              0.4444444444444444,
              "#bd3786"
             ],
             [
              0.5555555555555556,
              "#d8576b"
             ],
             [
              0.6666666666666666,
              "#ed7953"
             ],
             [
              0.7777777777777778,
              "#fb9f3a"
             ],
             [
              0.8888888888888888,
              "#fdca26"
             ],
             [
              1,
              "#f0f921"
             ]
            ],
            "type": "histogram2d"
           }
          ],
          "histogram2dcontour": [
           {
            "colorbar": {
             "outlinewidth": 0,
             "ticks": ""
            },
            "colorscale": [
             [
              0,
              "#0d0887"
             ],
             [
              0.1111111111111111,
              "#46039f"
             ],
             [
              0.2222222222222222,
              "#7201a8"
             ],
             [
              0.3333333333333333,
              "#9c179e"
             ],
             [
              0.4444444444444444,
              "#bd3786"
             ],
             [
              0.5555555555555556,
              "#d8576b"
             ],
             [
              0.6666666666666666,
              "#ed7953"
             ],
             [
              0.7777777777777778,
              "#fb9f3a"
             ],
             [
              0.8888888888888888,
              "#fdca26"
             ],
             [
              1,
              "#f0f921"
             ]
            ],
            "type": "histogram2dcontour"
           }
          ],
          "mesh3d": [
           {
            "colorbar": {
             "outlinewidth": 0,
             "ticks": ""
            },
            "type": "mesh3d"
           }
          ],
          "parcoords": [
           {
            "line": {
             "colorbar": {
              "outlinewidth": 0,
              "ticks": ""
             }
            },
            "type": "parcoords"
           }
          ],
          "pie": [
           {
            "automargin": true,
            "type": "pie"
           }
          ],
          "scatter": [
           {
            "fillpattern": {
             "fillmode": "overlay",
             "size": 10,
             "solidity": 0.2
            },
            "type": "scatter"
           }
          ],
          "scatter3d": [
           {
            "line": {
             "colorbar": {
              "outlinewidth": 0,
              "ticks": ""
             }
            },
            "marker": {
             "colorbar": {
              "outlinewidth": 0,
              "ticks": ""
             }
            },
            "type": "scatter3d"
           }
          ],
          "scattercarpet": [
           {
            "marker": {
             "colorbar": {
              "outlinewidth": 0,
              "ticks": ""
             }
            },
            "type": "scattercarpet"
           }
          ],
          "scattergeo": [
           {
            "marker": {
             "colorbar": {
              "outlinewidth": 0,
              "ticks": ""
             }
            },
            "type": "scattergeo"
           }
          ],
          "scattergl": [
           {
            "marker": {
             "colorbar": {
              "outlinewidth": 0,
              "ticks": ""
             }
            },
            "type": "scattergl"
           }
          ],
          "scattermapbox": [
           {
            "marker": {
             "colorbar": {
              "outlinewidth": 0,
              "ticks": ""
             }
            },
            "type": "scattermapbox"
           }
          ],
          "scatterpolar": [
           {
            "marker": {
             "colorbar": {
              "outlinewidth": 0,
              "ticks": ""
             }
            },
            "type": "scatterpolar"
           }
          ],
          "scatterpolargl": [
           {
            "marker": {
             "colorbar": {
              "outlinewidth": 0,
              "ticks": ""
             }
            },
            "type": "scatterpolargl"
           }
          ],
          "scatterternary": [
           {
            "marker": {
             "colorbar": {
              "outlinewidth": 0,
              "ticks": ""
             }
            },
            "type": "scatterternary"
           }
          ],
          "surface": [
           {
            "colorbar": {
             "outlinewidth": 0,
             "ticks": ""
            },
            "colorscale": [
             [
              0,
              "#0d0887"
             ],
             [
              0.1111111111111111,
              "#46039f"
             ],
             [
              0.2222222222222222,
              "#7201a8"
             ],
             [
              0.3333333333333333,
              "#9c179e"
             ],
             [
              0.4444444444444444,
              "#bd3786"
             ],
             [
              0.5555555555555556,
              "#d8576b"
             ],
             [
              0.6666666666666666,
              "#ed7953"
             ],
             [
              0.7777777777777778,
              "#fb9f3a"
             ],
             [
              0.8888888888888888,
              "#fdca26"
             ],
             [
              1,
              "#f0f921"
             ]
            ],
            "type": "surface"
           }
          ],
          "table": [
           {
            "cells": {
             "fill": {
              "color": "#EBF0F8"
             },
             "line": {
              "color": "white"
             }
            },
            "header": {
             "fill": {
              "color": "#C8D4E3"
             },
             "line": {
              "color": "white"
             }
            },
            "type": "table"
           }
          ]
         },
         "layout": {
          "annotationdefaults": {
           "arrowcolor": "#2a3f5f",
           "arrowhead": 0,
           "arrowwidth": 1
          },
          "autotypenumbers": "strict",
          "coloraxis": {
           "colorbar": {
            "outlinewidth": 0,
            "ticks": ""
           }
          },
          "colorscale": {
           "diverging": [
            [
             0,
             "#8e0152"
            ],
            [
             0.1,
             "#c51b7d"
            ],
            [
             0.2,
             "#de77ae"
            ],
            [
             0.3,
             "#f1b6da"
            ],
            [
             0.4,
             "#fde0ef"
            ],
            [
             0.5,
             "#f7f7f7"
            ],
            [
             0.6,
             "#e6f5d0"
            ],
            [
             0.7,
             "#b8e186"
            ],
            [
             0.8,
             "#7fbc41"
            ],
            [
             0.9,
             "#4d9221"
            ],
            [
             1,
             "#276419"
            ]
           ],
           "sequential": [
            [
             0,
             "#0d0887"
            ],
            [
             0.1111111111111111,
             "#46039f"
            ],
            [
             0.2222222222222222,
             "#7201a8"
            ],
            [
             0.3333333333333333,
             "#9c179e"
            ],
            [
             0.4444444444444444,
             "#bd3786"
            ],
            [
             0.5555555555555556,
             "#d8576b"
            ],
            [
             0.6666666666666666,
             "#ed7953"
            ],
            [
             0.7777777777777778,
             "#fb9f3a"
            ],
            [
             0.8888888888888888,
             "#fdca26"
            ],
            [
             1,
             "#f0f921"
            ]
           ],
           "sequentialminus": [
            [
             0,
             "#0d0887"
            ],
            [
             0.1111111111111111,
             "#46039f"
            ],
            [
             0.2222222222222222,
             "#7201a8"
            ],
            [
             0.3333333333333333,
             "#9c179e"
            ],
            [
             0.4444444444444444,
             "#bd3786"
            ],
            [
             0.5555555555555556,
             "#d8576b"
            ],
            [
             0.6666666666666666,
             "#ed7953"
            ],
            [
             0.7777777777777778,
             "#fb9f3a"
            ],
            [
             0.8888888888888888,
             "#fdca26"
            ],
            [
             1,
             "#f0f921"
            ]
           ]
          },
          "colorway": [
           "#636efa",
           "#EF553B",
           "#00cc96",
           "#ab63fa",
           "#FFA15A",
           "#19d3f3",
           "#FF6692",
           "#B6E880",
           "#FF97FF",
           "#FECB52"
          ],
          "font": {
           "color": "#2a3f5f"
          },
          "geo": {
           "bgcolor": "white",
           "lakecolor": "white",
           "landcolor": "#E5ECF6",
           "showlakes": true,
           "showland": true,
           "subunitcolor": "white"
          },
          "hoverlabel": {
           "align": "left"
          },
          "hovermode": "closest",
          "mapbox": {
           "style": "light"
          },
          "paper_bgcolor": "white",
          "plot_bgcolor": "#E5ECF6",
          "polar": {
           "angularaxis": {
            "gridcolor": "white",
            "linecolor": "white",
            "ticks": ""
           },
           "bgcolor": "#E5ECF6",
           "radialaxis": {
            "gridcolor": "white",
            "linecolor": "white",
            "ticks": ""
           }
          },
          "scene": {
           "xaxis": {
            "backgroundcolor": "#E5ECF6",
            "gridcolor": "white",
            "gridwidth": 2,
            "linecolor": "white",
            "showbackground": true,
            "ticks": "",
            "zerolinecolor": "white"
           },
           "yaxis": {
            "backgroundcolor": "#E5ECF6",
            "gridcolor": "white",
            "gridwidth": 2,
            "linecolor": "white",
            "showbackground": true,
            "ticks": "",
            "zerolinecolor": "white"
           },
           "zaxis": {
            "backgroundcolor": "#E5ECF6",
            "gridcolor": "white",
            "gridwidth": 2,
            "linecolor": "white",
            "showbackground": true,
            "ticks": "",
            "zerolinecolor": "white"
           }
          },
          "shapedefaults": {
           "line": {
            "color": "#2a3f5f"
           }
          },
          "ternary": {
           "aaxis": {
            "gridcolor": "white",
            "linecolor": "white",
            "ticks": ""
           },
           "baxis": {
            "gridcolor": "white",
            "linecolor": "white",
            "ticks": ""
           },
           "bgcolor": "#E5ECF6",
           "caxis": {
            "gridcolor": "white",
            "linecolor": "white",
            "ticks": ""
           }
          },
          "title": {
           "x": 0.05
          },
          "xaxis": {
           "automargin": true,
           "gridcolor": "white",
           "linecolor": "white",
           "ticks": "",
           "title": {
            "standoff": 15
           },
           "zerolinecolor": "white",
           "zerolinewidth": 2
          },
          "yaxis": {
           "automargin": true,
           "gridcolor": "white",
           "linecolor": "white",
           "ticks": "",
           "title": {
            "standoff": 15
           },
           "zerolinecolor": "white",
           "zerolinewidth": 2
          }
         }
        },
        "xaxis": {
         "anchor": "y",
         "domain": [
          0,
          1
         ],
         "title": {
          "text": "value"
         }
        },
        "yaxis": {
         "anchor": "x",
         "domain": [
          0,
          1
         ],
         "title": {
          "text": "count"
         }
        }
       }
      }
     },
     "metadata": {},
     "output_type": "display_data"
    }
   ],
   "source": [
    "pow_outage['CAUSE.CATEGORY'].plot(kind = 'hist', bins = 5)"
   ]
  },
  {
   "attachments": {},
   "cell_type": "markdown",
   "metadata": {},
   "source": [
    "Finding the biggest source of false negative"
   ]
  },
  {
   "attachments": {},
   "cell_type": "markdown",
   "metadata": {},
   "source": [
    "Let's perform our permutation test.\\\n",
    "- Null hypothesis : The classifier's accuracy is the same for both extreme levels and centered levels of El Nino (El Nino is strong over 1.5 or under -1.5 and moderate or low between these two values), and any differences are due to chance.\\\n",
    "- Alternative Hypothesis: The classifier's accuracy is higher for extreme anomaly levels.\n",
    "- Test statistic: Difference in accuracy (extreme minus centered).\n",
    "- Significance level: 0.01."
   ]
  },
  {
   "cell_type": "code",
   "execution_count": null,
   "metadata": {},
   "outputs": [
    {
     "ename": "NameError",
     "evalue": "name 'X' is not defined",
     "output_type": "error",
     "traceback": [
      "\u001b[0;31m---------------------------------------------------------------------------\u001b[0m",
      "\u001b[0;31mNameError\u001b[0m                                 Traceback (most recent call last)",
      "Cell \u001b[0;32mIn[1], line 1\u001b[0m\n\u001b[0;32m----> 1\u001b[0m results \u001b[39m=\u001b[39m X\u001b[39m.\u001b[39mcopy()\n\u001b[1;32m      2\u001b[0m results[\u001b[39m'\u001b[39m\u001b[39mprediction\u001b[39m\u001b[39m'\u001b[39m] \u001b[39m=\u001b[39m y_pred\n\u001b[1;32m      3\u001b[0m results[\u001b[39m'\u001b[39m\u001b[39mtag\u001b[39m\u001b[39m'\u001b[39m] \u001b[39m=\u001b[39m y\n",
      "\u001b[0;31mNameError\u001b[0m: name 'X' is not defined"
     ]
    }
   ],
   "source": [
    "results = X.copy()\n",
    "results['prediction'] = y_pred\n",
    "results['tag'] = y\n",
    "results['is_severe_weather'] =X['ANOMALY.LEVEL (numeric)'].apply(lambda x : abs(x) > 1.5).replace({True: 'Strong or more', False: 'Moderate or less'})\n",
    "#results['is_severe_weather'] =X['DEMAND.LOSS.MW (Megawatt)'].apply(lambda x : x > 700).replace({True: 'Strong or more', False: 'Moderate or less'})\n",
    "obs = results.groupby('is_severe_weather').apply(lambda x: metrics.accuracy_score(x['tag'], x['prediction'])).diff().iloc[-1]\n",
    "obs\n",
    "\n"
   ]
  },
  {
   "cell_type": "code",
   "execution_count": null,
   "metadata": {},
   "outputs": [],
   "source": [
    "diff_in_acc = []\n",
    "for _ in range(100):\n",
    "    s = (\n",
    "        results[['is_severe_weather', 'prediction', 'tag']]\n",
    "        .assign(is_young=results.is_severe_weather.sample(frac=1.0, replace=False).reset_index(drop=True))\n",
    "        .groupby('is_severe_weather')\n",
    "        .apply(lambda x: metrics.recall_score(x['tag'], x['prediction'], average='macro'))\n",
    "        .diff()\n",
    "        .iloc[-1]\n",
    "    )\n",
    "    \n",
    "    diff_in_acc.append(s)"
   ]
  },
  {
   "cell_type": "code",
   "execution_count": null,
   "metadata": {},
   "outputs": [
    {
     "data": {
      "application/vnd.plotly.v1+json": {
       "config": {
        "plotlyServerURL": "https://plot.ly"
       },
       "data": [
        {
         "alignmentgroup": "True",
         "bingroup": "x",
         "histnorm": "probability",
         "hovertemplate": "variable=0<br>value=%{x}<br>probability=%{y}<extra></extra>",
         "legendgroup": "0",
         "marker": {
          "color": "#636efa",
          "pattern": {
           "shape": ""
          }
         },
         "name": "0",
         "nbinsx": 20,
         "offsetgroup": "0",
         "orientation": "v",
         "showlegend": true,
         "type": "histogram",
         "x": [
          -0.13641625905054605,
          -0.13641625905054605,
          -0.13641625905054605,
          -0.13641625905054605,
          -0.13641625905054605,
          -0.13641625905054605,
          -0.13641625905054605,
          -0.13641625905054605,
          -0.13641625905054605,
          -0.13641625905054605,
          -0.13641625905054605,
          -0.13641625905054605,
          -0.13641625905054605,
          -0.13641625905054605,
          -0.13641625905054605,
          -0.13641625905054605,
          -0.13641625905054605,
          -0.13641625905054605,
          -0.13641625905054605,
          -0.13641625905054605,
          -0.13641625905054605,
          -0.13641625905054605,
          -0.13641625905054605,
          -0.13641625905054605,
          -0.13641625905054605,
          -0.13641625905054605,
          -0.13641625905054605,
          -0.13641625905054605,
          -0.13641625905054605,
          -0.13641625905054605,
          -0.13641625905054605,
          -0.13641625905054605,
          -0.13641625905054605,
          -0.13641625905054605,
          -0.13641625905054605,
          -0.13641625905054605,
          -0.13641625905054605,
          -0.13641625905054605,
          -0.13641625905054605,
          -0.13641625905054605,
          -0.13641625905054605,
          -0.13641625905054605,
          -0.13641625905054605,
          -0.13641625905054605,
          -0.13641625905054605,
          -0.13641625905054605,
          -0.13641625905054605,
          -0.13641625905054605,
          -0.13641625905054605,
          -0.13641625905054605,
          -0.13641625905054605,
          -0.13641625905054605,
          -0.13641625905054605,
          -0.13641625905054605,
          -0.13641625905054605,
          -0.13641625905054605,
          -0.13641625905054605,
          -0.13641625905054605,
          -0.13641625905054605,
          -0.13641625905054605,
          -0.13641625905054605,
          -0.13641625905054605,
          -0.13641625905054605,
          -0.13641625905054605,
          -0.13641625905054605,
          -0.13641625905054605,
          -0.13641625905054605,
          -0.13641625905054605,
          -0.13641625905054605,
          -0.13641625905054605,
          -0.13641625905054605,
          -0.13641625905054605,
          -0.13641625905054605,
          -0.13641625905054605,
          -0.13641625905054605,
          -0.13641625905054605,
          -0.13641625905054605,
          -0.13641625905054605,
          -0.13641625905054605,
          -0.13641625905054605,
          -0.13641625905054605,
          -0.13641625905054605,
          -0.13641625905054605,
          -0.13641625905054605,
          -0.13641625905054605,
          -0.13641625905054605,
          -0.13641625905054605,
          -0.13641625905054605,
          -0.13641625905054605,
          -0.13641625905054605,
          -0.13641625905054605,
          -0.13641625905054605,
          -0.13641625905054605,
          -0.13641625905054605,
          -0.13641625905054605,
          -0.13641625905054605,
          -0.13641625905054605,
          -0.13641625905054605,
          -0.13641625905054605,
          -0.13641625905054605
         ],
         "xaxis": "x",
         "yaxis": "y"
        }
       ],
       "layout": {
        "annotations": [
         {
          "showarrow": false,
          "text": "<span style=\"color:red\">Observed Difference in Accuracy</span>",
          "x": -0.075,
          "y": 0.17
         }
        ],
        "barmode": "relative",
        "legend": {
         "title": {
          "text": "variable"
         },
         "tracegroupgap": 0
        },
        "shapes": [
         {
          "line": {
           "color": "red"
          },
          "type": "line",
          "x0": 0.027599685827533915,
          "x1": 0.027599685827533915,
          "xref": "x",
          "y0": 0,
          "y1": 1,
          "yref": "y domain"
         }
        ],
        "template": {
         "data": {
          "bar": [
           {
            "error_x": {
             "color": "#2a3f5f"
            },
            "error_y": {
             "color": "#2a3f5f"
            },
            "marker": {
             "line": {
              "color": "#E5ECF6",
              "width": 0.5
             },
             "pattern": {
              "fillmode": "overlay",
              "size": 10,
              "solidity": 0.2
             }
            },
            "type": "bar"
           }
          ],
          "barpolar": [
           {
            "marker": {
             "line": {
              "color": "#E5ECF6",
              "width": 0.5
             },
             "pattern": {
              "fillmode": "overlay",
              "size": 10,
              "solidity": 0.2
             }
            },
            "type": "barpolar"
           }
          ],
          "carpet": [
           {
            "aaxis": {
             "endlinecolor": "#2a3f5f",
             "gridcolor": "white",
             "linecolor": "white",
             "minorgridcolor": "white",
             "startlinecolor": "#2a3f5f"
            },
            "baxis": {
             "endlinecolor": "#2a3f5f",
             "gridcolor": "white",
             "linecolor": "white",
             "minorgridcolor": "white",
             "startlinecolor": "#2a3f5f"
            },
            "type": "carpet"
           }
          ],
          "choropleth": [
           {
            "colorbar": {
             "outlinewidth": 0,
             "ticks": ""
            },
            "type": "choropleth"
           }
          ],
          "contour": [
           {
            "colorbar": {
             "outlinewidth": 0,
             "ticks": ""
            },
            "colorscale": [
             [
              0,
              "#0d0887"
             ],
             [
              0.1111111111111111,
              "#46039f"
             ],
             [
              0.2222222222222222,
              "#7201a8"
             ],
             [
              0.3333333333333333,
              "#9c179e"
             ],
             [
              0.4444444444444444,
              "#bd3786"
             ],
             [
              0.5555555555555556,
              "#d8576b"
             ],
             [
              0.6666666666666666,
              "#ed7953"
             ],
             [
              0.7777777777777778,
              "#fb9f3a"
             ],
             [
              0.8888888888888888,
              "#fdca26"
             ],
             [
              1,
              "#f0f921"
             ]
            ],
            "type": "contour"
           }
          ],
          "contourcarpet": [
           {
            "colorbar": {
             "outlinewidth": 0,
             "ticks": ""
            },
            "type": "contourcarpet"
           }
          ],
          "heatmap": [
           {
            "colorbar": {
             "outlinewidth": 0,
             "ticks": ""
            },
            "colorscale": [
             [
              0,
              "#0d0887"
             ],
             [
              0.1111111111111111,
              "#46039f"
             ],
             [
              0.2222222222222222,
              "#7201a8"
             ],
             [
              0.3333333333333333,
              "#9c179e"
             ],
             [
              0.4444444444444444,
              "#bd3786"
             ],
             [
              0.5555555555555556,
              "#d8576b"
             ],
             [
              0.6666666666666666,
              "#ed7953"
             ],
             [
              0.7777777777777778,
              "#fb9f3a"
             ],
             [
              0.8888888888888888,
              "#fdca26"
             ],
             [
              1,
              "#f0f921"
             ]
            ],
            "type": "heatmap"
           }
          ],
          "heatmapgl": [
           {
            "colorbar": {
             "outlinewidth": 0,
             "ticks": ""
            },
            "colorscale": [
             [
              0,
              "#0d0887"
             ],
             [
              0.1111111111111111,
              "#46039f"
             ],
             [
              0.2222222222222222,
              "#7201a8"
             ],
             [
              0.3333333333333333,
              "#9c179e"
             ],
             [
              0.4444444444444444,
              "#bd3786"
             ],
             [
              0.5555555555555556,
              "#d8576b"
             ],
             [
              0.6666666666666666,
              "#ed7953"
             ],
             [
              0.7777777777777778,
              "#fb9f3a"
             ],
             [
              0.8888888888888888,
              "#fdca26"
             ],
             [
              1,
              "#f0f921"
             ]
            ],
            "type": "heatmapgl"
           }
          ],
          "histogram": [
           {
            "marker": {
             "pattern": {
              "fillmode": "overlay",
              "size": 10,
              "solidity": 0.2
             }
            },
            "type": "histogram"
           }
          ],
          "histogram2d": [
           {
            "colorbar": {
             "outlinewidth": 0,
             "ticks": ""
            },
            "colorscale": [
             [
              0,
              "#0d0887"
             ],
             [
              0.1111111111111111,
              "#46039f"
             ],
             [
              0.2222222222222222,
              "#7201a8"
             ],
             [
              0.3333333333333333,
              "#9c179e"
             ],
             [
              0.4444444444444444,
              "#bd3786"
             ],
             [
              0.5555555555555556,
              "#d8576b"
             ],
             [
              0.6666666666666666,
              "#ed7953"
             ],
             [
              0.7777777777777778,
              "#fb9f3a"
             ],
             [
              0.8888888888888888,
              "#fdca26"
             ],
             [
              1,
              "#f0f921"
             ]
            ],
            "type": "histogram2d"
           }
          ],
          "histogram2dcontour": [
           {
            "colorbar": {
             "outlinewidth": 0,
             "ticks": ""
            },
            "colorscale": [
             [
              0,
              "#0d0887"
             ],
             [
              0.1111111111111111,
              "#46039f"
             ],
             [
              0.2222222222222222,
              "#7201a8"
             ],
             [
              0.3333333333333333,
              "#9c179e"
             ],
             [
              0.4444444444444444,
              "#bd3786"
             ],
             [
              0.5555555555555556,
              "#d8576b"
             ],
             [
              0.6666666666666666,
              "#ed7953"
             ],
             [
              0.7777777777777778,
              "#fb9f3a"
             ],
             [
              0.8888888888888888,
              "#fdca26"
             ],
             [
              1,
              "#f0f921"
             ]
            ],
            "type": "histogram2dcontour"
           }
          ],
          "mesh3d": [
           {
            "colorbar": {
             "outlinewidth": 0,
             "ticks": ""
            },
            "type": "mesh3d"
           }
          ],
          "parcoords": [
           {
            "line": {
             "colorbar": {
              "outlinewidth": 0,
              "ticks": ""
             }
            },
            "type": "parcoords"
           }
          ],
          "pie": [
           {
            "automargin": true,
            "type": "pie"
           }
          ],
          "scatter": [
           {
            "fillpattern": {
             "fillmode": "overlay",
             "size": 10,
             "solidity": 0.2
            },
            "type": "scatter"
           }
          ],
          "scatter3d": [
           {
            "line": {
             "colorbar": {
              "outlinewidth": 0,
              "ticks": ""
             }
            },
            "marker": {
             "colorbar": {
              "outlinewidth": 0,
              "ticks": ""
             }
            },
            "type": "scatter3d"
           }
          ],
          "scattercarpet": [
           {
            "marker": {
             "colorbar": {
              "outlinewidth": 0,
              "ticks": ""
             }
            },
            "type": "scattercarpet"
           }
          ],
          "scattergeo": [
           {
            "marker": {
             "colorbar": {
              "outlinewidth": 0,
              "ticks": ""
             }
            },
            "type": "scattergeo"
           }
          ],
          "scattergl": [
           {
            "marker": {
             "colorbar": {
              "outlinewidth": 0,
              "ticks": ""
             }
            },
            "type": "scattergl"
           }
          ],
          "scattermapbox": [
           {
            "marker": {
             "colorbar": {
              "outlinewidth": 0,
              "ticks": ""
             }
            },
            "type": "scattermapbox"
           }
          ],
          "scatterpolar": [
           {
            "marker": {
             "colorbar": {
              "outlinewidth": 0,
              "ticks": ""
             }
            },
            "type": "scatterpolar"
           }
          ],
          "scatterpolargl": [
           {
            "marker": {
             "colorbar": {
              "outlinewidth": 0,
              "ticks": ""
             }
            },
            "type": "scatterpolargl"
           }
          ],
          "scatterternary": [
           {
            "marker": {
             "colorbar": {
              "outlinewidth": 0,
              "ticks": ""
             }
            },
            "type": "scatterternary"
           }
          ],
          "surface": [
           {
            "colorbar": {
             "outlinewidth": 0,
             "ticks": ""
            },
            "colorscale": [
             [
              0,
              "#0d0887"
             ],
             [
              0.1111111111111111,
              "#46039f"
             ],
             [
              0.2222222222222222,
              "#7201a8"
             ],
             [
              0.3333333333333333,
              "#9c179e"
             ],
             [
              0.4444444444444444,
              "#bd3786"
             ],
             [
              0.5555555555555556,
              "#d8576b"
             ],
             [
              0.6666666666666666,
              "#ed7953"
             ],
             [
              0.7777777777777778,
              "#fb9f3a"
             ],
             [
              0.8888888888888888,
              "#fdca26"
             ],
             [
              1,
              "#f0f921"
             ]
            ],
            "type": "surface"
           }
          ],
          "table": [
           {
            "cells": {
             "fill": {
              "color": "#EBF0F8"
             },
             "line": {
              "color": "white"
             }
            },
            "header": {
             "fill": {
              "color": "#C8D4E3"
             },
             "line": {
              "color": "white"
             }
            },
            "type": "table"
           }
          ]
         },
         "layout": {
          "annotationdefaults": {
           "arrowcolor": "#2a3f5f",
           "arrowhead": 0,
           "arrowwidth": 1
          },
          "autotypenumbers": "strict",
          "coloraxis": {
           "colorbar": {
            "outlinewidth": 0,
            "ticks": ""
           }
          },
          "colorscale": {
           "diverging": [
            [
             0,
             "#8e0152"
            ],
            [
             0.1,
             "#c51b7d"
            ],
            [
             0.2,
             "#de77ae"
            ],
            [
             0.3,
             "#f1b6da"
            ],
            [
             0.4,
             "#fde0ef"
            ],
            [
             0.5,
             "#f7f7f7"
            ],
            [
             0.6,
             "#e6f5d0"
            ],
            [
             0.7,
             "#b8e186"
            ],
            [
             0.8,
             "#7fbc41"
            ],
            [
             0.9,
             "#4d9221"
            ],
            [
             1,
             "#276419"
            ]
           ],
           "sequential": [
            [
             0,
             "#0d0887"
            ],
            [
             0.1111111111111111,
             "#46039f"
            ],
            [
             0.2222222222222222,
             "#7201a8"
            ],
            [
             0.3333333333333333,
             "#9c179e"
            ],
            [
             0.4444444444444444,
             "#bd3786"
            ],
            [
             0.5555555555555556,
             "#d8576b"
            ],
            [
             0.6666666666666666,
             "#ed7953"
            ],
            [
             0.7777777777777778,
             "#fb9f3a"
            ],
            [
             0.8888888888888888,
             "#fdca26"
            ],
            [
             1,
             "#f0f921"
            ]
           ],
           "sequentialminus": [
            [
             0,
             "#0d0887"
            ],
            [
             0.1111111111111111,
             "#46039f"
            ],
            [
             0.2222222222222222,
             "#7201a8"
            ],
            [
             0.3333333333333333,
             "#9c179e"
            ],
            [
             0.4444444444444444,
             "#bd3786"
            ],
            [
             0.5555555555555556,
             "#d8576b"
            ],
            [
             0.6666666666666666,
             "#ed7953"
            ],
            [
             0.7777777777777778,
             "#fb9f3a"
            ],
            [
             0.8888888888888888,
             "#fdca26"
            ],
            [
             1,
             "#f0f921"
            ]
           ]
          },
          "colorway": [
           "#636efa",
           "#EF553B",
           "#00cc96",
           "#ab63fa",
           "#FFA15A",
           "#19d3f3",
           "#FF6692",
           "#B6E880",
           "#FF97FF",
           "#FECB52"
          ],
          "font": {
           "color": "#2a3f5f"
          },
          "geo": {
           "bgcolor": "white",
           "lakecolor": "white",
           "landcolor": "#E5ECF6",
           "showlakes": true,
           "showland": true,
           "subunitcolor": "white"
          },
          "hoverlabel": {
           "align": "left"
          },
          "hovermode": "closest",
          "mapbox": {
           "style": "light"
          },
          "paper_bgcolor": "white",
          "plot_bgcolor": "#E5ECF6",
          "polar": {
           "angularaxis": {
            "gridcolor": "white",
            "linecolor": "white",
            "ticks": ""
           },
           "bgcolor": "#E5ECF6",
           "radialaxis": {
            "gridcolor": "white",
            "linecolor": "white",
            "ticks": ""
           }
          },
          "scene": {
           "xaxis": {
            "backgroundcolor": "#E5ECF6",
            "gridcolor": "white",
            "gridwidth": 2,
            "linecolor": "white",
            "showbackground": true,
            "ticks": "",
            "zerolinecolor": "white"
           },
           "yaxis": {
            "backgroundcolor": "#E5ECF6",
            "gridcolor": "white",
            "gridwidth": 2,
            "linecolor": "white",
            "showbackground": true,
            "ticks": "",
            "zerolinecolor": "white"
           },
           "zaxis": {
            "backgroundcolor": "#E5ECF6",
            "gridcolor": "white",
            "gridwidth": 2,
            "linecolor": "white",
            "showbackground": true,
            "ticks": "",
            "zerolinecolor": "white"
           }
          },
          "shapedefaults": {
           "line": {
            "color": "#2a3f5f"
           }
          },
          "ternary": {
           "aaxis": {
            "gridcolor": "white",
            "linecolor": "white",
            "ticks": ""
           },
           "baxis": {
            "gridcolor": "white",
            "linecolor": "white",
            "ticks": ""
           },
           "bgcolor": "#E5ECF6",
           "caxis": {
            "gridcolor": "white",
            "linecolor": "white",
            "ticks": ""
           }
          },
          "title": {
           "x": 0.05
          },
          "xaxis": {
           "automargin": true,
           "gridcolor": "white",
           "linecolor": "white",
           "ticks": "",
           "title": {
            "standoff": 15
           },
           "zerolinecolor": "white",
           "zerolinewidth": 2
          },
          "yaxis": {
           "automargin": true,
           "gridcolor": "white",
           "linecolor": "white",
           "ticks": "",
           "title": {
            "standoff": 15
           },
           "zerolinecolor": "white",
           "zerolinewidth": 2
          }
         }
        },
        "title": {
         "text": "Difference in Accuracy (Young - Old)"
        },
        "xaxis": {
         "anchor": "y",
         "domain": [
          0,
          1
         ],
         "range": [
          -5,
          5
         ],
         "title": {
          "text": "value"
         }
        },
        "yaxis": {
         "anchor": "x",
         "domain": [
          0,
          1
         ],
         "title": {
          "text": "probability"
         }
        }
       }
      }
     },
     "metadata": {},
     "output_type": "display_data"
    }
   ],
   "source": [
    "fig = pd.Series(diff_in_acc).plot(kind='hist', histnorm='probability', nbins=20,\n",
    "                            title='Difference in Accuracy (Young - Old)')\n",
    "fig.add_vline(x=obs, line_color='red')\n",
    "fig.update_layout(xaxis_range=[-5, 5])\n",
    "fig.add_annotation(text='<span style=\"color:red\">Observed Difference in Accuracy</span>', x=-0.075,showarrow=False, y=0.17)"
   ]
  },
  {
   "cell_type": "code",
   "execution_count": null,
   "metadata": {
    "vscode": {
     "languageId": "shellscript"
    }
   },
   "outputs": [
    {
     "name": "stdout",
     "output_type": "stream",
     "text": [
      "Collecting kaleido\n",
      "  Downloading kaleido-0.2.1-py2.py3-none-manylinux1_x86_64.whl (79.9 MB)\n",
      "\u001b[2K     \u001b[38;2;114;156;31m━━━━━━━━━━━━━━━━━━━━━━━━━━━━━━━━━━━━━━━━\u001b[0m \u001b[32m79.9/79.9 MB\u001b[0m \u001b[31m7.4 MB/s\u001b[0m eta \u001b[36m0:00:00\u001b[0m0m eta \u001b[36m0:00:01\u001b[0m[36m0:00:01\u001b[0m\n",
      "\u001b[?25hInstalling collected packages: kaleido\n",
      "Successfully installed kaleido-0.2.1\n",
      "Note: you may need to restart the kernel to use updated packages.\n"
     ]
    }
   ],
   "source": [
    "pip install -U kaleido"
   ]
  },
  {
   "cell_type": "code",
   "execution_count": null,
   "metadata": {
    "ExecuteTime": {
     "end_time": "2019-10-31T23:36:28.666489Z",
     "start_time": "2019-10-31T23:36:28.664381Z"
    }
   },
   "outputs": [
    {
     "ename": "ValueError",
     "evalue": "\nImage export using the \"kaleido\" engine requires the kaleido package,\nwhich can be installed using pip:\n    $ pip install -U kaleido\n",
     "output_type": "error",
     "traceback": [
      "\u001b[0;31m---------------------------------------------------------------------------\u001b[0m",
      "\u001b[0;31mValueError\u001b[0m                                Traceback (most recent call last)",
      "Cell \u001b[0;32mIn[624], line 1\u001b[0m\n\u001b[0;32m----> 1\u001b[0m fig\u001b[39m.\u001b[39;49mwrite_image(\u001b[39m'\u001b[39;49m\u001b[39moutput_plot.png\u001b[39;49m\u001b[39m'\u001b[39;49m)\n",
      "File \u001b[0;32m~/anaconda3/envs/dsc80/lib/python3.8/site-packages/plotly/basedatatypes.py:3821\u001b[0m, in \u001b[0;36mBaseFigure.write_image\u001b[0;34m(self, *args, **kwargs)\u001b[0m\n\u001b[1;32m   3761\u001b[0m \u001b[39m\u001b[39m\u001b[39m\"\"\"\u001b[39;00m\n\u001b[1;32m   3762\u001b[0m \u001b[39mConvert a figure to a static image and write it to a file or writeable\u001b[39;00m\n\u001b[1;32m   3763\u001b[0m \u001b[39mobject\u001b[39;00m\n\u001b[0;32m   (...)\u001b[0m\n\u001b[1;32m   3817\u001b[0m \u001b[39mNone\u001b[39;00m\n\u001b[1;32m   3818\u001b[0m \u001b[39m\"\"\"\u001b[39;00m\n\u001b[1;32m   3819\u001b[0m \u001b[39mimport\u001b[39;00m \u001b[39mplotly\u001b[39;00m\u001b[39m.\u001b[39;00m\u001b[39mio\u001b[39;00m \u001b[39mas\u001b[39;00m \u001b[39mpio\u001b[39;00m\n\u001b[0;32m-> 3821\u001b[0m \u001b[39mreturn\u001b[39;00m pio\u001b[39m.\u001b[39;49mwrite_image(\u001b[39mself\u001b[39;49m, \u001b[39m*\u001b[39;49margs, \u001b[39m*\u001b[39;49m\u001b[39m*\u001b[39;49mkwargs)\n",
      "File \u001b[0;32m~/anaconda3/envs/dsc80/lib/python3.8/site-packages/plotly/io/_kaleido.py:267\u001b[0m, in \u001b[0;36mwrite_image\u001b[0;34m(fig, file, format, scale, width, height, validate, engine)\u001b[0m\n\u001b[1;32m    251\u001b[0m             \u001b[39mraise\u001b[39;00m \u001b[39mValueError\u001b[39;00m(\n\u001b[1;32m    252\u001b[0m \u001b[39m                \u001b[39m\u001b[39m\"\"\"\u001b[39;00m\n\u001b[1;32m    253\u001b[0m \u001b[39mCannot infer image type from output path '{file}'.\u001b[39;00m\n\u001b[0;32m   (...)\u001b[0m\n\u001b[1;32m    261\u001b[0m                 )\n\u001b[1;32m    262\u001b[0m             )\n\u001b[1;32m    264\u001b[0m     \u001b[39m# Request image\u001b[39;00m\n\u001b[1;32m    265\u001b[0m     \u001b[39m# -------------\u001b[39;00m\n\u001b[1;32m    266\u001b[0m     \u001b[39m# Do this first so we don't create a file if image conversion fails\u001b[39;00m\n\u001b[0;32m--> 267\u001b[0m     img_data \u001b[39m=\u001b[39m to_image(\n\u001b[1;32m    268\u001b[0m         fig,\n\u001b[1;32m    269\u001b[0m         \u001b[39mformat\u001b[39;49m\u001b[39m=\u001b[39;49m\u001b[39mformat\u001b[39;49m,\n\u001b[1;32m    270\u001b[0m         scale\u001b[39m=\u001b[39;49mscale,\n\u001b[1;32m    271\u001b[0m         width\u001b[39m=\u001b[39;49mwidth,\n\u001b[1;32m    272\u001b[0m         height\u001b[39m=\u001b[39;49mheight,\n\u001b[1;32m    273\u001b[0m         validate\u001b[39m=\u001b[39;49mvalidate,\n\u001b[1;32m    274\u001b[0m         engine\u001b[39m=\u001b[39;49mengine,\n\u001b[1;32m    275\u001b[0m     )\n\u001b[1;32m    277\u001b[0m     \u001b[39m# Open file\u001b[39;00m\n\u001b[1;32m    278\u001b[0m     \u001b[39m# ---------\u001b[39;00m\n\u001b[1;32m    279\u001b[0m     \u001b[39mif\u001b[39;00m path \u001b[39mis\u001b[39;00m \u001b[39mNone\u001b[39;00m:\n\u001b[1;32m    280\u001b[0m         \u001b[39m# We previously failed to make sense of `file` as a pathlib object.\u001b[39;00m\n\u001b[1;32m    281\u001b[0m         \u001b[39m# Attempt to write to `file` as an open file descriptor.\u001b[39;00m\n",
      "File \u001b[0;32m~/anaconda3/envs/dsc80/lib/python3.8/site-packages/plotly/io/_kaleido.py:133\u001b[0m, in \u001b[0;36mto_image\u001b[0;34m(fig, format, width, height, scale, validate, engine)\u001b[0m\n\u001b[1;32m    131\u001b[0m     \u001b[39m# Raise informative error message if Kaleido is not installed\u001b[39;00m\n\u001b[1;32m    132\u001b[0m     \u001b[39mif\u001b[39;00m scope \u001b[39mis\u001b[39;00m \u001b[39mNone\u001b[39;00m:\n\u001b[0;32m--> 133\u001b[0m         \u001b[39mraise\u001b[39;00m \u001b[39mValueError\u001b[39;00m(\n\u001b[1;32m    134\u001b[0m \u001b[39m            \u001b[39m\u001b[39m\"\"\"\u001b[39;00m\n\u001b[1;32m    135\u001b[0m \u001b[39mImage export using the \"kaleido\" engine requires the kaleido package,\u001b[39;00m\n\u001b[1;32m    136\u001b[0m \u001b[39mwhich can be installed using pip:\u001b[39;00m\n\u001b[1;32m    137\u001b[0m \u001b[39m    $ pip install -U kaleido\u001b[39;00m\n\u001b[1;32m    138\u001b[0m \u001b[39m\"\"\"\u001b[39;00m\n\u001b[1;32m    139\u001b[0m         )\n\u001b[1;32m    141\u001b[0m     \u001b[39m# Validate figure\u001b[39;00m\n\u001b[1;32m    142\u001b[0m     \u001b[39m# ---------------\u001b[39;00m\n\u001b[1;32m    143\u001b[0m     fig_dict \u001b[39m=\u001b[39m validate_coerce_fig_to_dict(fig, validate)\n",
      "\u001b[0;31mValueError\u001b[0m: \nImage export using the \"kaleido\" engine requires the kaleido package,\nwhich can be installed using pip:\n    $ pip install -U kaleido\n"
     ]
    }
   ],
   "source": [
    "fig.write_image('output_plot.png')"
   ]
  }
 ],
 "metadata": {
  "kernelspec": {
   "display_name": "Python 3 (ipykernel)",
   "language": "python",
   "name": "python3"
  },
  "language_info": {
   "codemirror_mode": {
    "name": "ipython",
    "version": 3
   },
   "file_extension": ".py",
   "mimetype": "text/x-python",
   "name": "python",
   "nbconvert_exporter": "python",
   "pygments_lexer": "ipython3",
   "version": "3.8.16"
  }
 },
 "nbformat": 4,
 "nbformat_minor": 2
}
